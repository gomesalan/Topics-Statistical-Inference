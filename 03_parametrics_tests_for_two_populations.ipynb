{
 "cells": [
  {
   "cell_type": "code",
   "execution_count": 1,
   "id": "3dff3130",
   "metadata": {},
   "outputs": [],
   "source": [
    "import numpy as np \n",
    "import scipy.stats as st\n",
    "from scipy.stats import shapiro\n",
    "from scipy.stats import norm\n",
    "from scipy.stats import f\n",
    "import statsmodels.api as sm"
   ]
  },
  {
   "cell_type": "markdown",
   "id": "3196eddc",
   "metadata": {},
   "source": [
    "### 1) Médias de duas Populações independentes - com $σ^2$  conhecidos"
   ]
  },
  {
   "cell_type": "markdown",
   "id": "d4f8873a",
   "metadata": {},
   "source": [
    "Uma transportadora de mercadorias tem duas possibilidades de trajeto para realizar entregas. O gerente de logística desconfia não haver diferença significativa entre o tempo de cada trajeto. Foram selecionadas aleatoriamente 45 entregas realizadas no primeiro trajeto, resultando em uma média amostral de 57 minutos. No segundo trajeto, foram selecionadas aleatoriamente 30 entregas, e o tempo médio foi de 54 minutos. O desvio-padrão populacional do primeiro trajeto é de $σ^2_1$ = 8 minutos, e o do segundo trajeto é de $σ^2_2$ = 6 minutos. Teste a hipótese de que não existe diferença significativa entre o tempo médio dos dois trajetos, ao nível de 1% de significância."
   ]
  },
  {
   "cell_type": "code",
   "execution_count": 2,
   "id": "7f6a833f",
   "metadata": {},
   "outputs": [],
   "source": [
    "Amostra_trajeto1 = [50.86, 63.98, 58.47, 74.52, 50.53, 50.28, 52.2, 40.01, 52.79, 50.93, 58.2, 59.73, 72.01, \n",
    "                    64.6, 52.38, 49.81, 60.94, 46.44, 71.65, 66.44, 53.25, 43.29, 67.83, 56.08, 66.9, 44.24,\n",
    "                    52.2, 57.04, 57.38, 53.4, 61.98, 48.46, 55.86, 57.96, 61.12, 62.69, 48.0, 44.73, 67.22, \n",
    "                    59.66, 51.01, 69.41, 57.93, 66.43, 57.54]\n",
    "\n",
    "Amostra_trajeto2 = [66.36, 64.53, 52.51, 59.83, 57.87, 62.21, 48.21, 58.12, 60.35, 43.45, 46.9, 41.76,\n",
    "                   52.38, 58.31, 63.01, 54.44, 63.77, 45.72, 43.78, 53.67, 56.3, 53.8, 41.6, 53.47, \n",
    "                   46.17, 58.02, 56.2, 48.36, 50.92, 47.64]\n",
    "\n",
    "\n",
    "n1, n2 = len(Amostra_trajeto1), len(Amostra_trajeto2)"
   ]
  },
  {
   "cell_type": "code",
   "execution_count": 3,
   "id": "d7a6a42b",
   "metadata": {},
   "outputs": [
    {
     "name": "stdout",
     "output_type": "stream",
     "text": [
      "Não rejeitamos a Hipótese Nula - Os dados 1 possuem dist. Normal\n",
      "Não rejeitamos a Hipótese Nula - Os dados 2 possuem dist. Normal\n"
     ]
    }
   ],
   "source": [
    "alpha = 0.05\n",
    "\n",
    "stat_test, p_valor = shapiro(Amostra_trajeto1) \n",
    "\n",
    "if(p_valor <= alpha): \n",
    "    print('Rejeitamos a Hipótese Nula - Os dados 1 não possuem dist. Normal')\n",
    "else:\n",
    "    print('Não rejeitamos a Hipótese Nula - Os dados 1 possuem dist. Normal')\n",
    "    \n",
    "stat_test, p_valor = shapiro(Amostra_trajeto2) \n",
    "\n",
    "if(p_valor <= alpha): \n",
    "    print('Rejeitamos a Hipótese Nula - Os dados 2 não possuem dist. Normal')\n",
    "else:\n",
    "    print('Não rejeitamos a Hipótese Nula - Os dados 2 possuem dist. Normal')"
   ]
  },
  {
   "cell_type": "code",
   "execution_count": 4,
   "id": "85c5bbeb",
   "metadata": {},
   "outputs": [],
   "source": [
    "def two_sample_ztest(sample1, sample2, sigma1_squared, sigma2_squared, alpha=0.05, alternative=\"two-sided\"):\n",
    "    \"\"\"\n",
    "    Realiza um teste de hipóteses para as médias de duas populações independentes com variâncias conhecidas.\n",
    "\n",
    "    Argumentos:\n",
    "    - sample1, sample2: As amostras das duas populações.\n",
    "    - sigma1_squared, sigma2_squared: As variâncias conhecidas das populações.\n",
    "    - alpha: Nível de significância (padrão: 0.05).\n",
    "    - alternative: Especifica a hipótese alternativa. Pode ser \"two-sided\" (padrão), \"less\" (menor) ou \"greater\" (maior).\n",
    "\n",
    "    Retorna:\n",
    "    - estatistica_teste: A estatística de teste.\n",
    "    - p_valor: O valor p do teste de hipóteses.\n",
    "    - rejeitar_nula: Um booleano indicando se a hipótese nula é rejeitada.\n",
    "    - intervalo_confianca: O intervalo de confiança para a diferença das médias.\n",
    "    - valor_critico: O valor crítico para o teste de hipótese com base na hipótese alternativa.\n",
    "    \"\"\"\n",
    "    # Tamanho das amostras\n",
    "    n1, n2 = len(sample1), len(sample2)\n",
    "\n",
    "    # Médias das amostras\n",
    "    mean1, mean2 = np.mean(sample1).round(0), np.mean(sample2).round(0)\n",
    "\n",
    "    # Diferença das médias\n",
    "    mean_difference = mean1 - mean2\n",
    "\n",
    "    # Desvio padrão combinado\n",
    "    combined_std = np.sqrt((sigma1_squared / n1) + (sigma2_squared / n2)).round(6)\n",
    "\n",
    "    # Estatística de teste\n",
    "    z_statistic = mean_difference / combined_std\n",
    "\n",
    "    # Teste de hipóteses\n",
    "    if alternative == \"two-sided\":\n",
    "        p_value = 2 * (1 - norm.cdf(np.abs(z_statistic)))\n",
    "        valor_critico = norm.ppf(1 - alpha / 2)\n",
    "    elif alternative == \"less\":\n",
    "        p_value = norm.cdf(z_statistic)\n",
    "        valor_critico = norm.ppf(alpha)\n",
    "    elif alternative == \"greater\":\n",
    "        p_value = 1 - norm.cdf(z_statistic)\n",
    "        valor_critico = norm.ppf(1 - alpha)\n",
    "    else:\n",
    "        raise ValueError(\"O argumento 'alternative' deve ser 'two-sided', 'less' ou 'greater'.\")\n",
    "\n",
    "    # Prints solicitados\n",
    "    print(\"O tamanho da amostra 1 é de:\", n1)\n",
    "    print(\"O tamanho da amostra 2 é de:\", n2)\n",
    "    print(\"A variância da população  1 é:\", sigma1_squared)\n",
    "    print(\"A variância da população 2 é:\", sigma2_squared)\n",
    "    print(\"Valor Crítico:\", valor_critico.round(3))\n",
    "\n",
    "    # Testar a hipótese nula\n",
    "    print(\"Estatística de teste:\", z_statistic.round(3))\n",
    "    print(\"P-valor:\", p_value.round(3))\n",
    "    if(p_value <  alpha):\n",
    "        print(\"Rejeitamos a Hipótese Nula\")\n",
    "    else:\n",
    "        print(\"Não rejeitamos a Hipótese Nula\")\n",
    "\n",
    "    return z_statistic, p_value, valor_critico"
   ]
  },
  {
   "cell_type": "code",
   "execution_count": 5,
   "id": "2d6e91f4",
   "metadata": {},
   "outputs": [
    {
     "name": "stdout",
     "output_type": "stream",
     "text": [
      "O tamanho da amostra 1 é de: 45\n",
      "O tamanho da amostra 2 é de: 30\n",
      "A variância da população  1 é: 64\n",
      "A variância da população 2 é: 36\n",
      "Valor Crítico: 2.576\n",
      "Estatística de teste: 1.853\n",
      "P-valor: 0.064\n",
      "Não rejeitamos a Hipótese Nula\n"
     ]
    }
   ],
   "source": [
    "sigma1 = 8**2\n",
    "sigma2 = 6**2\n",
    "\n",
    "resultado_teste = two_sample_ztest(Amostra_trajeto1, Amostra_trajeto2, sigma1, sigma2, alpha=0.01, alternative=\"two-sided\")"
   ]
  },
  {
   "cell_type": "markdown",
   "id": "5ab1fb2b",
   "metadata": {},
   "source": [
    "### 2) Médias de duas Populações independentes - com $σ^2$  desconhecidos\n",
    "\n",
    "#### a) Variancias iguais $σ_1^2 = σ_2^2$"
   ]
  },
  {
   "cell_type": "markdown",
   "id": "180acf5f",
   "metadata": {},
   "source": [
    "Em uma avaliação de estatística, foi selecionada uma amostra de 12 alunos da turma A, resultando em uma média de 7.9 com desvio-padrão 0.6. Na turma B, foram selecionados 15 alunos, os quais tiraram nota média 6.7 com desvio-padrão 0.8. Foram feitos testes de normalidade e igualdade das variâncias e determinou se que as notas possuem distribuição normal e $σ_1^2 = σ_2^2$. Teste a hipótese de que a turma A tem média maior do que a turma B, com um nível de significância de 1%."
   ]
  },
  {
   "cell_type": "code",
   "execution_count": 6,
   "id": "aeae8872",
   "metadata": {},
   "outputs": [],
   "source": [
    "TurmaA = [8.04, 7.76, 7.8, 8.46, 8.82, 7.88, 7.4, 7.05, 8.63, 8.25, 8.01, 6.94]\n",
    "TurmaB = [7.94, 6.07, 6.44, 7.35, 5.72, 6.88, 7.75, 5.41, 6.85, 6.91, 7.33, 5.71, 5.64, 7.12, 6.94]"
   ]
  },
  {
   "cell_type": "markdown",
   "id": "1d71e3bc",
   "metadata": {},
   "source": [
    "#### Teste de normalidade  "
   ]
  },
  {
   "cell_type": "code",
   "execution_count": 7,
   "id": "fc87f89c",
   "metadata": {
    "scrolled": true
   },
   "outputs": [
    {
     "name": "stdout",
     "output_type": "stream",
     "text": [
      "Não rejeitamos a Hipótese Nula - Os dados 1 possuem dist. Normal\n",
      "Não rejeitamos a Hipótese Nula - Os dados 2 possuem dist. Normal\n"
     ]
    }
   ],
   "source": [
    "stat_test, p_valor = shapiro(TurmaA) \n",
    "\n",
    "if(p_valor <= alpha): \n",
    "    print('Rejeitamos a Hipótese Nula - Os dados 1 não possuem dist. Normal')\n",
    "else:\n",
    "    print('Não rejeitamos a Hipótese Nula - Os dados 1 possuem dist. Normal')\n",
    "    \n",
    "stat_test, p_valor = shapiro(TurmaB) \n",
    "\n",
    "if(p_valor <= alpha): \n",
    "    print('Rejeitamos a Hipótese Nula - Os dados 2 não possuem dist. Normal')\n",
    "else:\n",
    "    print('Não rejeitamos a Hipótese Nula - Os dados 2 possuem dist. Normal')"
   ]
  },
  {
   "cell_type": "markdown",
   "id": "50633718",
   "metadata": {},
   "source": [
    "#### Teste de igualdade/homogeneidade das variâncias  "
   ]
  },
  {
   "cell_type": "code",
   "execution_count": 8,
   "id": "61706779",
   "metadata": {},
   "outputs": [
    {
     "name": "stdout",
     "output_type": "stream",
     "text": [
      "Teste de Bartlett - Estatística de Teste: 1.12, P-valor: 0.2906\n",
      "Não há evidências para rejeitar a hipótese nula. As variâncias são iguais.\n"
     ]
    }
   ],
   "source": [
    "stat_test, p_valor = st.bartlett(TurmaA, TurmaB)\n",
    "\n",
    "# Exibir os resultados de forma mais legível\n",
    "print(f\"Teste de Bartlett - Estatística de Teste: {round(stat_test, 2)}, P-valor: {round(p_valor, 4)}\")\n",
    "\n",
    "if p_valor < alpha:\n",
    "    print(\"Rejeita-se a hipótese nula. As variâncias não são iguais.\")\n",
    "else:\n",
    "    print(\"Não há evidências para rejeitar a hipótese nula. As variâncias são iguais.\")"
   ]
  },
  {
   "cell_type": "markdown",
   "id": "057ab261",
   "metadata": {},
   "source": [
    "#### Teste de hipotese independente - Vâriancias iguais $σ_1^2 = σ_2^2$"
   ]
  },
  {
   "cell_type": "code",
   "execution_count": 9,
   "id": "b5e4bfb2",
   "metadata": {},
   "outputs": [
    {
     "name": "stdout",
     "output_type": "stream",
     "text": [
      "Teste t de Student - Estatística de Teste: 4.52, P-valor: 0.0001\n",
      "Rejeita-se a hipótese nula. A média da Turma A é significativamente maior que a média da Turma B.\n"
     ]
    }
   ],
   "source": [
    "nivel_significancia = 0.01\n",
    "\n",
    "# Realizar o teste t de Student para médias independentes\n",
    "stat_test, p_valor = st.ttest_ind(a=TurmaA, b=TurmaB, equal_var=True, alternative='greater')\n",
    "\n",
    "print(f\"Teste t de Student - Estatística de Teste: {round(stat_test, 2)}, P-valor: {round(p_valor, 4)}\")\n",
    "\n",
    "if p_valor < nivel_significancia:\n",
    "    print(\"Rejeita-se a hipótese nula. A média da Turma A é significativamente maior que a média da Turma B.\")\n",
    "else:\n",
    "    print(\"Não há evidências para rejeitar a hipótese nula. Não podemos afirmar que a média da Turma A é maior que a média da Turma B.\")"
   ]
  },
  {
   "cell_type": "markdown",
   "id": "5c697da9",
   "metadata": {},
   "source": [
    "#### b) Vâriancias diferentes $σ_1^2 \\neq σ_2^2$"
   ]
  },
  {
   "cell_type": "markdown",
   "id": "5921b080",
   "metadata": {},
   "source": [
    "Uma pesquisa avaliou a eficácia de dois tipos de treinamento, com a finalidade de reduzir o tempo médio de determinada tarefa doméstica. Foram selecionadas duas amostras aleatórias e determinou-se através de testes de hipóteses que as populações possuem distribuição normal e $σ_1^2 \\neq σ_2^2$. Os dados da pesquisa estão abaixo. Teste a hipótese de que o tempo médio para a realização da tarefa é igual para os dois treinamentos, ao nível de 5% de significância."
   ]
  },
  {
   "cell_type": "code",
   "execution_count": 10,
   "id": "1e39b3c9",
   "metadata": {},
   "outputs": [],
   "source": [
    "Treinamento1 = [19.7, 23.36, 22.84, 26.06, 19.15, 25.66, 30.6, 19.89, 24.8, 22.11, 25.55, 24.26, 22.17, 25.74, 29.9]\n",
    "Treinamento2 = [16.06, 25.63, 36.46, 14.7, 23.74, 27.1, 24.52, 23.33, 17.4, 25.06]"
   ]
  },
  {
   "cell_type": "markdown",
   "id": "8489e778",
   "metadata": {},
   "source": [
    "#### Teste de normalidade"
   ]
  },
  {
   "cell_type": "code",
   "execution_count": 11,
   "id": "308cc4f8",
   "metadata": {},
   "outputs": [
    {
     "name": "stdout",
     "output_type": "stream",
     "text": [
      "Não rejeitamos a Hipótese Nula - Os dados 1 possuem dist. Normal\n",
      "Não rejeitamos a Hipótese Nula - Os dados 2 possuem dist. Normal\n"
     ]
    }
   ],
   "source": [
    "stat_test, p_valor = shapiro(Treinamento1) \n",
    "\n",
    "if(p_valor <= alpha): \n",
    "    print('Rejeitamos a Hipótese Nula - Os dados 1 não possuem dist. Normal')\n",
    "else:\n",
    "    print('Não rejeitamos a Hipótese Nula - Os dados 1 possuem dist. Normal')\n",
    "    \n",
    "stat_test, p_valor = shapiro(Treinamento2) \n",
    "\n",
    "if(p_valor <= alpha): \n",
    "    print('Rejeitamos a Hipótese Nula - Os dados 2 não possuem dist. Normal')\n",
    "else:\n",
    "    print('Não rejeitamos a Hipótese Nula - Os dados 2 possuem dist. Normal')"
   ]
  },
  {
   "cell_type": "markdown",
   "id": "6881b939",
   "metadata": {},
   "source": [
    "#### Teste de igualdade/homogeneidade das variâncias"
   ]
  },
  {
   "cell_type": "code",
   "execution_count": 12,
   "id": "45c6c8e1",
   "metadata": {},
   "outputs": [
    {
     "name": "stdout",
     "output_type": "stream",
     "text": [
      "Teste de Bartlett - Estatística de Teste: 4.25, P-valor: 0.0393\n",
      "Rejeita-se a hipótese nula. As variâncias não são iguais.\n"
     ]
    }
   ],
   "source": [
    "stat_test, p_valor = st.bartlett(Treinamento1, Treinamento2)\n",
    "\n",
    "# Exibir os resultados de forma mais legível\n",
    "print(f\"Teste de Bartlett - Estatística de Teste: {round(stat_test, 2)}, P-valor: {round(p_valor, 4)}\")\n",
    "\n",
    "if p_valor < alpha:\n",
    "    print(\"Rejeita-se a hipótese nula. As variâncias não são iguais.\")\n",
    "else:\n",
    "    print(\"Não há evidências para rejeitar a hipótese nula. As variâncias são iguais.\")"
   ]
  },
  {
   "cell_type": "markdown",
   "id": "a7bc61c7",
   "metadata": {},
   "source": [
    "#### Teste de hipotese independente - Variâncias diferentes  $σ_1^2 \\neq σ_2^2$"
   ]
  },
  {
   "cell_type": "code",
   "execution_count": 13,
   "id": "b22880cf",
   "metadata": {},
   "outputs": [
    {
     "name": "stdout",
     "output_type": "stream",
     "text": [
      "Teste t de Student - Estatística de Teste: 0.33, P-valor: 0.7467\n",
      "Não há evidências para rejeitar a hipótese nula. Não podemos afirmar que a média de tempo do Treinamento 1 é diferente da média de tempo do Treinamento 2.\n"
     ]
    }
   ],
   "source": [
    "nivel_significancia = 0.01\n",
    "\n",
    "stat_test, p_valor = st.ttest_ind(a=Treinamento1, b=Treinamento2, equal_var=False, alternative='two-sided')\n",
    "\n",
    "# print(f\"Região-crítica: {st.t.ppf(1 - nivel_significancia/2, 13).round(2)}\")\n",
    "    \n",
    "print(f\"Teste t de Student - Estatística de Teste: {round(stat_test, 2)}, P-valor: {round(p_valor, 4)}\")\n",
    "\n",
    "if p_valor < nivel_significancia:\n",
    "    print(\"Rejeita-se a hipótese nula. A média de tempo do Treinamento 1 é diferente da média de tempo do Treinamento 2.\")\n",
    "else:\n",
    "    print(\"Não há evidências para rejeitar a hipótese nula. Não podemos afirmar que a média de tempo do Treinamento 1 é diferente da média de tempo do Treinamento 2.\")"
   ]
  },
  {
   "cell_type": "markdown",
   "id": "395e8019",
   "metadata": {},
   "source": [
    "### 3) Proporções de duas Populações Independentes"
   ]
  },
  {
   "cell_type": "markdown",
   "id": "b56ebcb1",
   "metadata": {},
   "source": [
    "Em um estudo com 2870 motoristas, 1210 afirmaram ter o hábito de mexer no celular com o carro em\n",
    "movimento. Depois de sancionada uma multa, foi realizado outro estudo com 2200 motoristas, dos\n",
    "quais 725 afirmaram ter ainda o hábito. Usando um nível de significância de 10%, é possível verificar a alegação de que a proporção de motoristas com hábito de mexer no celular no trânsito diminuiu significativamente após a criação da multa?\n",
    "\n",
    "p = proporção de motorista que usam o celular com o carro em movimento. \n",
    "\n",
    "$$\\begin{cases} H_0 = p_1 - p_2  = 0\\\\H_1 = p_1 - p_2 > 0 \\end{cases} $$"
   ]
  },
  {
   "cell_type": "code",
   "execution_count": 14,
   "id": "d4340928",
   "metadata": {},
   "outputs": [],
   "source": [
    "# Dados de exemplo\n",
    "sucessos_A = 1210  # Número de motorista que afirmaram ter o hábito de mexer no celular com o carro em movimento\n",
    "total_A = 2870      # Número total de observações na amostra Antes da multa\n",
    "\n",
    "sucessos_B = 725  #  Número de motorista que afirmaram ter o hábito de mexer no celular com o carro em movimento\n",
    "total_B = 2200      # Número total de observações na amostra depois da multa"
   ]
  },
  {
   "cell_type": "code",
   "execution_count": 15,
   "id": "18741468",
   "metadata": {},
   "outputs": [
    {
     "name": "stdout",
     "output_type": "stream",
     "text": [
      "Rejeita-se a hipótese nula. Há evidências estatísticas de diferença nas proporções.\n",
      "Teste Z - Estatística de Teste: 6.687, P-valor: 0.0\n",
      "Região-crítica: 1.282\n"
     ]
    }
   ],
   "source": [
    "nivel_significancia = 0.10\n",
    "\n",
    "p_barra = (sucessos_A + sucessos_B) / (total_A + total_B)\n",
    "\n",
    "sucessos = [sucessos_A, sucessos_B]\n",
    "totais = [total_A, total_B]\n",
    "\n",
    "z_stat, p_value = sm.stats.proportions_ztest(sucessos, totais, prop_var = p_barra)\n",
    "\n",
    "if p_value < nivel_significancia:\n",
    "    print(\"Rejeita-se a hipótese nula. Há evidências estatísticas de diferença nas proporções.\")\n",
    "else:\n",
    "    print(\"Não há evidências para rejeitar a hipótese nula. Não há diferença estatisticamente significativa nas proporções.\")\n",
    "    \n",
    "print(f\"Teste Z - Estatística de Teste: {round(z_stat, 3)}, P-valor: {round(p_value, 4)}\")\n",
    "print(f\"Região-crítica: {norm.ppf(1 - nivel_significancia).round(3)}\")"
   ]
  },
  {
   "cell_type": "markdown",
   "id": "7876a235",
   "metadata": {},
   "source": [
    "### 4) Teste de hipotese Dependente - Média de duas populações dependentes"
   ]
  },
  {
   "cell_type": "markdown",
   "id": "4f69346c",
   "metadata": {},
   "source": [
    "Em uma fábrica, sete máquinas foram selecionadas aleatoriamente a fim de determinar o efeito da manutenção preventiva na produção. Inicialmente, as máquinas trabalharam por um período na forma habitual, e depois trabalham o mesmo período recebendo manutenções preventivas. O total de trabalho produzido, antes e depois da adoção das manutenções, está na tabela ao lado. Ao nível de 5%, podemos concluir que o trabalho médio produzido é maior depois da adoção das manutenções preventivas? \n",
    "\n",
    "A função *ttest_reg* testa a hipótese nula $H_0$ de que a diferença das médias é igual a zero.\n",
    "\n",
    "$$\\begin{cases} H_0 = \\text{Trabalho produzido antes da manutenção e após a manutenção = 0 } =>  \\mu_d =0\\\\H_1 = \\text{Trabalho produzido antes da manutenção <  após a manutenção} < 0 => \\mu_d < 0 \\end{cases} $$"
   ]
  },
  {
   "cell_type": "code",
   "execution_count": 16,
   "id": "def41783",
   "metadata": {},
   "outputs": [
    {
     "data": {
      "text/plain": [
       "array([-0.4, -3.7, -1.8, -1.2,  1.2, -4.1, -0.2])"
      ]
     },
     "execution_count": 16,
     "metadata": {},
     "output_type": "execute_result"
    }
   ],
   "source": [
    "dados_antes = np.array([12.10, 12.30, 11.10, 12.80, 14.10, 8.40, 13.30])\n",
    "dados_depois = np.array([12.50, 16.00, 12.90, 14.00, 12.90, 12.50, 13.50])\n",
    "\n",
    "diferenca = dados_antes - dados_depois \n",
    "diferenca"
   ]
  },
  {
   "cell_type": "markdown",
   "id": "3b4e7f40",
   "metadata": {},
   "source": [
    "#### Teste de normalidade "
   ]
  },
  {
   "cell_type": "code",
   "execution_count": 17,
   "id": "5d906986",
   "metadata": {},
   "outputs": [
    {
     "name": "stdout",
     "output_type": "stream",
     "text": [
      "Não rejeitamos a Hipótese Nula - A diferenca possui dist. Normal\n"
     ]
    }
   ],
   "source": [
    "alpha = 0.05 \n",
    "\n",
    "stat_test, p_valor = shapiro(diferenca) \n",
    "\n",
    "if(p_valor <= alpha): \n",
    "    print('Rejeitamos a Hipótese Nula - A diferenca não possui dist. Normal')\n",
    "else:\n",
    "    print('Não rejeitamos a Hipótese Nula - A diferenca possui dist. Normal')"
   ]
  },
  {
   "cell_type": "markdown",
   "id": "92b60a39",
   "metadata": {},
   "source": [
    "#### Teste de hipotese pop dependente"
   ]
  },
  {
   "cell_type": "code",
   "execution_count": 18,
   "id": "0cd5f801",
   "metadata": {},
   "outputs": [
    {
     "name": "stdout",
     "output_type": "stream",
     "text": [
      "Teste t de Student - Estatística de Teste: -2.015, P-valor: 0.0452\n",
      "Rejeita-se a hipótese nula.\n"
     ]
    }
   ],
   "source": [
    "alpha = 0.05\n",
    "\n",
    "stat_test, p_valor = st.ttest_rel(dados_antes, dados_depois, alternative='less')\n",
    "\n",
    "print(f\"Teste t de Student - Estatística de Teste: {round(stat_test, 3)}, P-valor: {round(p_valor, 4)}\")\n",
    "    \n",
    "if p_valor < alpha:\n",
    "    print(\"Rejeita-se a hipótese nula.\")\n",
    "else:\n",
    "    print(\"Não há evidências para rejeitar a hipótese nula.\")"
   ]
  },
  {
   "cell_type": "markdown",
   "id": "892436a3",
   "metadata": {},
   "source": [
    "### 5) Teste para as Variâncias de duas populações"
   ]
  },
  {
   "cell_type": "markdown",
   "id": "509f5b2d",
   "metadata": {},
   "source": [
    "Nos EUA, as moedas de quarto de dólar sofreram alterações no peso depois de 1964. Uma amostra de 40 moedas fabricadas antes de 1964 resultou em um desvio-padrão de 0.087 g.  Uma amostra de 40 moedas fabricadas depois de 1964 resultou em um desvio-padrão de 0.06194 g. Ao se projetar uma máquina de vendas com moedas, deve-se considerar os desvios-padrão antes e depois de 1964. Use o nível de significância de 5% para testar a afirmativa de que os pesos de quarto de dólar antes e depois de 1964 são provenientes de populações com o mesmo desvio-padrão. "
   ]
  },
  {
   "cell_type": "code",
   "execution_count": 19,
   "id": "96e142a7",
   "metadata": {},
   "outputs": [],
   "source": [
    "Antes_1964 = [6.31, 6.3, 6.35, 6.16, 6.06, 6.33, 6.19, 6.08, 6.27, 6.33, \n",
    "              6.25, 6.22, 6.25, 6.23, 6.14, 6.2, 6.31, 6.29, 6.27, 6.17, \n",
    "              6.24, 6.07, 6.28, 6.38, 6.13, 6.21, 6.29, 6.37, 6.22, 6.2, \n",
    "              6.09, 6.27, 6.44, 6.28, 6.26, 6.29, 6.26, 6.19, 6.33, 6.28]\n",
    "\n",
    "\n",
    "Depois_1964 = [6.31, 6.36, 6.21, 6.29, 6.32, 6.26, 6.12, 6.28, 6.31, 6.2, 6.24, 6.19, 6.1, 6.32,\n",
    "               6.26, 6.36, 6.31, 6.24, 6.25, 6.3, 6.32, 6.28, 6.33, 6.24, 6.2, 6.26, 6.27, 6.19,\n",
    "               6.18, 6.29, 6.23, 6.25, 6.24, 6.35, 6.34, 6.18, 6.23, 6.32, 6.3, 6.3]"
   ]
  },
  {
   "cell_type": "markdown",
   "id": "06c197dc",
   "metadata": {},
   "source": [
    "#### Teste de normalidade "
   ]
  },
  {
   "cell_type": "code",
   "execution_count": 20,
   "id": "5248834d",
   "metadata": {},
   "outputs": [
    {
     "name": "stdout",
     "output_type": "stream",
     "text": [
      "Não rejeitamos a Hipótese Nula - Os dados Antes_1964 possuem dist. Normal\n",
      "Não rejeitamos a Hipótese Nula - Os dados Depois_1964 possuem dist. Normal\n"
     ]
    }
   ],
   "source": [
    "alpha = 0.05 \n",
    "\n",
    "stat_test, p_valor = shapiro(Antes_1964) \n",
    "\n",
    "if(p_valor <= alpha): \n",
    "    print('Rejeitamos a Hipótese Nula - Os dados Antes_1964 não possuem dist. Normal')\n",
    "else:\n",
    "    print('Não rejeitamos a Hipótese Nula - Os dados Antes_1964 possuem dist. Normal')\n",
    "    \n",
    "stat_test, p_valor = shapiro(Depois_1964) \n",
    "\n",
    "if(p_valor <= alpha): \n",
    "    print('Rejeitamos a Hipótese Nula - Os dados Depois_1964 não possuem dist. Normal')\n",
    "else:\n",
    "    print('Não rejeitamos a Hipótese Nula - Os dados Depois_1964 possuem dist. Normal')"
   ]
  },
  {
   "cell_type": "markdown",
   "id": "d6953235",
   "metadata": {},
   "source": [
    "#### Teste de hipotese - duas populações independentes - teste da variância  "
   ]
  },
  {
   "cell_type": "code",
   "execution_count": 21,
   "id": "3a0bec47",
   "metadata": {},
   "outputs": [
    {
     "name": "stdout",
     "output_type": "stream",
     "text": [
      "Não há evidências para rejeitar a hipótese nula. As variâncias são iguais.\n",
      "F-statistic: 1.968\n",
      "P-value: 0.0374\n",
      "Critical Region: F > 1.89\n"
     ]
    }
   ],
   "source": [
    "alpha = 0.05\n",
    "\n",
    "variance_group1 = np.var(Antes_1964, ddof=1)\n",
    "variance_group2 = np.var(Depois_1964, ddof=1)\n",
    "\n",
    "F_statistic = variance_group1 / variance_group2\n",
    "\n",
    "df_num = len(Antes_1964) - 1\n",
    "df_den = len(Depois_1964) - 1\n",
    "\n",
    "p_value = 2 * (1 - f.cdf(F_statistic, df_num, df_den))\n",
    "critical_value = f.ppf(1 - alpha / 2, df_num, df_den)\n",
    "\n",
    "if p_valor < alpha:\n",
    "    print(\"Rejeita-se a hipótese nula. As variâncias não são iguais.\")\n",
    "else:\n",
    "    print(\"Não há evidências para rejeitar a hipótese nula. As variâncias são iguais.\")\n",
    "    \n",
    "print(f\"F-statistic: {round(F_statistic, 3)}\")\n",
    "print(f\"P-value: {round(p_value, 4)}\")\n",
    "print(f\"Critical Region: F > {round(critical_value, 2)}\")"
   ]
  },
  {
   "cell_type": "code",
   "execution_count": null,
   "id": "3a34584e",
   "metadata": {},
   "outputs": [],
   "source": []
  }
 ],
 "metadata": {
  "kernelspec": {
   "display_name": "Python 3 (ipykernel)",
   "language": "python",
   "name": "python3"
  },
  "language_info": {
   "codemirror_mode": {
    "name": "ipython",
    "version": 3
   },
   "file_extension": ".py",
   "mimetype": "text/x-python",
   "name": "python",
   "nbconvert_exporter": "python",
   "pygments_lexer": "ipython3",
   "version": "3.11.7"
  }
 },
 "nbformat": 4,
 "nbformat_minor": 5
}
