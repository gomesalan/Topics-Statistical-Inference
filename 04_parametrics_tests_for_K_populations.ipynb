{
 "cells": [
  {
   "cell_type": "code",
   "execution_count": 1,
   "id": "610bfad0",
   "metadata": {},
   "outputs": [],
   "source": [
    "import pandas as pd\n",
    "from scipy.stats import shapiro\n",
    "import scipy.stats as st\n",
    "import statsmodels.api as sm\n",
    "from statsmodels.formula.api import ols\n",
    "from statsmodels.stats.multicomp import pairwise_tukeyhsd\n",
    "import pingouin as pg"
   ]
  },
  {
   "cell_type": "markdown",
   "id": "777ed6e5",
   "metadata": {},
   "source": [
    "### ANOVA UMA VIA/UM FATOR "
   ]
  },
  {
   "cell_type": "markdown",
   "id": "1d05676e",
   "metadata": {},
   "source": [
    "$$H_0: \\mu_1 = \\mu_2 = \\mu_3 ...= \\mu_k \\text{ (todas as médias são iguais)}\\\\H_1: \\text{Pelo menos uma é diferente das demais} $$"
   ]
  },
  {
   "cell_type": "code",
   "execution_count": 2,
   "id": "f6548021",
   "metadata": {},
   "outputs": [
    {
     "data": {
      "text/html": [
       "<div>\n",
       "<style scoped>\n",
       "    .dataframe tbody tr th:only-of-type {\n",
       "        vertical-align: middle;\n",
       "    }\n",
       "\n",
       "    .dataframe tbody tr th {\n",
       "        vertical-align: top;\n",
       "    }\n",
       "\n",
       "    .dataframe thead th {\n",
       "        text-align: right;\n",
       "    }\n",
       "</style>\n",
       "<table border=\"1\" class=\"dataframe\">\n",
       "  <thead>\n",
       "    <tr style=\"text-align: right;\">\n",
       "      <th></th>\n",
       "      <th>Sujeito</th>\n",
       "      <th>Grupo</th>\n",
       "      <th>Pressao</th>\n",
       "      <th>BC</th>\n",
       "      <th>Triglicerides</th>\n",
       "      <th>Glicemia</th>\n",
       "    </tr>\n",
       "  </thead>\n",
       "  <tbody>\n",
       "    <tr>\n",
       "      <th>0</th>\n",
       "      <td>21</td>\n",
       "      <td>Placebo</td>\n",
       "      <td>175.33</td>\n",
       "      <td>356.33</td>\n",
       "      <td>65.84</td>\n",
       "      <td>93</td>\n",
       "    </tr>\n",
       "    <tr>\n",
       "      <th>1</th>\n",
       "      <td>30</td>\n",
       "      <td>Placebo</td>\n",
       "      <td>158.00</td>\n",
       "      <td>378.00</td>\n",
       "      <td>148.15</td>\n",
       "      <td>109</td>\n",
       "    </tr>\n",
       "    <tr>\n",
       "      <th>2</th>\n",
       "      <td>27</td>\n",
       "      <td>Placebo</td>\n",
       "      <td>163.67</td>\n",
       "      <td>397.33</td>\n",
       "      <td>115.23</td>\n",
       "      <td>112</td>\n",
       "    </tr>\n",
       "    <tr>\n",
       "      <th>3</th>\n",
       "      <td>20</td>\n",
       "      <td>Placebo</td>\n",
       "      <td>184.67</td>\n",
       "      <td>435.33</td>\n",
       "      <td>76.54</td>\n",
       "      <td>113</td>\n",
       "    </tr>\n",
       "    <tr>\n",
       "      <th>4</th>\n",
       "      <td>31</td>\n",
       "      <td>Placebo</td>\n",
       "      <td>171.67</td>\n",
       "      <td>365.33</td>\n",
       "      <td>73.25</td>\n",
       "      <td>115</td>\n",
       "    </tr>\n",
       "  </tbody>\n",
       "</table>\n",
       "</div>"
      ],
      "text/plain": [
       "   Sujeito    Grupo  Pressao      BC  Triglicerides  Glicemia\n",
       "0       21  Placebo   175.33  356.33          65.84        93\n",
       "1       30  Placebo   158.00  378.00         148.15       109\n",
       "2       27  Placebo   163.67  397.33         115.23       112\n",
       "3       20  Placebo   184.67  435.33          76.54       113\n",
       "4       31  Placebo   171.67  365.33          73.25       115"
      ]
     },
     "execution_count": 2,
     "metadata": {},
     "output_type": "execute_result"
    }
   ],
   "source": [
    "dados_tratamentos = pd.read_csv('Hipertensao.csv', sep= ';', decimal= ',')\n",
    "dados_tratamentos.head()"
   ]
  },
  {
   "cell_type": "code",
   "execution_count": 3,
   "id": "2df1b200",
   "metadata": {},
   "outputs": [
    {
     "data": {
      "text/plain": [
       "Grupo\n",
       "AH Novo      168.22\n",
       "AH Padrao    159.40\n",
       "Placebo      184.64\n",
       "Name: Pressao, dtype: float64"
      ]
     },
     "execution_count": 3,
     "metadata": {},
     "output_type": "execute_result"
    }
   ],
   "source": [
    "dados_tratamentos.groupby(by='Grupo')['Pressao'].mean().round(2)"
   ]
  },
  {
   "cell_type": "markdown",
   "id": "889359bb",
   "metadata": {},
   "source": [
    "#### Teste de normalidade dos dados"
   ]
  },
  {
   "cell_type": "code",
   "execution_count": 4,
   "id": "a408f5b7",
   "metadata": {},
   "outputs": [],
   "source": [
    "Placebo = dados_tratamentos.query('Grupo == \"Placebo\"').Pressao\n",
    "TratNovo = dados_tratamentos.query('Grupo == \"AH Novo\"').Pressao\n",
    "Padrao = dados_tratamentos.query('Grupo == \"AH Padrao\"').Pressao"
   ]
  },
  {
   "cell_type": "code",
   "execution_count": 5,
   "id": "68e9b02e",
   "metadata": {},
   "outputs": [
    {
     "name": "stdout",
     "output_type": "stream",
     "text": [
      "Não rejeitamos a Hipótese Nula - Os dados 1 possuem dist. Normal\n",
      "Não rejeitamos a Hipótese Nula - Os dados 2 possuem dist. Normal\n",
      "Não rejeitamos a Hipótese Nula - Os dados 3 possuem dist. Normal\n"
     ]
    }
   ],
   "source": [
    "alpha = 0.05\n",
    "\n",
    "stat_test, p_valor = shapiro(Placebo) \n",
    "\n",
    "if(p_valor <= alpha): \n",
    "    print('Rejeitamos a Hipótese Nula - Os dados 1 não possuem dist. Normal')\n",
    "else:\n",
    "    print('Não rejeitamos a Hipótese Nula - Os dados 1 possuem dist. Normal')\n",
    "    \n",
    "stat_test, p_valor = shapiro(TratNovo) \n",
    "\n",
    "if(p_valor <= alpha): \n",
    "    print('Rejeitamos a Hipótese Nula - Os dados 2 não possuem dist. Normal')\n",
    "else:\n",
    "    print('Não rejeitamos a Hipótese Nula - Os dados 2 possuem dist. Normal')\n",
    "    \n",
    "stat_test, p_valor = shapiro(Padrao) \n",
    "\n",
    "if(p_valor <= alpha): \n",
    "    print('Rejeitamos a Hipótese Nula - Os dados 3 não possuem dist. Normal')\n",
    "else:\n",
    "    print('Não rejeitamos a Hipótese Nula - Os dados 3 possuem dist. Normal')"
   ]
  },
  {
   "cell_type": "markdown",
   "id": "90166121",
   "metadata": {},
   "source": [
    "#### Teste de igualdade das variâncias (homogeneidade)"
   ]
  },
  {
   "cell_type": "code",
   "execution_count": 6,
   "id": "8f990d6a",
   "metadata": {},
   "outputs": [
    {
     "name": "stdout",
     "output_type": "stream",
     "text": [
      "Teste de Levene - Estatística de Teste: 0.47, P-valor: 0.6323\n",
      "Não há evidências para rejeitar a hipótese nula. As variâncias são iguais.\n"
     ]
    }
   ],
   "source": [
    "nivel_significancia = 0.05\n",
    "\n",
    "stat_test, p_valor = st.levene(Placebo, TratNovo, Padrao, center='mean')\n",
    "\n",
    "print(f\"Teste de Levene - Estatística de Teste: {round(stat_test, 2)}, P-valor: {round(p_valor, 4)}\")\n",
    "\n",
    "if p_valor < nivel_significancia:\n",
    "    print(\"Rejeita-se a hipótese nula. As variâncias não são iguais.\")\n",
    "else:\n",
    "    print(\"Não há evidências para rejeitar a hipótese nula. As variâncias são iguais.\")"
   ]
  },
  {
   "cell_type": "code",
   "execution_count": 7,
   "id": "f58d4d56",
   "metadata": {
    "scrolled": true
   },
   "outputs": [
    {
     "name": "stdout",
     "output_type": "stream",
     "text": [
      "Teste de Bartlett - Estatística de Teste: 1.58, P-valor: 0.4536\n",
      "Não há evidências para rejeitar a hipótese nula. As variâncias são iguais.\n"
     ]
    }
   ],
   "source": [
    "stat_test, p_valor = st.bartlett(Placebo, TratNovo, Padrao)\n",
    "\n",
    "print(f\"Teste de Bartlett - Estatística de Teste: {round(stat_test, 2)}, P-valor: {round(p_valor, 4)}\")\n",
    "\n",
    "if p_valor < nivel_significancia:\n",
    "    print(\"Rejeita-se a hipótese nula. As variâncias não são iguais.\")\n",
    "else:\n",
    "    print(\"Não há evidências para rejeitar a hipótese nula. As variâncias são iguais.\")"
   ]
  },
  {
   "cell_type": "markdown",
   "id": "b1e08320",
   "metadata": {},
   "source": [
    "#### Teste de hipóteses - ANOVA um fator "
   ]
  },
  {
   "cell_type": "code",
   "execution_count": 8,
   "id": "5c1686a6",
   "metadata": {},
   "outputs": [
    {
     "name": "stdout",
     "output_type": "stream",
     "text": [
      "Teste Anova de uma via - Estatística de Teste: 5.52, P-valor: 0.0095\n",
      "Rejeita-se a hipótese nula. Pelo menos uma média é diferente.\n"
     ]
    }
   ],
   "source": [
    "alpha = 0.05 \n",
    "\n",
    "stat_test, p_valor = st.f_oneway(Placebo, TratNovo, Padrao )\n",
    "\n",
    "# Exibir os resultados de forma mais legível\n",
    "print(f\"Teste Anova de uma via - Estatística de Teste: {round(stat_test, 2)}, P-valor: {round(p_valor, 4)}\")\n",
    "if p_valor < alpha:\n",
    "    print(\"Rejeita-se a hipótese nula. Pelo menos uma média é diferente.\")\n",
    "else:\n",
    "    print(\"Não há evidências para rejeitar a hipótese nula. As médias são iguais.\")"
   ]
  },
  {
   "cell_type": "markdown",
   "id": "f2647d5f",
   "metadata": {},
   "source": [
    "Podemos utilizar o OLS para calcular as informações do teste "
   ]
  },
  {
   "cell_type": "code",
   "execution_count": 9,
   "id": "389d0a3a",
   "metadata": {},
   "outputs": [
    {
     "data": {
      "text/html": [
       "<div>\n",
       "<style scoped>\n",
       "    .dataframe tbody tr th:only-of-type {\n",
       "        vertical-align: middle;\n",
       "    }\n",
       "\n",
       "    .dataframe tbody tr th {\n",
       "        vertical-align: top;\n",
       "    }\n",
       "\n",
       "    .dataframe thead th {\n",
       "        text-align: right;\n",
       "    }\n",
       "</style>\n",
       "<table border=\"1\" class=\"dataframe\">\n",
       "  <thead>\n",
       "    <tr style=\"text-align: right;\">\n",
       "      <th></th>\n",
       "      <th>df</th>\n",
       "      <th>sum_sq</th>\n",
       "      <th>mean_sq</th>\n",
       "      <th>F</th>\n",
       "      <th>PR(&gt;F)</th>\n",
       "    </tr>\n",
       "  </thead>\n",
       "  <tbody>\n",
       "    <tr>\n",
       "      <th>Grupo</th>\n",
       "      <td>2.0</td>\n",
       "      <td>3631.035134</td>\n",
       "      <td>1815.517567</td>\n",
       "      <td>5.520544</td>\n",
       "      <td>0.009526</td>\n",
       "    </tr>\n",
       "    <tr>\n",
       "      <th>Residual</th>\n",
       "      <td>28.0</td>\n",
       "      <td>9208.239137</td>\n",
       "      <td>328.865683</td>\n",
       "      <td>NaN</td>\n",
       "      <td>NaN</td>\n",
       "    </tr>\n",
       "  </tbody>\n",
       "</table>\n",
       "</div>"
      ],
      "text/plain": [
       "            df       sum_sq      mean_sq         F    PR(>F)\n",
       "Grupo      2.0  3631.035134  1815.517567  5.520544  0.009526\n",
       "Residual  28.0  9208.239137   328.865683       NaN       NaN"
      ]
     },
     "execution_count": 9,
     "metadata": {},
     "output_type": "execute_result"
    }
   ],
   "source": [
    "model = ols('Pressao ~ Grupo', data=dados_tratamentos).fit()\n",
    "anova_table = sm.stats.anova_lm(model, typ=1)\n",
    "anova_table"
   ]
  },
  {
   "cell_type": "markdown",
   "id": "94b899a7",
   "metadata": {},
   "source": [
    "#### Teste Post hoc - detectando quais grupos são diferentes"
   ]
  },
  {
   "cell_type": "markdown",
   "id": "7fc1bc10",
   "metadata": {},
   "source": [
    "a) Correção de Tukey "
   ]
  },
  {
   "cell_type": "code",
   "execution_count": 10,
   "id": "134d8d89",
   "metadata": {},
   "outputs": [
    {
     "name": "stdout",
     "output_type": "stream",
     "text": [
      "    Multiple Comparison of Means - Tukey HSD, FWER=0.05    \n",
      "===========================================================\n",
      "  group1    group2  meandiff p-adj   lower    upper  reject\n",
      "-----------------------------------------------------------\n",
      "  AH Novo AH Padrao  -8.8232 0.5469 -29.4402 11.7938  False\n",
      "  AH Novo   Placebo  16.4169 0.1183  -3.3695 36.2034  False\n",
      "AH Padrao   Placebo  25.2402 0.0082   6.0273  44.453   True\n",
      "-----------------------------------------------------------\n"
     ]
    }
   ],
   "source": [
    "m_comp = pairwise_tukeyhsd(endog=dados_tratamentos['Pressao'],\n",
    "                           groups=dados_tratamentos['Grupo'], alpha=alpha)\n",
    "print(m_comp)"
   ]
  },
  {
   "cell_type": "markdown",
   "id": "6c9b768b",
   "metadata": {},
   "source": [
    "Verificamos que existe diferença entre os tratamentos, ou seja há efeito do tratamento sobre a pressão arterial. O post-hoc do teste de Tukey hsd mostrou que existe diferença entre o **Placebo** e entre o grupo de anti hipertensivo padrão **AH Padrao**."
   ]
  },
  {
   "cell_type": "markdown",
   "id": "8cd4e306",
   "metadata": {},
   "source": [
    "b) Correção de Bonferroni "
   ]
  },
  {
   "cell_type": "code",
   "execution_count": 11,
   "id": "95fb9a78",
   "metadata": {},
   "outputs": [],
   "source": [
    "def testes_t_pareados_bonferroni(df, coluna_grupo, coluna_valor, alfa = 0.05):\n",
    "    from itertools import combinations\n",
    "\n",
    "    # Cria uma lista única de grupos\n",
    "    grupos = df[coluna_grupo].unique()\n",
    "    testes_t = []\n",
    "    \n",
    "    # Gera todas as combinações únicas de pares de grupos\n",
    "    combinacoes = combinations(grupos, 2)\n",
    "\n",
    "    # Itera pela lista de grupos\n",
    "    for grupo1, grupo2 in combinacoes:\n",
    "        tipo_1 = df[df[coluna_grupo] == grupo1]\n",
    "        tipo_2 = df[df[coluna_grupo] == grupo2]\n",
    "\n",
    "        t, p = st.ttest_ind(tipo_1[coluna_valor], tipo_2[coluna_valor])\n",
    "\n",
    "        # Adiciona cada resultado de teste t a uma lista de pares t, p\n",
    "        testes_t.append([grupo1 + ' - ' + grupo2, t.round(4), p.round(4)])\n",
    "\n",
    "        # Imprime os resultados\n",
    "        print(f'Resultados teste t: {grupo1}/{grupo2} - t: {round(t, 2)}, p: {round(p, 4)}')\n",
    "        \n",
    "    # O novo limiar para significância estatística = 0.05 / comprimento da lista de testes t\n",
    "    alfa_ajustado = alfa/ len(testes_t)\n",
    "    print(f'\\n P-valor do teste t abaixo do alfa ajustado: {round(alfa_ajustado,4)}')\n",
    "\n",
    "    # Imprime apenas os resultados qaue são significativos com base no novo limiar\n",
    "    for par in testes_t:\n",
    "        if par[2] <= alfa_ajustado:  # O valor p está no segundo índice, por isso é 2\n",
    "            print(par)"
   ]
  },
  {
   "cell_type": "code",
   "execution_count": 12,
   "id": "73d16c63",
   "metadata": {},
   "outputs": [
    {
     "name": "stdout",
     "output_type": "stream",
     "text": [
      "Resultados teste t: Placebo/AH Novo - t: 2.17, p: 0.0427\n",
      "Resultados teste t: Placebo/AH Padrao - t: 2.98, p: 0.0074\n",
      "Resultados teste t: AH Novo/AH Padrao - t: 1.12, p: 0.279\n",
      "\n",
      " P-valor do teste t abaixo do alfa ajustado: 0.0167\n",
      "['Placebo - AH Padrao', 2.9813, 0.0074]\n"
     ]
    }
   ],
   "source": [
    "testes_t_pareados_bonferroni(dados_tratamentos, coluna_grupo='Grupo', coluna_valor='Pressao')"
   ]
  },
  {
   "cell_type": "markdown",
   "id": "31ad8412",
   "metadata": {},
   "source": [
    "### ANOVA UMA VIA/UM FATOR - com medidas repetidas "
   ]
  },
  {
   "cell_type": "markdown",
   "id": "c97f536c",
   "metadata": {},
   "source": [
    " $$ H_0: \\mu_1 = \\mu_2 = \\mu_3  = \\mu_4\\text{ (todas as médias são iguais)}\\\\H_1: \\text{Pelo menos uma é diferente das demais} $$"
   ]
  },
  {
   "cell_type": "code",
   "execution_count": 13,
   "id": "860418de",
   "metadata": {},
   "outputs": [
    {
     "data": {
      "text/html": [
       "<div>\n",
       "<style scoped>\n",
       "    .dataframe tbody tr th:only-of-type {\n",
       "        vertical-align: middle;\n",
       "    }\n",
       "\n",
       "    .dataframe tbody tr th {\n",
       "        vertical-align: top;\n",
       "    }\n",
       "\n",
       "    .dataframe thead th {\n",
       "        text-align: right;\n",
       "    }\n",
       "</style>\n",
       "<table border=\"1\" class=\"dataframe\">\n",
       "  <thead>\n",
       "    <tr style=\"text-align: right;\">\n",
       "      <th></th>\n",
       "      <th>Aluno</th>\n",
       "      <th>Professor</th>\n",
       "      <th>Nota</th>\n",
       "    </tr>\n",
       "  </thead>\n",
       "  <tbody>\n",
       "    <tr>\n",
       "      <th>0</th>\n",
       "      <td>1</td>\n",
       "      <td>Prof1</td>\n",
       "      <td>6.2</td>\n",
       "    </tr>\n",
       "    <tr>\n",
       "      <th>1</th>\n",
       "      <td>2</td>\n",
       "      <td>Prof1</td>\n",
       "      <td>7.8</td>\n",
       "    </tr>\n",
       "    <tr>\n",
       "      <th>2</th>\n",
       "      <td>3</td>\n",
       "      <td>Prof1</td>\n",
       "      <td>8.1</td>\n",
       "    </tr>\n",
       "    <tr>\n",
       "      <th>3</th>\n",
       "      <td>4</td>\n",
       "      <td>Prof1</td>\n",
       "      <td>9.0</td>\n",
       "    </tr>\n",
       "    <tr>\n",
       "      <th>4</th>\n",
       "      <td>5</td>\n",
       "      <td>Prof1</td>\n",
       "      <td>6.0</td>\n",
       "    </tr>\n",
       "  </tbody>\n",
       "</table>\n",
       "</div>"
      ],
      "text/plain": [
       "   Aluno Professor  Nota\n",
       "0      1     Prof1   6.2\n",
       "1      2     Prof1   7.8\n",
       "2      3     Prof1   8.1\n",
       "3      4     Prof1   9.0\n",
       "4      5     Prof1   6.0"
      ]
     },
     "execution_count": 13,
     "metadata": {},
     "output_type": "execute_result"
    }
   ],
   "source": [
    "notas_alunos = pd.read_csv('Notas_alunos.csv', sep= ';', decimal= ',')\n",
    "notas_alunos.head(5)\n",
    "\n",
    "df = pd.melt(notas_alunos, id_vars='Aluno', var_name='Professor', value_name='Nota')\n",
    "df.head()"
   ]
  },
  {
   "cell_type": "markdown",
   "id": "eb427958",
   "metadata": {},
   "source": [
    "#### Teste de normalidade dos dados usando o pacote pingouin"
   ]
  },
  {
   "cell_type": "code",
   "execution_count": 14,
   "id": "0c834725",
   "metadata": {},
   "outputs": [
    {
     "data": {
      "text/html": [
       "<div>\n",
       "<style scoped>\n",
       "    .dataframe tbody tr th:only-of-type {\n",
       "        vertical-align: middle;\n",
       "    }\n",
       "\n",
       "    .dataframe tbody tr th {\n",
       "        vertical-align: top;\n",
       "    }\n",
       "\n",
       "    .dataframe thead th {\n",
       "        text-align: right;\n",
       "    }\n",
       "</style>\n",
       "<table border=\"1\" class=\"dataframe\">\n",
       "  <thead>\n",
       "    <tr style=\"text-align: right;\">\n",
       "      <th></th>\n",
       "      <th>W</th>\n",
       "      <th>pval</th>\n",
       "      <th>normal</th>\n",
       "    </tr>\n",
       "    <tr>\n",
       "      <th>Professor</th>\n",
       "      <th></th>\n",
       "      <th></th>\n",
       "      <th></th>\n",
       "    </tr>\n",
       "  </thead>\n",
       "  <tbody>\n",
       "    <tr>\n",
       "      <th>Prof1</th>\n",
       "      <td>0.931535</td>\n",
       "      <td>0.053943</td>\n",
       "      <td>True</td>\n",
       "    </tr>\n",
       "    <tr>\n",
       "      <th>Prof2</th>\n",
       "      <td>0.937347</td>\n",
       "      <td>0.077172</td>\n",
       "      <td>True</td>\n",
       "    </tr>\n",
       "    <tr>\n",
       "      <th>Prof3</th>\n",
       "      <td>0.935625</td>\n",
       "      <td>0.069383</td>\n",
       "      <td>True</td>\n",
       "    </tr>\n",
       "    <tr>\n",
       "      <th>Prof4</th>\n",
       "      <td>0.962681</td>\n",
       "      <td>0.362035</td>\n",
       "      <td>True</td>\n",
       "    </tr>\n",
       "  </tbody>\n",
       "</table>\n",
       "</div>"
      ],
      "text/plain": [
       "                  W      pval  normal\n",
       "Professor                            \n",
       "Prof1      0.931535  0.053943    True\n",
       "Prof2      0.937347  0.077172    True\n",
       "Prof3      0.935625  0.069383    True\n",
       "Prof4      0.962681  0.362035    True"
      ]
     },
     "execution_count": 14,
     "metadata": {},
     "output_type": "execute_result"
    }
   ],
   "source": [
    "alpha = 0.05\n",
    "pg.normality(data=df, dv='Nota', group='Professor', alpha = alpha)"
   ]
  },
  {
   "cell_type": "markdown",
   "id": "c0cc181b",
   "metadata": {},
   "source": [
    "#### Teste de esfericidade dos dados usando o pacote pingouin\n",
    "\n",
    "Esfericidade é a condição em que as variâncias das diferenças entre todas as combinações de grupos (níveis) relacionados são iguais. A violação da esfericidade ocorre quando as variações das diferenças entre todas as combinações de grupos relacionados não são iguais.\n",
    "\n",
    "Ref: https://pingouin-stats.org/build/html/generated/pingouin.sphericity.html"
   ]
  },
  {
   "cell_type": "code",
   "execution_count": 15,
   "id": "5a6c40d6",
   "metadata": {
    "scrolled": true
   },
   "outputs": [
    {
     "name": "stdout",
     "output_type": "stream",
     "text": [
      "Teste de Mauchly para Esfericidade:\n",
      "Esfericidade Atingida: False\n",
      "Estatística Qui-Quadrado: 28.346\n",
      "Graus de Liberdade: 5\n",
      "Valor-p: 0.0\n",
      "Rejeitar H0: Esfericidade Não Atingida\n"
     ]
    }
   ],
   "source": [
    "spher, _, chisq, dof, pval =  pg.sphericity(data=df, dv='Nota', subject='Aluno', within=['Professor'], \n",
    "                                            alpha = alpha)\n",
    "\n",
    "\n",
    "print(f\"Teste de Mauchly para Esfericidade:\")\n",
    "print(f\"Esfericidade Atingida: {spher}\")\n",
    "print(f\"Estatística Qui-Quadrado: {round(chisq, 3)}\")\n",
    "print(f\"Graus de Liberdade: {dof}\")\n",
    "print(f\"Valor-p: {round(pval, 3)}\")\n",
    "\n",
    "# Decidir sobre a esfericidade com base no valor-p\n",
    "if pval < alpha:\n",
    "    print(\"Rejeitar H0: Esfericidade Não Atingida\")\n",
    "else:\n",
    "    print(\"Não rejeitar H0: Esfericidade Atingida\")"
   ]
  },
  {
   "cell_type": "markdown",
   "id": "ee847809",
   "metadata": {},
   "source": [
    "#### Correção para esfericidade "
   ]
  },
  {
   "cell_type": "markdown",
   "id": "7aad6205",
   "metadata": {},
   "source": [
    "m cenários onde o valor p é inferior a 0,05 e rejeitamos a hipótese nula do teste de esfericidade de Mauchly, normalmente aplicamos uma correção aos graus de liberdade usados para calcular o índice F.\n",
    "\n",
    "Existem três correções que podemos aplicar:\n",
    "\n",
    "* Huynh-Feldt (menos conservador)\n",
    "* Greenhouse-Geisser\n",
    "* Lower-bound (mais conservador)\n",
    "\n",
    "Cada uma dessas correções tende a aumentar os valores de p na tabela de resultados da ANOVA de medidas repetidas para explicar o fato de que a suposição de esfericidade é violada.\n",
    "\n",
    "Ref: https://pingouin-stats.org/build/html/generated/pingouin.rm_anova.html#pingouin.rm_anova"
   ]
  },
  {
   "cell_type": "code",
   "execution_count": 16,
   "id": "b9185303",
   "metadata": {
    "scrolled": false
   },
   "outputs": [
    {
     "name": "stdout",
     "output_type": "stream",
     "text": [
      "\n",
      "=============\n",
      "ANOVA SUMMARY\n",
      "=============\n",
      "\n",
      "Source       ddof1    ddof2       F    p-unc    p-GG-corr    ng2    eps  sphericity      W-spher    p-spher\n",
      "---------  -------  -------  ------  -------  -----------  -----  -----  ------------  ---------  ---------\n",
      "Professor        3       87  22.337    0.000        0.000  0.047  0.615  False             0.360      0.000\n",
      "\n"
     ]
    }
   ],
   "source": [
    "aov = pg.rm_anova(dv='Nota', within='Professor', subject='Aluno', data=df, detailed = False)\n",
    "pg.print_table(aov)"
   ]
  },
  {
   "cell_type": "code",
   "execution_count": 17,
   "id": "6e2e6e72",
   "metadata": {},
   "outputs": [],
   "source": [
    "# 'Source': Nome do fator dentro do grupo\n",
    "# 'ddof1': Graus de liberdade (numerador)\n",
    "# 'ddof2': Graus de liberdade (denominador)\n",
    "# 'F': Valor F\n",
    "# 'p-unc': Valor p não corrigido\n",
    "# 'ng2': Tamanho do efeito eta-quadrado generalizado\n",
    "# 'eps': Fator épsilon de Greenhouse-Geisser (= índice de esfericidade)\n",
    "# 'p-GG-corr': Valor p corrigido por Greenhouse-Geisser\n",
    "# 'W-spher': Estatística de teste de esfericidade\n",
    "# 'p-spher': valor p do teste de esfericidade\n",
    "# 'sphericity': esfericidade dos dados (booleano)"
   ]
  },
  {
   "cell_type": "code",
   "execution_count": 18,
   "id": "4c6a8e27",
   "metadata": {},
   "outputs": [
    {
     "name": "stdout",
     "output_type": "stream",
     "text": [
      "Rejeitar H0: Esfericidade Não Atingida\n"
     ]
    }
   ],
   "source": [
    "spher, _, chisq, dof, pval =  pg.sphericity(data=df, dv='Nota', subject='Aluno', within=['Professor'], \n",
    "                                            alpha = alpha)\n",
    "\n",
    "if pval < alpha:\n",
    "    print(\"Rejeitar H0: Esfericidade Não Atingida\")\n",
    "else:\n",
    "    print(\"Não rejeitar H0: Esfericidade Atingida\")"
   ]
  },
  {
   "cell_type": "markdown",
   "id": "3d16d322",
   "metadata": {},
   "source": [
    "#### Teste Post hoc - detectando quais grupos são diferentes"
   ]
  },
  {
   "cell_type": "markdown",
   "id": "f3e6936b",
   "metadata": {},
   "source": [
    "Ref: https://pingouin-stats.org/build/html/generated/pingouin.pairwise_tests.html"
   ]
  },
  {
   "cell_type": "markdown",
   "id": "bfb934eb",
   "metadata": {},
   "source": [
    "a) Correção de Bonferroni "
   ]
  },
  {
   "cell_type": "code",
   "execution_count": 19,
   "id": "2fbcd8c4",
   "metadata": {
    "scrolled": true
   },
   "outputs": [
    {
     "data": {
      "text/html": [
       "<div>\n",
       "<style scoped>\n",
       "    .dataframe tbody tr th:only-of-type {\n",
       "        vertical-align: middle;\n",
       "    }\n",
       "\n",
       "    .dataframe tbody tr th {\n",
       "        vertical-align: top;\n",
       "    }\n",
       "\n",
       "    .dataframe thead th {\n",
       "        text-align: right;\n",
       "    }\n",
       "</style>\n",
       "<table border=\"1\" class=\"dataframe\">\n",
       "  <thead>\n",
       "    <tr style=\"text-align: right;\">\n",
       "      <th></th>\n",
       "      <th>Contrast</th>\n",
       "      <th>A</th>\n",
       "      <th>B</th>\n",
       "      <th>Paired</th>\n",
       "      <th>Parametric</th>\n",
       "      <th>T</th>\n",
       "      <th>dof</th>\n",
       "      <th>alternative</th>\n",
       "      <th>p-unc</th>\n",
       "      <th>p-corr</th>\n",
       "      <th>p-adjust</th>\n",
       "      <th>BF10</th>\n",
       "      <th>hedges</th>\n",
       "    </tr>\n",
       "  </thead>\n",
       "  <tbody>\n",
       "    <tr>\n",
       "      <th>0</th>\n",
       "      <td>Professor</td>\n",
       "      <td>Prof1</td>\n",
       "      <td>Prof2</td>\n",
       "      <td>True</td>\n",
       "      <td>True</td>\n",
       "      <td>4.147334</td>\n",
       "      <td>29.0</td>\n",
       "      <td>two-sided</td>\n",
       "      <td>0.000268</td>\n",
       "      <td>0.001607</td>\n",
       "      <td>bonf</td>\n",
       "      <td>106.985</td>\n",
       "      <td>0.190219</td>\n",
       "    </tr>\n",
       "    <tr>\n",
       "      <th>1</th>\n",
       "      <td>Professor</td>\n",
       "      <td>Prof1</td>\n",
       "      <td>Prof3</td>\n",
       "      <td>True</td>\n",
       "      <td>True</td>\n",
       "      <td>3.209474</td>\n",
       "      <td>29.0</td>\n",
       "      <td>two-sided</td>\n",
       "      <td>0.003239</td>\n",
       "      <td>0.019434</td>\n",
       "      <td>bonf</td>\n",
       "      <td>11.841</td>\n",
       "      <td>0.196835</td>\n",
       "    </tr>\n",
       "    <tr>\n",
       "      <th>2</th>\n",
       "      <td>Professor</td>\n",
       "      <td>Prof1</td>\n",
       "      <td>Prof4</td>\n",
       "      <td>True</td>\n",
       "      <td>True</td>\n",
       "      <td>5.812494</td>\n",
       "      <td>29.0</td>\n",
       "      <td>two-sided</td>\n",
       "      <td>0.000003</td>\n",
       "      <td>0.000016</td>\n",
       "      <td>bonf</td>\n",
       "      <td>7120.858</td>\n",
       "      <td>0.571887</td>\n",
       "    </tr>\n",
       "    <tr>\n",
       "      <th>3</th>\n",
       "      <td>Professor</td>\n",
       "      <td>Prof2</td>\n",
       "      <td>Prof3</td>\n",
       "      <td>True</td>\n",
       "      <td>True</td>\n",
       "      <td>0.117449</td>\n",
       "      <td>29.0</td>\n",
       "      <td>two-sided</td>\n",
       "      <td>0.907314</td>\n",
       "      <td>1.000000</td>\n",
       "      <td>bonf</td>\n",
       "      <td>0.196</td>\n",
       "      <td>0.005671</td>\n",
       "    </tr>\n",
       "    <tr>\n",
       "      <th>4</th>\n",
       "      <td>Professor</td>\n",
       "      <td>Prof2</td>\n",
       "      <td>Prof4</td>\n",
       "      <td>True</td>\n",
       "      <td>True</td>\n",
       "      <td>4.725388</td>\n",
       "      <td>29.0</td>\n",
       "      <td>two-sided</td>\n",
       "      <td>0.000054</td>\n",
       "      <td>0.000326</td>\n",
       "      <td>bonf</td>\n",
       "      <td>450.439</td>\n",
       "      <td>0.402433</td>\n",
       "    </tr>\n",
       "    <tr>\n",
       "      <th>5</th>\n",
       "      <td>Professor</td>\n",
       "      <td>Prof3</td>\n",
       "      <td>Prof4</td>\n",
       "      <td>True</td>\n",
       "      <td>True</td>\n",
       "      <td>4.537230</td>\n",
       "      <td>29.0</td>\n",
       "      <td>two-sided</td>\n",
       "      <td>0.000092</td>\n",
       "      <td>0.000550</td>\n",
       "      <td>bonf</td>\n",
       "      <td>280.933</td>\n",
       "      <td>0.399543</td>\n",
       "    </tr>\n",
       "  </tbody>\n",
       "</table>\n",
       "</div>"
      ],
      "text/plain": [
       "    Contrast      A      B  Paired  Parametric         T   dof alternative  \\\n",
       "0  Professor  Prof1  Prof2    True        True  4.147334  29.0   two-sided   \n",
       "1  Professor  Prof1  Prof3    True        True  3.209474  29.0   two-sided   \n",
       "2  Professor  Prof1  Prof4    True        True  5.812494  29.0   two-sided   \n",
       "3  Professor  Prof2  Prof3    True        True  0.117449  29.0   two-sided   \n",
       "4  Professor  Prof2  Prof4    True        True  4.725388  29.0   two-sided   \n",
       "5  Professor  Prof3  Prof4    True        True  4.537230  29.0   two-sided   \n",
       "\n",
       "      p-unc    p-corr p-adjust      BF10    hedges  \n",
       "0  0.000268  0.001607     bonf   106.985  0.190219  \n",
       "1  0.003239  0.019434     bonf    11.841  0.196835  \n",
       "2  0.000003  0.000016     bonf  7120.858  0.571887  \n",
       "3  0.907314  1.000000     bonf     0.196  0.005671  \n",
       "4  0.000054  0.000326     bonf   450.439  0.402433  \n",
       "5  0.000092  0.000550     bonf   280.933  0.399543  "
      ]
     },
     "execution_count": 19,
     "metadata": {},
     "output_type": "execute_result"
    }
   ],
   "source": [
    "posthocs = pg.pairwise_tests(dv='Nota', within='Professor', subject='Aluno', data=df ,\n",
    "                             padjust = 'bonf', alpha = alpha)\n",
    "posthocs"
   ]
  },
  {
   "cell_type": "markdown",
   "id": "13f534e1",
   "metadata": {},
   "source": [
    "b) Correção de Sidak"
   ]
  },
  {
   "cell_type": "code",
   "execution_count": 20,
   "id": "54f995ae",
   "metadata": {
    "scrolled": true
   },
   "outputs": [
    {
     "data": {
      "text/html": [
       "<div>\n",
       "<style scoped>\n",
       "    .dataframe tbody tr th:only-of-type {\n",
       "        vertical-align: middle;\n",
       "    }\n",
       "\n",
       "    .dataframe tbody tr th {\n",
       "        vertical-align: top;\n",
       "    }\n",
       "\n",
       "    .dataframe thead th {\n",
       "        text-align: right;\n",
       "    }\n",
       "</style>\n",
       "<table border=\"1\" class=\"dataframe\">\n",
       "  <thead>\n",
       "    <tr style=\"text-align: right;\">\n",
       "      <th></th>\n",
       "      <th>Contrast</th>\n",
       "      <th>A</th>\n",
       "      <th>B</th>\n",
       "      <th>Paired</th>\n",
       "      <th>Parametric</th>\n",
       "      <th>T</th>\n",
       "      <th>dof</th>\n",
       "      <th>alternative</th>\n",
       "      <th>p-unc</th>\n",
       "      <th>p-corr</th>\n",
       "      <th>p-adjust</th>\n",
       "      <th>BF10</th>\n",
       "      <th>hedges</th>\n",
       "    </tr>\n",
       "  </thead>\n",
       "  <tbody>\n",
       "    <tr>\n",
       "      <th>0</th>\n",
       "      <td>Professor</td>\n",
       "      <td>Prof1</td>\n",
       "      <td>Prof2</td>\n",
       "      <td>True</td>\n",
       "      <td>True</td>\n",
       "      <td>4.147334</td>\n",
       "      <td>29.0</td>\n",
       "      <td>two-sided</td>\n",
       "      <td>0.000268</td>\n",
       "      <td>0.001606</td>\n",
       "      <td>sidak</td>\n",
       "      <td>106.985</td>\n",
       "      <td>0.190219</td>\n",
       "    </tr>\n",
       "    <tr>\n",
       "      <th>1</th>\n",
       "      <td>Professor</td>\n",
       "      <td>Prof1</td>\n",
       "      <td>Prof3</td>\n",
       "      <td>True</td>\n",
       "      <td>True</td>\n",
       "      <td>3.209474</td>\n",
       "      <td>29.0</td>\n",
       "      <td>two-sided</td>\n",
       "      <td>0.003239</td>\n",
       "      <td>0.019278</td>\n",
       "      <td>sidak</td>\n",
       "      <td>11.841</td>\n",
       "      <td>0.196835</td>\n",
       "    </tr>\n",
       "    <tr>\n",
       "      <th>2</th>\n",
       "      <td>Professor</td>\n",
       "      <td>Prof1</td>\n",
       "      <td>Prof4</td>\n",
       "      <td>True</td>\n",
       "      <td>True</td>\n",
       "      <td>5.812494</td>\n",
       "      <td>29.0</td>\n",
       "      <td>two-sided</td>\n",
       "      <td>0.000003</td>\n",
       "      <td>0.000016</td>\n",
       "      <td>sidak</td>\n",
       "      <td>7120.858</td>\n",
       "      <td>0.571887</td>\n",
       "    </tr>\n",
       "    <tr>\n",
       "      <th>3</th>\n",
       "      <td>Professor</td>\n",
       "      <td>Prof2</td>\n",
       "      <td>Prof3</td>\n",
       "      <td>True</td>\n",
       "      <td>True</td>\n",
       "      <td>0.117449</td>\n",
       "      <td>29.0</td>\n",
       "      <td>two-sided</td>\n",
       "      <td>0.907314</td>\n",
       "      <td>0.999999</td>\n",
       "      <td>sidak</td>\n",
       "      <td>0.196</td>\n",
       "      <td>0.005671</td>\n",
       "    </tr>\n",
       "    <tr>\n",
       "      <th>4</th>\n",
       "      <td>Professor</td>\n",
       "      <td>Prof2</td>\n",
       "      <td>Prof4</td>\n",
       "      <td>True</td>\n",
       "      <td>True</td>\n",
       "      <td>4.725388</td>\n",
       "      <td>29.0</td>\n",
       "      <td>two-sided</td>\n",
       "      <td>0.000054</td>\n",
       "      <td>0.000326</td>\n",
       "      <td>sidak</td>\n",
       "      <td>450.439</td>\n",
       "      <td>0.402433</td>\n",
       "    </tr>\n",
       "    <tr>\n",
       "      <th>5</th>\n",
       "      <td>Professor</td>\n",
       "      <td>Prof3</td>\n",
       "      <td>Prof4</td>\n",
       "      <td>True</td>\n",
       "      <td>True</td>\n",
       "      <td>4.537230</td>\n",
       "      <td>29.0</td>\n",
       "      <td>two-sided</td>\n",
       "      <td>0.000092</td>\n",
       "      <td>0.000549</td>\n",
       "      <td>sidak</td>\n",
       "      <td>280.933</td>\n",
       "      <td>0.399543</td>\n",
       "    </tr>\n",
       "  </tbody>\n",
       "</table>\n",
       "</div>"
      ],
      "text/plain": [
       "    Contrast      A      B  Paired  Parametric         T   dof alternative  \\\n",
       "0  Professor  Prof1  Prof2    True        True  4.147334  29.0   two-sided   \n",
       "1  Professor  Prof1  Prof3    True        True  3.209474  29.0   two-sided   \n",
       "2  Professor  Prof1  Prof4    True        True  5.812494  29.0   two-sided   \n",
       "3  Professor  Prof2  Prof3    True        True  0.117449  29.0   two-sided   \n",
       "4  Professor  Prof2  Prof4    True        True  4.725388  29.0   two-sided   \n",
       "5  Professor  Prof3  Prof4    True        True  4.537230  29.0   two-sided   \n",
       "\n",
       "      p-unc    p-corr p-adjust      BF10    hedges  \n",
       "0  0.000268  0.001606    sidak   106.985  0.190219  \n",
       "1  0.003239  0.019278    sidak    11.841  0.196835  \n",
       "2  0.000003  0.000016    sidak  7120.858  0.571887  \n",
       "3  0.907314  0.999999    sidak     0.196  0.005671  \n",
       "4  0.000054  0.000326    sidak   450.439  0.402433  \n",
       "5  0.000092  0.000549    sidak   280.933  0.399543  "
      ]
     },
     "execution_count": 20,
     "metadata": {},
     "output_type": "execute_result"
    }
   ],
   "source": [
    "posthocs = pg.pairwise_tests(dv='Nota', within='Professor', subject='Aluno', data=df ,\n",
    "                             padjust = 'sidak', alpha = alpha)\n",
    "\n",
    "posthocs"
   ]
  },
  {
   "cell_type": "markdown",
   "id": "b31358c2",
   "metadata": {},
   "source": [
    "c) Correção de Tukey"
   ]
  },
  {
   "cell_type": "code",
   "execution_count": 21,
   "id": "a898a8e2",
   "metadata": {},
   "outputs": [
    {
     "name": "stdout",
     "output_type": "stream",
     "text": [
      "Multiple Comparison of Means - Tukey HSD, FWER=0.05\n",
      "===================================================\n",
      "group1 group2 meandiff p-adj   lower  upper  reject\n",
      "---------------------------------------------------\n",
      " Prof1  Prof2  -0.3533 0.8732  -1.569 0.8623  False\n",
      " Prof1  Prof3  -0.3633 0.8638  -1.579 0.8523  False\n",
      " Prof1  Prof4  -1.0833 0.0987  -2.299 0.1323  False\n",
      " Prof2  Prof3    -0.01    1.0 -1.2257 1.2057  False\n",
      " Prof2  Prof4    -0.73 0.4025 -1.9457 0.4857  False\n",
      " Prof3  Prof4    -0.72 0.4149 -1.9357 0.4957  False\n",
      "---------------------------------------------------\n"
     ]
    }
   ],
   "source": [
    "m_comp = pairwise_tukeyhsd(endog=df['Nota'],\n",
    "                           groups=df['Professor'], alpha=alpha)\n",
    "print(m_comp)"
   ]
  }
 ],
 "metadata": {
  "kernelspec": {
   "display_name": "Python 3 (ipykernel)",
   "language": "python",
   "name": "python3"
  },
  "language_info": {
   "codemirror_mode": {
    "name": "ipython",
    "version": 3
   },
   "file_extension": ".py",
   "mimetype": "text/x-python",
   "name": "python",
   "nbconvert_exporter": "python",
   "pygments_lexer": "ipython3",
   "version": "3.11.7"
  }
 },
 "nbformat": 4,
 "nbformat_minor": 5
}
