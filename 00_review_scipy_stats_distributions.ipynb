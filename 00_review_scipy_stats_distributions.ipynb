{
 "cells": [
  {
   "cell_type": "markdown",
   "id": "c98ebd87",
   "metadata": {},
   "source": [
    "### Using scipy stats distribuitions "
   ]
  },
  {
   "cell_type": "code",
   "execution_count": 1,
   "id": "c3d061c6",
   "metadata": {},
   "outputs": [],
   "source": [
    "import numpy as np \n",
    "import scipy.stats as st"
   ]
  },
  {
   "cell_type": "markdown",
   "id": "2b62b988",
   "metadata": {},
   "source": [
    "### Distribuiçoões simétricas "
   ]
  },
  {
   "cell_type": "markdown",
   "id": "616cd6e2",
   "metadata": {},
   "source": [
    "#### T and Z distributions "
   ]
  },
  {
   "cell_type": "code",
   "execution_count": 2,
   "id": "df65a792",
   "metadata": {
    "scrolled": true
   },
   "outputs": [
    {
     "name": "stdout",
     "output_type": "stream",
     "text": [
      "Zc: 1.96\n",
      "Tc: 2.101\n"
     ]
    }
   ],
   "source": [
    "## Bilateral - usa alpha/2\n",
    " \n",
    "alpha = 0.05\n",
    "n = 19\n",
    " \n",
    "Zc = st.norm.ppf(1-alpha/2).round(3)\n",
    "Tc = st.t.ppf(1-alpha/2, df = n-1).round(3)\n",
    " \n",
    "print(\"Zc:\", Zc)\n",
    "print(\"Tc:\", Tc)"
   ]
  },
  {
   "cell_type": "code",
   "execution_count": 3,
   "id": "a8b384fc",
   "metadata": {
    "scrolled": true
   },
   "outputs": [
    {
     "name": "stdout",
     "output_type": "stream",
     "text": [
      "Zc: 1.645\n",
      "Tc: 1.711\n"
     ]
    }
   ],
   "source": [
    "## Unilateral a esquerda/direita - usa alpha\n",
    " \n",
    "alpha = 0.05\n",
    "n = 25\n",
    " \n",
    "Zc = st.norm.ppf(1-alpha).round(3)\n",
    "Tc = st.t.ppf(1-alpha, df = n-1).round(3)\n",
    " \n",
    "print(\"Zc:\", Zc)\n",
    "print(\"Tc:\", Tc)"
   ]
  },
  {
   "cell_type": "markdown",
   "id": "3d13eaf4",
   "metadata": {},
   "source": [
    "### Distribuições assimétricas"
   ]
  },
  {
   "cell_type": "markdown",
   "id": "ef5bc098",
   "metadata": {},
   "source": [
    "#### Chi_2 distribution"
   ]
  },
  {
   "cell_type": "code",
   "execution_count": 4,
   "id": "3563e1e3",
   "metadata": {},
   "outputs": [
    {
     "name": "stdout",
     "output_type": "stream",
     "text": [
      "Chi1: 13.85\n",
      "Chi2: 36.42\n"
     ]
    }
   ],
   "source": [
    "## Bilateral - usa alpha/2\n",
    " \n",
    "alpha = 0.10\n",
    "n = 25\n",
    " \n",
    "Chi1 = st.chi2.ppf(alpha/2, df = n-1).round(2)\n",
    "Chi2 = st.chi2.ppf(1-alpha/2, df = n-1).round(2)\n",
    " \n",
    "print(\"Chi1:\", Chi1)\n",
    "print(\"Chi2:\", Chi2)"
   ]
  },
  {
   "cell_type": "code",
   "execution_count": 5,
   "id": "dc9ce27b",
   "metadata": {},
   "outputs": [
    {
     "name": "stdout",
     "output_type": "stream",
     "text": [
      "Chi1: 6.304\n"
     ]
    }
   ],
   "source": [
    "## Unilateral a esquerda - usa alpha\n",
    "\n",
    "alpha = 0.10\n",
    "n = 13\n",
    " \n",
    "Chi1 = st.chi2.ppf(alpha, df = n-1).round(3)\n",
    "print(\"Chi1:\", Chi1)"
   ]
  },
  {
   "cell_type": "code",
   "execution_count": 6,
   "id": "db73667b",
   "metadata": {},
   "outputs": [
    {
     "name": "stdout",
     "output_type": "stream",
     "text": [
      "Chi2: 67.505\n"
     ]
    }
   ],
   "source": [
    "## Unilateral a direita - usa alpha\n",
    "\n",
    "alpha = 0.05\n",
    "n = 51\n",
    "\n",
    "Chi2 = st.chi2.ppf(1-alpha, df = n-1).round(3)\n",
    "print(\"Chi2:\", Chi2)"
   ]
  },
  {
   "cell_type": "markdown",
   "id": "6345461d",
   "metadata": {},
   "source": [
    "#### F distribution"
   ]
  },
  {
   "cell_type": "code",
   "execution_count": 7,
   "id": "dc9baf41",
   "metadata": {},
   "outputs": [
    {
     "name": "stdout",
     "output_type": "stream",
     "text": [
      "F1: 0.53\n",
      "F2: 1.89\n"
     ]
    }
   ],
   "source": [
    "## Bilateral - usa alpha/2\n",
    " \n",
    "alpha = 0.05\n",
    "n1 = 40\n",
    "n2 = 40\n",
    " \n",
    "phi1 = n1 - 1\n",
    "phi2 = n2 - 1\n",
    " \n",
    "F1 = st.f.ppf(alpha/2, phi1, phi2).round(2)\n",
    "F2 = st.f.ppf(1-alpha/2, phi1, phi2).round(2)\n",
    " \n",
    "print(\"F1:\", F1)\n",
    "print(\"F2:\", F2)"
   ]
  },
  {
   "cell_type": "code",
   "execution_count": 8,
   "id": "30de6ba6",
   "metadata": {},
   "outputs": [
    {
     "name": "stdout",
     "output_type": "stream",
     "text": [
      "F1: 0.172\n"
     ]
    }
   ],
   "source": [
    "## Unilateral a esquerda - usa alpha\n",
    "\n",
    "alpha = 0.01\n",
    "n1 = 9\n",
    "n2 = 11\n",
    " \n",
    "phi1 = n1 - 1\n",
    "phi2 = n2 - 1\n",
    " \n",
    "F1 = st.f.ppf(alpha, phi1, phi2).round(3)\n",
    "print(\"F1:\", F1)"
   ]
  },
  {
   "cell_type": "code",
   "execution_count": 9,
   "id": "6db6ef39",
   "metadata": {},
   "outputs": [
    {
     "name": "stdout",
     "output_type": "stream",
     "text": [
      "F2: 2.599\n"
     ]
    }
   ],
   "source": [
    "## Unilateral a direita - usa alpha\n",
    "\n",
    "alpha = 0.05\n",
    "n1 = 7\n",
    "n2 = 21\n",
    " \n",
    "phi1 = n1 - 1\n",
    "phi2 = n2 - 1\n",
    " \n",
    "F2 = st.f.ppf(1-alpha, phi1, phi2).round(3)\n",
    " \n",
    "print(\"F2:\", F2)"
   ]
  },
  {
   "cell_type": "markdown",
   "id": "3ce84eaa",
   "metadata": {},
   "source": [
    "### Valor p "
   ]
  },
  {
   "cell_type": "code",
   "execution_count": 10,
   "id": "a93c7ccc",
   "metadata": {},
   "outputs": [],
   "source": [
    "hipotese_alternativa = \"less\"\n",
    "estatistica_teste = 1.0 \n",
    "gl = 5 \n",
    "\n",
    "if(hipotese_alternativa == \"two-sided\"):\n",
    "    p_value = 2 * (1 - st.chi2.cdf(estatistica_teste, gl))\n",
    "elif(hipotese_alternativa == \"less\"):\n",
    "    p_value = st.chi2.cdf(estatistica_teste, gl)\n",
    "elif(hipotese_alternativa == \"greater\"):\n",
    "    p_value = 1 - st.chi2.cdf(estatistica_teste, gl)"
   ]
  },
  {
   "cell_type": "markdown",
   "id": "0f4c25a5",
   "metadata": {},
   "source": [
    "### Sample size n for mean "
   ]
  },
  {
   "cell_type": "code",
   "execution_count": 14,
   "id": "478ca60a",
   "metadata": {},
   "outputs": [
    {
     "data": {
      "text/plain": [
       "2.807"
      ]
     },
     "execution_count": 14,
     "metadata": {},
     "output_type": "execute_result"
    }
   ],
   "source": [
    "alpha = 0.005\n",
    " \n",
    "Zc = st.norm.ppf(1-alpha/2).round(3)\n",
    "Zc"
   ]
  },
  {
   "cell_type": "code",
   "execution_count": 18,
   "id": "0598dce4",
   "metadata": {},
   "outputs": [
    {
     "data": {
      "text/plain": [
       "80.54343422222219"
      ]
     },
     "execution_count": 18,
     "metadata": {},
     "output_type": "execute_result"
    }
   ],
   "source": [
    "s = 23**(1/2)\n",
    "e = 1.5\n",
    "\n",
    "n = (Zc*s/e)**2 \n",
    "n"
   ]
  },
  {
   "cell_type": "markdown",
   "id": "071db054",
   "metadata": {},
   "source": [
    "### Sample size n for proportion"
   ]
  },
  {
   "cell_type": "code",
   "execution_count": 26,
   "id": "7a841b0b",
   "metadata": {},
   "outputs": [
    {
     "data": {
      "text/plain": [
       "1.751"
      ]
     },
     "execution_count": 26,
     "metadata": {},
     "output_type": "execute_result"
    }
   ],
   "source": [
    "alpha = 0.08\n",
    " \n",
    "Zc = st.norm.ppf(1-alpha/2).round(3)\n",
    "Zc"
   ]
  },
  {
   "cell_type": "code",
   "execution_count": 25,
   "id": "bc74aab0",
   "metadata": {},
   "outputs": [
    {
     "data": {
      "text/plain": [
       "689.850225"
      ]
     },
     "execution_count": 25,
     "metadata": {},
     "output_type": "execute_result"
    }
   ],
   "source": [
    "p = 0.10\n",
    "e = 0.02\n",
    "\n",
    "n = p*(1-p)*(Zc/e)**2 \n",
    "n"
   ]
  },
  {
   "cell_type": "code",
   "execution_count": null,
   "id": "b4c551ce",
   "metadata": {},
   "outputs": [],
   "source": []
  }
 ],
 "metadata": {
  "kernelspec": {
   "display_name": "Python 3 (ipykernel)",
   "language": "python",
   "name": "python3"
  },
  "language_info": {
   "codemirror_mode": {
    "name": "ipython",
    "version": 3
   },
   "file_extension": ".py",
   "mimetype": "text/x-python",
   "name": "python",
   "nbconvert_exporter": "python",
   "pygments_lexer": "ipython3",
   "version": "3.11.7"
  }
 },
 "nbformat": 4,
 "nbformat_minor": 5
}
