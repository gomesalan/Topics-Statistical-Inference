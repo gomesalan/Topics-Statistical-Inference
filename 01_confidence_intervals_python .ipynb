{
 "cells": [
  {
   "cell_type": "code",
   "execution_count": 1,
   "id": "fd59d24e",
   "metadata": {},
   "outputs": [],
   "source": [
    "import numpy as np\n",
    "import scipy.stats as st"
   ]
  },
  {
   "cell_type": "markdown",
   "id": "aef40820",
   "metadata": {},
   "source": [
    "#### Finding the Z critical value "
   ]
  },
  {
   "cell_type": "code",
   "execution_count": 2,
   "id": "6dc0a06d",
   "metadata": {},
   "outputs": [
    {
     "name": "stdout",
     "output_type": "stream",
     "text": [
      "1.96\n"
     ]
    }
   ],
   "source": [
    "alpha = 0.05\n",
    "confianca = 1 - (alpha/2) # Intervalo Bilateral \n",
    "\n",
    "print(st.norm.ppf(confianca).round(3)) # Valor Z - 95% de confiança, alpha = 0.05"
   ]
  },
  {
   "cell_type": "markdown",
   "id": "2f8c3954",
   "metadata": {},
   "source": [
    "### X ~ N(?, σ)"
   ]
  },
  {
   "cell_type": "code",
   "execution_count": 3,
   "id": "6e200b29",
   "metadata": {},
   "outputs": [
    {
     "name": "stdout",
     "output_type": "stream",
     "text": [
      "O intervalo de  95.0 % confiança para a idade média dos clientes do restaurante é de:  [28.49, 35.51]\n"
     ]
    }
   ],
   "source": [
    "idade_clientes = [31, 30, 32 , 37 ,30]\n",
    "\n",
    "media_amostral = np.mean(idade_clientes)\n",
    "desvio_populacional = 4 \n",
    "alpha = 0.05 \n",
    "n = len(idade_clientes)\n",
    "\n",
    "nivel_confianca = 1 - alpha \n",
    "\n",
    "\n",
    "IC_media = st.norm.interval(nivel_confianca, loc=media_amostral, scale=desvio_populacional/np.sqrt(n))\n",
    "\n",
    "print(\"O intervalo de \", nivel_confianca*100 ,\n",
    "      \"% confiança para a idade média dos clientes do restaurante é de: \", [round(num,2) for num in IC_media])"
   ]
  },
  {
   "cell_type": "code",
   "execution_count": 16,
   "id": "efb9b6a5",
   "metadata": {},
   "outputs": [
    {
     "name": "stdout",
     "output_type": "stream",
     "text": [
      "O intervalo de  95.0 % confiança para a idade média dos clientes do restaurante é de:  [1003.043, 1024.957]\n"
     ]
    }
   ],
   "source": [
    "media_amostral = 1014\n",
    "desvio_populacional = 25\n",
    "alpha = 0.05 \n",
    "n = 20\n",
    "\n",
    "nivel_confianca = 1 - alpha \n",
    "\n",
    "\n",
    "IC_media = st.norm.interval(nivel_confianca, loc=media_amostral, scale=desvio_populacional/np.sqrt(n))\n",
    "\n",
    "print(\"O intervalo de \", nivel_confianca*100 ,\n",
    "      \"% confiança para a idade média dos clientes do restaurante é de: \", [round(num,3) for num in IC_media])"
   ]
  },
  {
   "cell_type": "markdown",
   "id": "ca2bba2d",
   "metadata": {},
   "source": [
    "### X ~ N(?, ?)"
   ]
  },
  {
   "cell_type": "markdown",
   "id": "62d57689",
   "metadata": {},
   "source": [
    "#### If **n < 30** we use the T student distribution + **s** estimator  "
   ]
  },
  {
   "cell_type": "markdown",
   "id": "451b56df",
   "metadata": {},
   "source": [
    "#### Finding the T critical value "
   ]
  },
  {
   "cell_type": "code",
   "execution_count": 4,
   "id": "f0b1944f",
   "metadata": {},
   "outputs": [
    {
     "name": "stdout",
     "output_type": "stream",
     "text": [
      "1.73\n"
     ]
    }
   ],
   "source": [
    "alpha = 0.10\n",
    "confidence = 1 - (alpha/2) # Bilateral\n",
    "df = 19  \n",
    "\n",
    "print(st.t.ppf(q=confidence, df=df).round(2))"
   ]
  },
  {
   "cell_type": "code",
   "execution_count": 5,
   "id": "80651280",
   "metadata": {},
   "outputs": [
    {
     "name": "stdout",
     "output_type": "stream",
     "text": [
      "O intervalo de  95.0 % confiança para os gastos médios com cartão de crédito das famílias é:  [4206.54, 7593.46]\n"
     ]
    }
   ],
   "source": [
    "media_amostral = 5900\n",
    "s = 3058\n",
    "n = 15 \n",
    "nivel_confianca = 0.95\n",
    "\n",
    "\n",
    "IC_media95 = st.t.interval(nivel_confianca, df = n-1,  loc=media_amostral, scale=s/np.sqrt(n))\n",
    "\n",
    "print(\"O intervalo de \", nivel_confianca*100 ,\n",
    "          \"% confiança para os gastos médios com cartão de crédito das famílias é: \", \n",
    "      [round(num,2) for num in IC_media95])"
   ]
  },
  {
   "cell_type": "code",
   "execution_count": 6,
   "id": "1ab8235f",
   "metadata": {},
   "outputs": [
    {
     "name": "stdout",
     "output_type": "stream",
     "text": [
      "O intervalo de  90.0 % confiança para a idade média ao falar é de:  [1.63, 2.08]\n"
     ]
    }
   ],
   "source": [
    "amostra_criancas = [1.71, 1.06, 1.68, 2.12, 2.17, 2.71, 1.02, 2.62, 2.15,\n",
    "                   2.22, 2.1, 1.97, 1.44, 2.48, 1.45, 2.3, 1.73, 1.0, 2.36, 0.8]\n",
    "\n",
    "nivel_confianca = 0.90\n",
    "\n",
    "media_amostral = np.mean(amostra_criancas)\n",
    "desvio_amostral = np.std(amostra_criancas, ddof = 1) #desvio padrão AMOSTRAL \n",
    "n = len(amostra_criancas)\n",
    "\n",
    "IC_media_t = st.t.interval(nivel_confianca, df = n-1,  loc=media_amostral, scale=desvio_amostral/np.sqrt(n))\n",
    "\n",
    "print(\"O intervalo de \", nivel_confianca*100 ,\n",
    "          \"% confiança para a idade média ao falar é de: \", [round(num,2) for num in IC_media_t])"
   ]
  },
  {
   "cell_type": "markdown",
   "id": "72cf00f1",
   "metadata": {},
   "source": [
    "#### If **n >= 30** we use the Z distribution + **s** estimator  "
   ]
  },
  {
   "cell_type": "code",
   "execution_count": 7,
   "id": "e49fe277",
   "metadata": {},
   "outputs": [
    {
     "name": "stdout",
     "output_type": "stream",
     "text": [
      "O intervalo de  95.0 % confiança para os gastos médios com cartão de crédito das famílias é:  [5476.19, 6323.81]\n"
     ]
    }
   ],
   "source": [
    "media_amostral = 5900\n",
    "s = 3058\n",
    "n = 200 \n",
    "nivel_confianca = 0.95\n",
    "\n",
    "\n",
    "IC_media95 = st.norm.interval(nivel_confianca, loc=media_amostral, scale=s/np.sqrt(n))\n",
    "\n",
    "print(\"O intervalo de \", nivel_confianca*100 ,\n",
    "          \"% confiança para os gastos médios com cartão de crédito das famílias é: \", \n",
    "      [round(num,2) for num in IC_media95])"
   ]
  },
  {
   "cell_type": "markdown",
   "id": "1383c96a",
   "metadata": {},
   "source": [
    "### X ~ B(n, ?)"
   ]
  },
  {
   "cell_type": "code",
   "execution_count": 8,
   "id": "a6c1a43f",
   "metadata": {},
   "outputs": [
    {
     "name": "stdout",
     "output_type": "stream",
     "text": [
      "O intervalo de  95.0 % confiança para a proporção de entrevistados que acreditam no aquecimento global é de:  [0.677, 0.723] \n",
      "\n"
     ]
    }
   ],
   "source": [
    "from statsmodels.stats.proportion import proportion_confint   \n",
    "\n",
    "n = 1500\n",
    "entrevistados_sim = 1050 # Número de sucessos\n",
    "p_chapeu = entrevistados_sim/n\n",
    "nivel_confianca = 0.95\n",
    "\n",
    "\n",
    "ICp_95 = proportion_confint(entrevistados_sim, n, alpha=1-nivel_confianca)\n",
    "print(\"O intervalo de \", nivel_confianca*100 ,\n",
    "      \"% confiança para a proporção de entrevistados que acreditam no aquecimento global é de: \", \n",
    "      [round(num,3) for num in ICp_95],\"\\n\")"
   ]
  },
  {
   "cell_type": "markdown",
   "id": "14c725b1",
   "metadata": {},
   "source": [
    "### X ~ N(u, ?) - Variance Confidence Interval "
   ]
  },
  {
   "cell_type": "markdown",
   "id": "c3fd8aa7",
   "metadata": {},
   "source": [
    "#### Finding the qui_square_1 and qui_square_2 critical values "
   ]
  },
  {
   "cell_type": "code",
   "execution_count": 9,
   "id": "bf5a7854",
   "metadata": {},
   "outputs": [
    {
     "name": "stdout",
     "output_type": "stream",
     "text": [
      "qui_square_1: 13.1197\n",
      "qui_square_2: 40.6465\n"
     ]
    }
   ],
   "source": [
    "df = 25\n",
    "alpha = 0.05\n",
    "\n",
    "qui_square_1 = st.chi2.ppf((alpha/2), df=df).round(4)\n",
    "print(\"qui_square_1:\", qui_square_1)\n",
    "\n",
    "qui_square_2 = st.chi2.ppf(1 - (alpha/2), df=df).round(4)\n",
    "print(\"qui_square_2:\", qui_square_2)"
   ]
  },
  {
   "cell_type": "code",
   "execution_count": 10,
   "id": "cda08c19",
   "metadata": {},
   "outputs": [
    {
     "name": "stdout",
     "output_type": "stream",
     "text": [
      "qui_square_1: 13.1197\n",
      "qui_square_2: 40.6465\n",
      "Intervalo de Confiança da Variância: (1537.65, 4763.82)\n"
     ]
    }
   ],
   "source": [
    "n = 25 \n",
    "s2 = 2500 \n",
    "alpha = 0.05\n",
    "\n",
    "qui_square_1 = st.chi2.ppf((alpha/2), df=n).round(4)\n",
    "print(\"qui_square_1:\", qui_square_1)\n",
    "\n",
    "qui_square_2 = st.chi2.ppf(1 - (alpha/2), df=n).round(4)\n",
    "print(\"qui_square_2:\", qui_square_2)\n",
    "\n",
    "\n",
    "#IC de 95% de confiança  \n",
    "lower_bound = (n * s2) / st.chi2.ppf(1 - (alpha/2), n)\n",
    "upper_bound = (n * s2) / st.chi2.ppf(alpha/2, n)\n",
    "\n",
    "print(f\"Intervalo de Confiança da Variância: ({lower_bound.round(2)}, {upper_bound.round(2)})\")"
   ]
  },
  {
   "cell_type": "markdown",
   "id": "92e440cc",
   "metadata": {},
   "source": [
    "### X ~ N(?, ?) - Variance Confidence Interval "
   ]
  },
  {
   "cell_type": "code",
   "execution_count": 11,
   "id": "5fb53cfa",
   "metadata": {},
   "outputs": [
    {
     "name": "stdout",
     "output_type": "stream",
     "text": [
      "Intervalo 95% de Confiança da Variância: (0.0011, 0.004)\n"
     ]
    }
   ],
   "source": [
    "amostra_parafusos = [2.02, 1.98, 2.08, 1.99, 2.03, 1.94, 2.00, 2.07, 1.95, \n",
    "                    2.05, 2.09, 2.03, 1.99, 1.99, 2.01, 1.95, 2.04, 1.96, 1.99, 2.03]\n",
    "\n",
    "media_amostral = np.mean(amostra_parafusos)\n",
    "s2 = np.var(amostra_parafusos, ddof=1)\n",
    "n = len(amostra_parafusos)\n",
    "df = n - 1\n",
    "\n",
    "alpha = 0.05\n",
    "\n",
    "#IC de 95% de confiança  \n",
    "lower_bound = ((n-1) * s2) / st.chi2.ppf(1 - (alpha/2), df)\n",
    "upper_bound = ((n-1) * s2) / st.chi2.ppf(alpha/2, df)\n",
    "\n",
    "print(f\"Intervalo 95% de Confiança da Variância: ({lower_bound.round(4)}, {upper_bound.round(4)})\")"
   ]
  },
  {
   "cell_type": "markdown",
   "id": "f81a4c8a",
   "metadata": {},
   "source": [
    "### Exercícios "
   ]
  },
  {
   "cell_type": "markdown",
   "id": "54aeff25",
   "metadata": {},
   "source": [
    "A expectativa média de vida dos moradores de uma cidade é de 78,1 anos. Suponha que essa média foi baseada em uma amostra de 50 pessoas e que o desvio padrão da população é de 4,5 anos.\n",
    "\n",
    "Construa o intervalo de confiança de 90% para a expectativa de vida média dos habitantes."
   ]
  },
  {
   "cell_type": "code",
   "execution_count": 12,
   "id": "873774f1",
   "metadata": {},
   "outputs": [
    {
     "name": "stdout",
     "output_type": "stream",
     "text": [
      "O intervalo de  90.0 % confiança para a idade média dos clientes do restaurante é de:  [77.053, 79.147]\n"
     ]
    }
   ],
   "source": [
    "media_amostral = 78.1\n",
    "desvio_populacional = 4.5 \n",
    "alpha = 0.10\n",
    "n = 50\n",
    "\n",
    "nivel_confianca = 1 - alpha \n",
    "\n",
    "\n",
    "IC_media = st.norm.interval(nivel_confianca, loc=media_amostral, scale=desvio_populacional/np.sqrt(n))\n",
    "\n",
    "print(\"O intervalo de \", nivel_confianca*100 ,\n",
    "      \"% confiança para a idade média dos clientes do restaurante é de: \", [round(num,3) for num in IC_media])"
   ]
  },
  {
   "cell_type": "markdown",
   "id": "4b4ddcc9",
   "metadata": {},
   "source": [
    "Em uma pesquisa da CNNMoney.com, uma amostra de 5.324 americanos foi questionada sobre o que é mais importante para eles em um lugar para morar. Trinta e sete por cento dos entrevistados acham que as oportunidades de emprego são as mais importantes.\n",
    "\n",
    "Construa o intervalo de confiança de 90% para a proporção de americanos que acham que as oportunidades de trabalho são mais importantes em um lugar para morar."
   ]
  },
  {
   "cell_type": "code",
   "execution_count": 13,
   "id": "111a13f1",
   "metadata": {},
   "outputs": [
    {
     "name": "stdout",
     "output_type": "stream",
     "text": [
      "O intervalo de  90.0 % confiança para a proporção de entrevistados que as oportunidades de emprego são as mais importantes:  [0.359, 0.381] \n",
      "\n"
     ]
    }
   ],
   "source": [
    "n = 5324 \n",
    "alpha = 0.10\n",
    "\n",
    "\n",
    "entrevistados_sim = 0.37*n # Número de sucessos\n",
    "p_chapeu = entrevistados_sim/n \n",
    "nivel_confianca = 1 - alpha \n",
    "\n",
    "\n",
    "ICp_90 = proportion_confint(entrevistados_sim, n, alpha=alpha)\n",
    "print(\"O intervalo de \", nivel_confianca*100 ,\n",
    "      \"% confiança para a proporção de entrevistados que as oportunidades de emprego são as mais importantes: \", \n",
    "      [round(num,3) for num in ICp_90],\"\\n\")"
   ]
  }
 ],
 "metadata": {
  "kernelspec": {
   "display_name": "Python 3 (ipykernel)",
   "language": "python",
   "name": "python3"
  },
  "language_info": {
   "codemirror_mode": {
    "name": "ipython",
    "version": 3
   },
   "file_extension": ".py",
   "mimetype": "text/x-python",
   "name": "python",
   "nbconvert_exporter": "python",
   "pygments_lexer": "ipython3",
   "version": "3.11.7"
  }
 },
 "nbformat": 4,
 "nbformat_minor": 5
}
