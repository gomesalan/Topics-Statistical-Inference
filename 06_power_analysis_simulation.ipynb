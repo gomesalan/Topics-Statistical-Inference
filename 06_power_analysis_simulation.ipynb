{
 "cells": [
  {
   "cell_type": "markdown",
   "id": "c84407fc",
   "metadata": {},
   "source": [
    "### 1) Power Analysis for means"
   ]
  },
  {
   "cell_type": "code",
   "execution_count": 77,
   "id": "4235bc81",
   "metadata": {},
   "outputs": [],
   "source": [
    "import numpy as np \n",
    "import scipy.stats as st\n",
    "from scipy.stats import ttest_ind, mannwhitneyu\n",
    "from statsmodels.stats.power import tt_ind_solve_power\n",
    "from statsmodels.stats.meta_analysis import effectsize_smd \n",
    "\n",
    "def effect_size_mean(n_total, alpha, power, alternative, m1, m2, sd):\n",
    "\n",
    "    N = int(n_total/2)\n",
    "    eff = abs(effectsize_smd(mean2=m2, sd2=sd, nobs2=N, mean1=m1, sd1=sd, nobs1=N)[0])\n",
    "    n = int(tt_ind_solve_power(effect_size=eff, alpha=alpha, power=power, ratio=1.0, alternative=alternative)) \n",
    "    print(\"The total sample size needed to have %.f%% power is %.d.\" % (100*power, 2*n))\n",
    "    print(\"The effect size is %.3f\" % (eff))\n",
    "    return n, eff\n",
    "\n",
    "def power_simulation_mean(n, alpha, alternative, m1, eff, sd, k=20000):\n",
    "    p_values = np.zeros(k)  \n",
    "    p_valuesWMW = np.zeros(k)  \n",
    "    for i in range(k):\n",
    "        x1 = np.random.normal(m1, sd, n) \n",
    "        x2 = np.random.normal(eff, sd, n) \n",
    "        _, p_values[i] = st.ttest_ind(x1, x2, equal_var=True, alternative=alternative)\n",
    "        _, p_valuesWMW[i] = st.mannwhitneyu(x1, x2, alternative=alternative)\n",
    "    power_t_test = np.mean(p_values < alpha) \n",
    "    print(f\"Power of T test: %.3f%%\" % (100*power_t_test))\n",
    "    power_WMW_test = np.mean(p_valuesWMW < alpha)\n",
    "    print(f\"Power of Mann-Whitney test: %.3f%%\" % (100*power_WMW_test))"
   ]
  },
  {
   "cell_type": "code",
   "execution_count": 79,
   "id": "c829ea95",
   "metadata": {},
   "outputs": [
    {
     "name": "stdout",
     "output_type": "stream",
     "text": [
      "The total sample size needed to have 80% power is 126.\n",
      "The effect size is 0.500\n",
      "Power of T test: 79.600%\n",
      "Power of Mann-Whitney test: 77.775%\n"
     ]
    }
   ],
   "source": [
    "alpha = 0.05 \n",
    "power = 0.80\n",
    "alternative = 'two-sided' \n",
    "\n",
    "m1 = 0\n",
    "m2 = 0.5 \n",
    "sd = 1\n",
    "n_total = 2000 \n",
    "\n",
    "n, eff = effect_size_mean(n_total, alpha, power, alternative, m1, m2, sd)\n",
    "power_simulation_mean(n, alpha, alternative, m1, eff, sd)"
   ]
  },
  {
   "cell_type": "markdown",
   "id": "b9c13f17",
   "metadata": {},
   "source": [
    "### 2) Power Analysis for proportions "
   ]
  },
  {
   "cell_type": "code",
   "execution_count": 39,
   "id": "8335c222",
   "metadata": {},
   "outputs": [],
   "source": [
    "from statsmodels.stats.power import zt_ind_solve_power\n",
    "from statsmodels.stats.proportion import proportions_ztest\n",
    "from statsmodels.stats.proportion import proportions_chisquare\n",
    "from statsmodels.stats.proportion import proportion_effectsize\n",
    "\n",
    "def power_simulation_proportion(n, alpha, alternative, p1, p2, k=20000):\n",
    "    p_values = np.zeros(k)  \n",
    "    p_values_chi = np.zeros(k)  \n",
    "    for i in range(k):\n",
    "        control_sample = st.binom.rvs(1, p1, size=n)\n",
    "        test_sample = st.binom.rvs(1, p2, size=n) \n",
    "        _, p_values[i] = proportions_ztest(count=[sum(control_sample), sum(test_sample)], \n",
    "                                           nobs=[n, n], alternative=alternative)\n",
    "        _, p_values_chi[i], _ = proportions_chisquare(count=[sum(control_sample), sum(test_sample)], \n",
    "                                                      nobs=[n, n])\n",
    "    power_z_test = np.mean(p_values < alpha) \n",
    "    print(f\"Power of Z test: %.3f%%\" % (100*power_z_test))\n",
    "    power_chi_test = np.mean(p_values_chi < alpha)\n",
    "    print(f\"Power of Chi-square test: %.3f%%\" % (100*power_chi_test))\n",
    "    \n",
    "def effect_size_proportion(alpha, power, alternative, p1, p2):\n",
    "    eff = abs(proportion_effectsize(prop1=p1, prop2=p2, method='normal'))\n",
    "    n = int(zt_ind_solve_power(effect_size=eff, alpha=alpha, power=power, ratio=1.0, alternative=alternative)) \n",
    "    print(\"The total sample size needed to have %.f%% power is %.d.\" % (100*power, 2*n))\n",
    "    print(\"The effect size is %.3f\" % (eff))\n",
    "    return n, eff"
   ]
  },
  {
   "cell_type": "code",
   "execution_count": 81,
   "id": "aafb20e5",
   "metadata": {},
   "outputs": [
    {
     "name": "stdout",
     "output_type": "stream",
     "text": [
      "The total sample size needed to have 80% power is 774.\n",
      "The effect size is 0.201\n",
      "Power of Z test: 79.390%\n",
      "Power of Chi-square test: 79.460%\n"
     ]
    }
   ],
   "source": [
    "alpha = 0.05 \n",
    "power = 0.80\n",
    "alternative = 'two-sided' \n",
    "\n",
    "p1 = 0.4\n",
    "p2 = 0.5\n",
    "\n",
    "n, eff = effect_size_proportion(alpha, power, alternative, p1, p2)\n",
    "power_simulation_proportion(n, alpha, alternative, p1, p2)"
   ]
  },
  {
   "cell_type": "markdown",
   "id": "2c4fb1f8",
   "metadata": {},
   "source": [
    "### 3) Power Analysis for means - non normal distribution "
   ]
  },
  {
   "cell_type": "code",
   "execution_count": 83,
   "id": "06698338",
   "metadata": {},
   "outputs": [],
   "source": [
    "def power_simulation_mean_non_normal(alpha, alternative, m1, eff, sd, k=20000):\n",
    "    a = 1.99\n",
    "    p_values = np.zeros(k)  \n",
    "    p_valuesWMW = np.zeros(k)  \n",
    "    for i in range(k):\n",
    "        x1 = st.gamma.rvs(a, loc=m1, scale=sd, size=n)\n",
    "        x2 = st.gamma.rvs(a, loc=eff, scale=sd, size=n) \n",
    "        _, p_values[i] = st.ttest_ind(x1, x2, equal_var=True, alternative=alternative)\n",
    "        _, p_valuesWMW[i] = st.mannwhitneyu(x1, x2, alternative=alternative)\n",
    "    power_t_test = np.mean(p_values < alpha) \n",
    "    print(f\"Power of T test: %.3f%%\" % (100*power_t_test))\n",
    "    power_WMW_test = np.mean(p_valuesWMW < alpha)\n",
    "    print(f\"Power of Mann-Whitney test: %.3f%%\" % (100*power_WMW_test))"
   ]
  },
  {
   "cell_type": "code",
   "execution_count": 85,
   "id": "e89168a1",
   "metadata": {},
   "outputs": [
    {
     "name": "stdout",
     "output_type": "stream",
     "text": [
      "The total sample size needed to have 80% power is 126.\n",
      "The effect size is 0.500\n",
      "Power of T test: 51.705%\n",
      "Power of Mann-Whitney test: 66.565%\n"
     ]
    }
   ],
   "source": [
    "alpha = 0.05 \n",
    "power = 0.80\n",
    "alternative = 'two-sided' \n",
    "\n",
    "m1 = 0\n",
    "m2 = 0.5 \n",
    "sd = 1\n",
    "n_total = 2000 \n",
    "\n",
    "n, eff = effect_size_mean(n_total, alpha, power, alternative, m1, m2, sd)\n",
    "power_simulation_mean_non_normal(alpha, alternative, m1, eff, sd)"
   ]
  },
  {
   "cell_type": "code",
   "execution_count": null,
   "id": "8a3d5caf",
   "metadata": {},
   "outputs": [],
   "source": []
  }
 ],
 "metadata": {
  "kernelspec": {
   "display_name": "Python 3 (ipykernel)",
   "language": "python",
   "name": "python3"
  },
  "language_info": {
   "codemirror_mode": {
    "name": "ipython",
    "version": 3
   },
   "file_extension": ".py",
   "mimetype": "text/x-python",
   "name": "python",
   "nbconvert_exporter": "python",
   "pygments_lexer": "ipython3",
   "version": "3.11.7"
  }
 },
 "nbformat": 4,
 "nbformat_minor": 5
}
