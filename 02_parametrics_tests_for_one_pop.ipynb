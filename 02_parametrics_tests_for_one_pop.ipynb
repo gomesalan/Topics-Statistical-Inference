{
 "cells": [
  {
   "cell_type": "code",
   "execution_count": 1,
   "id": "db67bdc5",
   "metadata": {},
   "outputs": [],
   "source": [
    "import numpy as np \n",
    "import scipy.stats as st\n",
    "from scipy.stats import shapiro\n",
    "from scipy.stats import norm\n",
    "import statsmodels.api as sm\n",
    "from statsmodels.stats.proportion import proportion_confint "
   ]
  },
  {
   "cell_type": "markdown",
   "id": "72e816cd",
   "metadata": {},
   "source": [
    "## Statistical hypothesis test"
   ]
  },
  {
   "cell_type": "markdown",
   "id": "570b08ef",
   "metadata": {},
   "source": [
    "### 1) X ~ N(µ, $σ^2$)  --> Z test "
   ]
  },
  {
   "cell_type": "markdown",
   "id": "0d9e0817",
   "metadata": {},
   "source": [
    "Uma máquina é programada para encher pacotes de café, com média µ e **variância** igual a **400g²**. Sabemos que a máquina está regulada se a quantidade média de gramas nos pacotes de café é de \n",
    "**µ = 500g**.  Para verificar se a máquina está regulada, colhemos uma amostra de **25** pacotes e verificamos se a produção está sob controle, isto é, se µ = 500g ou não. \n",
    "\n",
    "Determine se a máquina está regulada, considerando um **𝛼 = 0.01**.\n",
    "\n",
    "**Ho: µ = 500g** \n",
    "\n",
    "**H1: µ $\\neq$ 500g**"
   ]
  },
  {
   "cell_type": "markdown",
   "id": "96d649f4",
   "metadata": {},
   "source": [
    "#### a) Dados, estatísticas e parametros"
   ]
  },
  {
   "cell_type": "code",
   "execution_count": 2,
   "id": "586d2710",
   "metadata": {},
   "outputs": [],
   "source": [
    "amostra_cafe = [501.58, 505.3, 497.62, 511.23, 502.13, 498.45, 496.38, 498.44, 498.45, 488.0, 508.1, 493.79, 505.24,\n",
    "                492.62, 518.15, 488.77, 495.19, 510.56, 477.39, 508.69, 488.84, 503.39, 499.12, 511.97, 484.84]\n",
    "var = 400 "
   ]
  },
  {
   "cell_type": "markdown",
   "id": "c52e0131",
   "metadata": {},
   "source": [
    "#### b) Teste de normalidade "
   ]
  },
  {
   "cell_type": "code",
   "execution_count": 3,
   "id": "e8b8c763",
   "metadata": {},
   "outputs": [
    {
     "name": "stdout",
     "output_type": "stream",
     "text": [
      "Não rejeitamos a Hipótese Nula - Os dados possuem dist. Normal\n"
     ]
    }
   ],
   "source": [
    "alpha = 0.05 \n",
    "stat_test, p_valor = shapiro(amostra_cafe) \n",
    "\n",
    "if(p_valor <= alpha): \n",
    "    print('Rejeitamos a Hipótese Nula - Os dados não possuem dist. Normal')\n",
    "else:\n",
    "    print('Não rejeitamos a Hipótese Nula - Os dados possuem dist. Normal')"
   ]
  },
  {
   "cell_type": "markdown",
   "id": "d4e6d4d0",
   "metadata": {},
   "source": [
    "#### c) Hypothesis testing"
   ]
  },
  {
   "cell_type": "code",
   "execution_count": 4,
   "id": "c66aa9cd",
   "metadata": {},
   "outputs": [
    {
     "name": "stdout",
     "output_type": "stream",
     "text": [
      "Não rejeitamos a Hipótese Nula\n",
      "-----------------------------------------------------------------------------------------\n",
      "O intervalo de  99.0 % confiança é de:  [489.07, 509.67]\n",
      "Estatística de teste: -0.158\n",
      "Z crítico: -2.576\n",
      "Valor p: 0.875\n"
     ]
    }
   ],
   "source": [
    "alpha = 0.01\n",
    "nivel_confianca = 1 - alpha \n",
    "media_amostral = np.mean(amostra_cafe)\n",
    "desvio_populacional = np.sqrt(var)\n",
    "media_H0 = 500\n",
    "n = len(amostra_cafe)\n",
    "\n",
    "z_statistic = (media_amostral - media_H0)/(desvio_populacional/np.sqrt(n))\n",
    "z_alpha = st.norm.ppf(alpha/2)\n",
    "\n",
    "p_value = 2*norm.cdf(z_statistic)\n",
    "\n",
    "if(p_value <  alpha):\n",
    "    print(\"Rejeitamos a Hipótese Nula\")\n",
    "else:\n",
    "    print(\"Não rejeitamos a Hipótese Nula\")\n",
    "\n",
    "print('-----------------------------------------------------------------------------------------')\n",
    "\n",
    "IC_media = st.norm.interval(nivel_confianca, loc=media_amostral, scale=desvio_populacional/np.sqrt(n))\n",
    "\n",
    "print(\"O intervalo de \", nivel_confianca*100 ,\n",
    "      \"% confiança é de: \", [round(num,2) for num in IC_media])\n",
    "\n",
    "print('Estatística de teste:', round(z_statistic, 3))\n",
    "print('Z crítico:', round(z_alpha, 3))       \n",
    "print('Valor p:', round(p_value, 3))      "
   ]
  },
  {
   "cell_type": "markdown",
   "id": "bcc92608",
   "metadata": {},
   "source": [
    "### 2) X ~ N(?, ?)  --> T test + S estimator "
   ]
  },
  {
   "cell_type": "markdown",
   "id": "f09ab447",
   "metadata": {},
   "source": [
    "Um fabricante afirma que seus cigarros não contêm mais que 30 mg de nicotina. Uma amostra de 35 cigarros fornece média de 32.1 mg e desvio padrão de 2.2 mg. No nível de 5%, os dados refutam ou não a afirmação do fabricante?\n",
    "\n",
    "**Ho: µ = 30g** \n",
    "\n",
    "**H1: µ > 30g**"
   ]
  },
  {
   "cell_type": "markdown",
   "id": "087674bc",
   "metadata": {},
   "source": [
    "#### a) Dados, estatísticas e parametros"
   ]
  },
  {
   "cell_type": "code",
   "execution_count": 5,
   "id": "716811e5",
   "metadata": {},
   "outputs": [],
   "source": [
    "amostra_cigarro =  [33.81, 31.9, 30.15, 27.55, 32.87, 36.74, 31.75, 30.06, 34.3, 33.09, 32.87, 32.25, 32.1, 31.91, \n",
    "                    31.13, 30.18, 33.0, 37.04, 34.62, 37.12, 33.3, 33.31, 30.91, 28.94, 33.51, 30.68, 31.99, 32.12,\n",
    "                    31.64, 28.13, 29.21, 31.8, 32.52, 30.24, 30.57]"
   ]
  },
  {
   "cell_type": "markdown",
   "id": "00528568",
   "metadata": {},
   "source": [
    "#### b) Teste de normalidade"
   ]
  },
  {
   "cell_type": "code",
   "execution_count": 6,
   "id": "fa60e28d",
   "metadata": {},
   "outputs": [
    {
     "name": "stdout",
     "output_type": "stream",
     "text": [
      "Não rejeitamos a Hipótese Nula - Os dados possuem dist. Normal\n"
     ]
    }
   ],
   "source": [
    "stat_test, p_valor = shapiro(amostra_cigarro) \n",
    "\n",
    "if(p_valor <= alpha): \n",
    "    print('Rejeitamos a Hipótese Nula - Os dados não possuem dist. Normal')\n",
    "else:\n",
    "    print('Não rejeitamos a Hipótese Nula - Os dados possuem dist. Normal')"
   ]
  },
  {
   "cell_type": "markdown",
   "id": "7cafaa0b",
   "metadata": {},
   "source": [
    "#### c) Hypothesis testing"
   ]
  },
  {
   "cell_type": "code",
   "execution_count": 7,
   "id": "9ffc0d83",
   "metadata": {},
   "outputs": [
    {
     "name": "stdout",
     "output_type": "stream",
     "text": [
      "Rejeitamos a Hipótese Nula\n",
      "-----------------------------------------------------------------------------------------\n",
      "O intervalo de  95.0 % confiança para a quantidade de nicotina nos cigarros é:  [31.33, 32.86]\n",
      "Estatística de teste: 5.534\n",
      "Valor p: 0.0\n"
     ]
    }
   ],
   "source": [
    "alpha = 0.05\n",
    "nivel_confianca = 1 - alpha \n",
    "media_amostral = np.mean(amostra_cigarro)\n",
    "desvio_amostral = np.std(amostra_cigarro, ddof=1) \n",
    "media_H0 = 30\n",
    "n = len(amostra_cigarro)\n",
    "graus_de_liberdade = n - 1\n",
    "\n",
    "\n",
    "t_statistic, p_value = st.ttest_1samp(a=amostra_cigarro, popmean=media_H0, alternative='greater')\n",
    "\n",
    "if(p_value < alpha):\n",
    "    print(\"Rejeitamos a Hipótese Nula\")\n",
    "else:\n",
    "    print(\"Não rejeitamos a Hipótese Nula\")\n",
    "print('-----------------------------------------------------------------------------------------')\n",
    "\n",
    "IC_media = st.t.interval(nivel_confianca, df = graus_de_liberdade,  loc=media_amostral, scale=desvio_amostral/np.sqrt(n))\n",
    "\n",
    "print(\"O intervalo de \", nivel_confianca*100 ,\n",
    "          \"% confiança para a quantidade de nicotina nos cigarros é: \", \n",
    "      [round(num,2) for num in IC_media])\n",
    "\n",
    "print('Estatística de teste:', round(t_statistic, 3))     \n",
    "print('Valor p:', round(p_value, 3))"
   ]
  },
  {
   "cell_type": "markdown",
   "id": "eda0f5ed",
   "metadata": {},
   "source": [
    "### 3) X ~ B(n, ?)  --> Z test + p estimator "
   ]
  },
  {
   "cell_type": "markdown",
   "id": "992393d4",
   "metadata": {},
   "source": [
    "Uma empresa desenvolveu uma nova vacina de  Covid, e afirma que a proporção de imunizados é maior do que 50%. Em uma amostra de 726 pessoas que tomaram a vacina, 668 estavam imunizadas. No nível de 5%, teste a afirmativa de que a proporção de imunizados é maior do que 50%.\n",
    "\n",
    "**Ho: p = 0,50** \n",
    "\n",
    "**H1: p > 0,50**"
   ]
  },
  {
   "cell_type": "markdown",
   "id": "0792497b",
   "metadata": {},
   "source": [
    "#### a) Hypothesis testing"
   ]
  },
  {
   "cell_type": "code",
   "execution_count": 8,
   "id": "0bb9346d",
   "metadata": {
    "scrolled": true
   },
   "outputs": [
    {
     "name": "stdout",
     "output_type": "stream",
     "text": [
      "Rejeitamos a Hipótese Nula\n",
      "-----------------------------------------------------------------------------------------\n",
      "Estatística de teste: 22.639\n",
      "Valor p: 0.0\n",
      "O intervalo de  95.0 % confiança para a proporção de imunizados ser maior que 50% é :  [0.9, 0.94] \n",
      "\n"
     ]
    }
   ],
   "source": [
    "alpha = 0.05 \n",
    "sucessos = 668\n",
    "tentativas = 726\n",
    "p0 = 0.5  \n",
    "\n",
    "p_chapeu = round(sucessos / tentativas, 2)\n",
    "\n",
    "z_statistic, p_value = sm.stats.proportions_ztest(sucessos, tentativas, value=p0, alternative='larger', prop_var=p0)\n",
    "\n",
    "if(p_value <  alpha):\n",
    "    print(\"Rejeitamos a Hipótese Nula\")\n",
    "else:\n",
    "    print(\"Não rejeitamos a Hipótese Nula\")\n",
    "    \n",
    "print('-----------------------------------------------------------------------------------------')\n",
    "\n",
    "print('Estatística de teste:', round(z_statistic, 3))     \n",
    "print('Valor p:', round(p_value, 3))\n",
    "\n",
    "\n",
    "ICp_95 = proportion_confint(sucessos, tentativas, alpha=alpha)\n",
    "print(\"O intervalo de \", (1-alpha)*100 ,\n",
    "      \"% confiança para a proporção de imunizados ser maior que 50% é : \", \n",
    "      [round(num,3) for num in ICp_95],\"\\n\")"
   ]
  },
  {
   "cell_type": "markdown",
   "id": "4b6da2a2",
   "metadata": {},
   "source": [
    "### 4) X ~ N(?, ?)  --> Teste para variância de uma pop normal "
   ]
  },
  {
   "cell_type": "markdown",
   "id": "250950a6",
   "metadata": {},
   "source": [
    "Na indústria farmacêutica, baixa variabilidade é sinônimo de qualidade. Para isso, constantemente monitora-se e corrige-se a produção de medicamentos para manter níveis aceitáveis de qualidade. Uma amostra de frascos de medicamento foi inspecionada em relação à concentração de um determinado princípio ativo na solução.\n",
    "\n",
    "Sabe-se que o lote é rejeitado se claramente ultrapassar o limite de σ2 = 0.0009\n",
    "\n",
    "Faça um teste para verificar se a variância é maior do que 0.0009, com α = 5%.\n",
    "\n",
    "**Ho: σ = 0.0009** \n",
    "\n",
    "**H1: σ > 0.0009**"
   ]
  },
  {
   "cell_type": "markdown",
   "id": "052ad561",
   "metadata": {},
   "source": [
    "#### a) Dados, estatísticas e parametros"
   ]
  },
  {
   "cell_type": "code",
   "execution_count": 9,
   "id": "5e3c7185",
   "metadata": {},
   "outputs": [],
   "source": [
    "amostra_medicamento = [0.15,0.18,0.18,0.20,0.21,0.22,0.25,0.27,0.17,0.18,0.19,0.20,0.21,0.22,0.26,0.27]"
   ]
  },
  {
   "cell_type": "markdown",
   "id": "d26a68a2",
   "metadata": {},
   "source": [
    "#### b) Teste de normalidade"
   ]
  },
  {
   "cell_type": "code",
   "execution_count": 10,
   "id": "68794775",
   "metadata": {},
   "outputs": [
    {
     "name": "stdout",
     "output_type": "stream",
     "text": [
      "Não rejeitamos a Hipótese Nula - Os dados possuem dist. Normal\n"
     ]
    }
   ],
   "source": [
    "stat_test, p_valor = shapiro(amostra_medicamento) \n",
    "\n",
    "if(p_valor <= alpha): \n",
    "    print('Rejeitamos a Hipótese Nula - Os dados não possuem dist. Normal')\n",
    "else:\n",
    "    print('Não rejeitamos a Hipótese Nula - Os dados possuem dist. Normal')"
   ]
  },
  {
   "cell_type": "markdown",
   "id": "eae43931",
   "metadata": {},
   "source": [
    "#### c) Hypothesis testing"
   ]
  },
  {
   "cell_type": "code",
   "execution_count": 14,
   "id": "be6e19e8",
   "metadata": {},
   "outputs": [
    {
     "name": "stdout",
     "output_type": "stream",
     "text": [
      "Não rejeitamos a Hipótese Nula\n",
      "-----------------------------------------------------------------------------------------\n",
      "Estatística de teste: 21.667\n",
      "Valor p: 0.117\n",
      "Intervalo 95% de Confiança da Variância: (0.0007, 0.0031)\n"
     ]
    }
   ],
   "source": [
    "hipotese_alternativa = 'greater'\n",
    "nivel_significancia = 0.05 \n",
    "variancia_H0 = 0.0009\n",
    "variancia_amostral = np.var(amostra_medicamento, ddof = 1).round(4) # variancia amostral\n",
    "nivel_confianca = 1 - nivel_significancia\n",
    "n = len(amostra_medicamento)\n",
    "graus_de_liberdade = n - 1\n",
    "\n",
    "qui_quadrado = ((n-1)*variancia_amostral) / variancia_H0\n",
    "\n",
    "if(hipotese_alternativa == \"two-sided\"):\n",
    "    p_value = 2 * (1 - st.chi2.cdf(qui_quadrado, graus_de_liberdade))\n",
    "elif(hipotese_alternativa == \"less\"):\n",
    "    p_value = st.chi2.cdf(qui_quadrado, graus_de_liberdade)\n",
    "elif(hipotese_alternativa == \"greater\"):\n",
    "    p_value = 1 - st.chi2.cdf(qui_quadrado, graus_de_liberdade)\n",
    "\n",
    "if(p_value <  nivel_significancia):\n",
    "    print(\"Rejeitamos a Hipótese Nula\")\n",
    "else:\n",
    "    print(\"Não rejeitamos a Hipótese Nula\") \n",
    "    \n",
    "print('-----------------------------------------------------------------------------------------')\n",
    "\n",
    "print('Estatística de teste:', round(qui_quadrado, 3))     \n",
    "print('Valor p:', round(p_value, 3))\n",
    " \n",
    "lower_bound = ((n-1) * variancia_amostral) / st.chi2.ppf(1 - (nivel_significancia/2), graus_de_liberdade)\n",
    "upper_bound = ((n-1) * variancia_amostral) / st.chi2.ppf(nivel_significancia/2, graus_de_liberdade)\n",
    "\n",
    "print(f\"Intervalo 95% de Confiança da Variância: ({lower_bound.round(4)}, {upper_bound.round(4)})\")"
   ]
  },
  {
   "cell_type": "code",
   "execution_count": null,
   "id": "ca62718b",
   "metadata": {},
   "outputs": [],
   "source": []
  }
 ],
 "metadata": {
  "kernelspec": {
   "display_name": "Python 3 (ipykernel)",
   "language": "python",
   "name": "python3"
  },
  "language_info": {
   "codemirror_mode": {
    "name": "ipython",
    "version": 3
   },
   "file_extension": ".py",
   "mimetype": "text/x-python",
   "name": "python",
   "nbconvert_exporter": "python",
   "pygments_lexer": "ipython3",
   "version": "3.11.7"
  }
 },
 "nbformat": 4,
 "nbformat_minor": 5
}
