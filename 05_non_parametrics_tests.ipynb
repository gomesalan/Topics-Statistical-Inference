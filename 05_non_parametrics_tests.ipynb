{
 "cells": [
  {
   "cell_type": "code",
   "execution_count": 1,
   "id": "b2a0e074",
   "metadata": {},
   "outputs": [],
   "source": [
    "import pandas as pd \n",
    "import numpy as np\n",
    "import scipy.stats as st\n",
    "from scipy.stats import chi2_contingency\n",
    "\n",
    "from itertools import combinations\n",
    "from statsmodels.sandbox.stats.multicomp import multipletests\n",
    "\n",
    "from scipy.stats import fisher_exact\n",
    "\n",
    "import statsmodels.stats.contingency_tables as contingency\n",
    "\n",
    "from scipy.stats import binom_test\n",
    "\n",
    "from scipy.stats import wilcoxon\n",
    "\n",
    "from scipy.stats import mannwhitneyu\n",
    "\n",
    "from scipy.stats import kruskal\n",
    "import pingouin as pg\n",
    "from scikit_posthocs import posthoc_dunn\n",
    "\n",
    "import scikit_posthocs as scipost"
   ]
  },
  {
   "cell_type": "markdown",
   "id": "f12f8f9b",
   "metadata": {},
   "source": [
    "## 1) Teste $\\chi^2$ "
   ]
  },
  {
   "cell_type": "markdown",
   "id": "949d80d8",
   "metadata": {},
   "source": [
    "### 1.1) Teste de Homogeneidade\n",
    "\n",
    "**Teste de diferença de proporções para K populações independentes.**"
   ]
  },
  {
   "cell_type": "markdown",
   "id": "d815c68e",
   "metadata": {},
   "source": [
    "A administração de um hospital deseja verificar se luvas de três marcas (A, B e C) são homogêneas quanto à permeabilidade a vírus. Para isto, realizou um experimento, no qual 240 luvas da marca A, 240 luvas da marca B e 300 luvas da marca C foram submetidas à tensão.\n",
    "\n",
    "Durante os testes, 151 luvas da marca A (62.9%), 134 luvas da marca B (55.8%) e 177 luvas da marca C (59.0%) deixaram passar vírus. Os dados do experimento apresentam evidências estatísticas suficientes contra a hipótese de que as três marcas possuem a mesma permeabilidade?\n",
    "\n",
    "$$ H_0: p_1 = p_2 = p_3\\\\H_1: \\text{Pelo menos uma é diferente} $$"
   ]
  },
  {
   "cell_type": "code",
   "execution_count": 2,
   "id": "819b3342",
   "metadata": {
    "scrolled": true
   },
   "outputs": [
    {
     "data": {
      "text/html": [
       "<div>\n",
       "<style scoped>\n",
       "    .dataframe tbody tr th:only-of-type {\n",
       "        vertical-align: middle;\n",
       "    }\n",
       "\n",
       "    .dataframe tbody tr th {\n",
       "        vertical-align: top;\n",
       "    }\n",
       "\n",
       "    .dataframe thead th {\n",
       "        text-align: right;\n",
       "    }\n",
       "</style>\n",
       "<table border=\"1\" class=\"dataframe\">\n",
       "  <thead>\n",
       "    <tr style=\"text-align: right;\">\n",
       "      <th></th>\n",
       "      <th>Luva</th>\n",
       "      <th>Resposta</th>\n",
       "    </tr>\n",
       "  </thead>\n",
       "  <tbody>\n",
       "    <tr>\n",
       "      <th>0</th>\n",
       "      <td>A</td>\n",
       "      <td>Sim</td>\n",
       "    </tr>\n",
       "    <tr>\n",
       "      <th>1</th>\n",
       "      <td>A</td>\n",
       "      <td>Sim</td>\n",
       "    </tr>\n",
       "    <tr>\n",
       "      <th>2</th>\n",
       "      <td>A</td>\n",
       "      <td>Sim</td>\n",
       "    </tr>\n",
       "    <tr>\n",
       "      <th>3</th>\n",
       "      <td>A</td>\n",
       "      <td>Sim</td>\n",
       "    </tr>\n",
       "    <tr>\n",
       "      <th>4</th>\n",
       "      <td>A</td>\n",
       "      <td>Sim</td>\n",
       "    </tr>\n",
       "  </tbody>\n",
       "</table>\n",
       "</div>"
      ],
      "text/plain": [
       "  Luva Resposta\n",
       "0    A      Sim\n",
       "1    A      Sim\n",
       "2    A      Sim\n",
       "3    A      Sim\n",
       "4    A      Sim"
      ]
     },
     "execution_count": 2,
     "metadata": {},
     "output_type": "execute_result"
    }
   ],
   "source": [
    "df_luvas = pd.read_csv('Permeabilidade_Luvas.csv', sep= ',')\n",
    "df_luvas.head()"
   ]
  },
  {
   "cell_type": "markdown",
   "id": "91e2f9b2",
   "metadata": {},
   "source": [
    "#### 1.1.1) Contruindo a tabela de contigência "
   ]
  },
  {
   "cell_type": "code",
   "execution_count": 3,
   "id": "57d45b64",
   "metadata": {
    "scrolled": false
   },
   "outputs": [
    {
     "data": {
      "text/html": [
       "<div>\n",
       "<style scoped>\n",
       "    .dataframe tbody tr th:only-of-type {\n",
       "        vertical-align: middle;\n",
       "    }\n",
       "\n",
       "    .dataframe tbody tr th {\n",
       "        vertical-align: top;\n",
       "    }\n",
       "\n",
       "    .dataframe thead th {\n",
       "        text-align: right;\n",
       "    }\n",
       "</style>\n",
       "<table border=\"1\" class=\"dataframe\">\n",
       "  <thead>\n",
       "    <tr style=\"text-align: right;\">\n",
       "      <th>Resposta</th>\n",
       "      <th>Nao</th>\n",
       "      <th>Sim</th>\n",
       "      <th>All</th>\n",
       "    </tr>\n",
       "    <tr>\n",
       "      <th>Luva</th>\n",
       "      <th></th>\n",
       "      <th></th>\n",
       "      <th></th>\n",
       "    </tr>\n",
       "  </thead>\n",
       "  <tbody>\n",
       "    <tr>\n",
       "      <th>A</th>\n",
       "      <td>89</td>\n",
       "      <td>151</td>\n",
       "      <td>240</td>\n",
       "    </tr>\n",
       "    <tr>\n",
       "      <th>B</th>\n",
       "      <td>106</td>\n",
       "      <td>134</td>\n",
       "      <td>240</td>\n",
       "    </tr>\n",
       "    <tr>\n",
       "      <th>C</th>\n",
       "      <td>123</td>\n",
       "      <td>177</td>\n",
       "      <td>300</td>\n",
       "    </tr>\n",
       "    <tr>\n",
       "      <th>All</th>\n",
       "      <td>318</td>\n",
       "      <td>462</td>\n",
       "      <td>780</td>\n",
       "    </tr>\n",
       "  </tbody>\n",
       "</table>\n",
       "</div>"
      ],
      "text/plain": [
       "Resposta  Nao  Sim  All\n",
       "Luva                   \n",
       "A          89  151  240\n",
       "B         106  134  240\n",
       "C         123  177  300\n",
       "All       318  462  780"
      ]
     },
     "execution_count": 3,
     "metadata": {},
     "output_type": "execute_result"
    }
   ],
   "source": [
    "tabela_cont = pd.crosstab(df_luvas['Luva'], df_luvas['Resposta'], margins=True)\n",
    "tabela_cont"
   ]
  },
  {
   "cell_type": "code",
   "execution_count": 4,
   "id": "78b5cd06",
   "metadata": {},
   "outputs": [
    {
     "data": {
      "text/html": [
       "<div>\n",
       "<style scoped>\n",
       "    .dataframe tbody tr th:only-of-type {\n",
       "        vertical-align: middle;\n",
       "    }\n",
       "\n",
       "    .dataframe tbody tr th {\n",
       "        vertical-align: top;\n",
       "    }\n",
       "\n",
       "    .dataframe thead th {\n",
       "        text-align: right;\n",
       "    }\n",
       "</style>\n",
       "<table border=\"1\" class=\"dataframe\">\n",
       "  <thead>\n",
       "    <tr style=\"text-align: right;\">\n",
       "      <th>Resposta</th>\n",
       "      <th>Nao</th>\n",
       "      <th>Sim</th>\n",
       "    </tr>\n",
       "    <tr>\n",
       "      <th>Luva</th>\n",
       "      <th></th>\n",
       "      <th></th>\n",
       "    </tr>\n",
       "  </thead>\n",
       "  <tbody>\n",
       "    <tr>\n",
       "      <th>A</th>\n",
       "      <td>89</td>\n",
       "      <td>151</td>\n",
       "    </tr>\n",
       "    <tr>\n",
       "      <th>B</th>\n",
       "      <td>106</td>\n",
       "      <td>134</td>\n",
       "    </tr>\n",
       "    <tr>\n",
       "      <th>C</th>\n",
       "      <td>123</td>\n",
       "      <td>177</td>\n",
       "    </tr>\n",
       "  </tbody>\n",
       "</table>\n",
       "</div>"
      ],
      "text/plain": [
       "Resposta  Nao  Sim\n",
       "Luva              \n",
       "A          89  151\n",
       "B         106  134\n",
       "C         123  177"
      ]
     },
     "execution_count": 4,
     "metadata": {},
     "output_type": "execute_result"
    }
   ],
   "source": [
    "tabela_cont = pd.crosstab(df_luvas['Luva'], df_luvas['Resposta'], margins=False)\n",
    "tabela_cont"
   ]
  },
  {
   "cell_type": "markdown",
   "id": "4915b4ef",
   "metadata": {},
   "source": [
    "#### TH"
   ]
  },
  {
   "cell_type": "code",
   "execution_count": 5,
   "id": "bb4d506b",
   "metadata": {},
   "outputs": [
    {
     "name": "stdout",
     "output_type": "stream",
     "text": [
      "Não temos evidências para rejeitar a hipótese nula.\n",
      "Valor-p: 0.2859\n"
     ]
    }
   ],
   "source": [
    "alpha = 0.05\n",
    "\n",
    "chi2_obs, p, gl, exp = chi2_contingency(tabela_cont, correction=True)\n",
    "\n",
    "chi_critic = st.chi2.ppf(1 - alpha, gl) # unilateral \n",
    "\n",
    "if(abs(chi2_obs) > chi_critic):\n",
    "    print(f\"Rejeitamos a hipótese nula.\")\n",
    "else:\n",
    "    print(f\"Não temos evidências para rejeitar a hipótese nula.\")\n",
    "\n",
    "print(f\"Valor-p: {p:.4f}\")"
   ]
  },
  {
   "cell_type": "markdown",
   "id": "056e18b0",
   "metadata": {},
   "source": [
    "#### Teste post-hoc - em caso de rejeição de Ho "
   ]
  },
  {
   "cell_type": "code",
   "execution_count": 6,
   "id": "bd84591c",
   "metadata": {},
   "outputs": [
    {
     "name": "stdout",
     "output_type": "stream",
     "text": [
      "original p-value\tcorrected p-value\treject?\n",
      "('A', 'B'): p_value: 0.137024; corrected: 0.411072 reject: False\n",
      "('A', 'C'): p_value: 0.402332; corrected: 0.514226 reject: False\n",
      "('B', 'C'): p_value: 0.514226; corrected: 0.514226 reject: False\n"
     ]
    }
   ],
   "source": [
    "df = tabela_cont\n",
    "\n",
    "all_combinations = list(combinations(df.index, 2))\n",
    "p_vals = []\n",
    "\n",
    "for comb in all_combinations:\n",
    "    new_df = df[(df.index == comb[0]) | (df.index == comb[1])]\n",
    "    chi2, p, gl, ex = st.chi2_contingency(new_df, correction=True)\n",
    "    p_vals.append(p)\n",
    "    \n",
    "reject_list, corrected_p_vals = multipletests(p_vals, method='fdr_bh')[:2]\n",
    "\n",
    "print(\"original p-value\\tcorrected p-value\\treject?\")\n",
    "for p_val, corr_p_val, reject, comb in zip(p_vals, corrected_p_vals, reject_list, all_combinations):\n",
    "        print(f\"{comb}: p_value: {p_val:3f}; corrected: {corr_p_val:3f} reject: {reject}\") "
   ]
  },
  {
   "cell_type": "markdown",
   "id": "a886b84a",
   "metadata": {},
   "source": [
    "## 2) Teste exato de Fischer \n",
    "\n",
    "**Teste de diferença de proporções para 2 populações independentes.**"
   ]
  },
  {
   "cell_type": "markdown",
   "id": "4326b84e",
   "metadata": {},
   "source": [
    "Em um estudo de situações nas quais pessoas ameaçam suicido saltando de um local alto, foi observado que ocorrem vaias e provocações por certos espectadores em alguns casos e outros não. \n",
    "\n",
    "Um estudo examinou 21 relatos de suicídios e investigou a relação entre provocações por multidões e o mês do ano (indicador grosseiro para temperatura). A hipótese é de que há um aumento de provocações por multidões quando faz calor. \n",
    "\n",
    "Usando a α=0.05 verifique a hipótese. \n",
    "\n",
    "|                | Provocação | Não provocação | Total |\n",
    "|:--------------:|:----------:|:--------------:|:-----:|\n",
    "| Junho-Setembro |      8     |        4       |   12  |\n",
    "|  Outubro-Maio  |      2     |        7       |   9   |\n",
    "|      Total     |     10     |       11       |   21  |\n",
    "\n",
    "$$ H_0: p_1 = p_2 \\\\H_1: \\text{Pelo menos uma é diferente} $$"
   ]
  },
  {
   "cell_type": "code",
   "execution_count": 7,
   "id": "b3f24e5a",
   "metadata": {},
   "outputs": [
    {
     "name": "stdout",
     "output_type": "stream",
     "text": [
      "Não rejeitamos a hipótese nula\n",
      "Valor p: 0.056\n"
     ]
    }
   ],
   "source": [
    "alpha = 0.05\n",
    "\n",
    "contingency_table = [[8, 4], [2, 7]]\n",
    "\n",
    "estat_obs, p_valor = fisher_exact(contingency_table, alternative='greater')\n",
    "\n",
    "if p_valor < alpha:\n",
    "    print(\"Rejeitamos a hipótese nula\")\n",
    "else:\n",
    "    print(\"Não rejeitamos a hipótese nula\")\n",
    "    \n",
    "print(\"Valor p:\", p_valor.round(3))"
   ]
  },
  {
   "cell_type": "markdown",
   "id": "b46942b7",
   "metadata": {},
   "source": [
    "## 3) Teste de McNemar\n",
    "\n",
    "**Teste de diferença de proporções para 2 populações dependentes.**\n",
    "\n",
    "Necessita de tabela de contingência 2x2"
   ]
  },
  {
   "cell_type": "markdown",
   "id": "504d629a",
   "metadata": {},
   "source": [
    "Numa campanha política, após uma série de fatos que supostamente difamaram a imagem do candidato B em favor do candidato A, investigou-se as mudanças ocorridas com relação à preferência do eleitorado. \n",
    "\n",
    "O que podemos concluir com os dados observados a um nível de 5%?\n",
    "\n",
    "|             | Candidato A  | Candidato B |\n",
    "|:-----------:|:------------:|:-----------:|\n",
    "| Candidato A |      83      |      47     |\n",
    "| Candidato B |      18      |      52     |\n",
    "\n",
    "$$ H_0: p_1 = p_2 \\\\H_1: p_1 \\neq p_2 $$"
   ]
  },
  {
   "cell_type": "code",
   "execution_count": 8,
   "id": "98da695d",
   "metadata": {},
   "outputs": [
    {
     "name": "stdout",
     "output_type": "stream",
     "text": [
      "Rejeitamos a hipótese nula.\n",
      "Valor p: 0.001\n"
     ]
    }
   ],
   "source": [
    "alpha = 0.05\n",
    "\n",
    "contingency_table = np.array([[83, 47], [18, 52]]) \n",
    "\n",
    "result = contingency.mcnemar(contingency_table, exact=False, correction=True)\n",
    "# exact=True --> binomial distribution.\n",
    "# exact=False --> chisquare distribution.\n",
    "\n",
    "if result.pvalue < alpha:\n",
    "    print(\"Rejeitamos a hipótese nula.\")\n",
    "    if contingency_table[1, 0] + contingency_table[1, 1] < 10:\n",
    "        print(\"Nota: A suposição b + c >= 10 não é atendida.\")\n",
    "else:\n",
    "    print(\"Não temos evidências para rejeitar a hipótese nula.\")\n",
    "\n",
    "print(\"Valor p:\", result.pvalue.round(3))"
   ]
  },
  {
   "cell_type": "markdown",
   "id": "83c848a0",
   "metadata": {},
   "source": [
    "## 4) Teste Binomial \n",
    "\n",
    "**Teste de proporção para uma amostra**\n",
    "\n",
    "Usado quando $n\\le35$ (pelo TLC não temos distribuição normal para usar o teste Z) "
   ]
  },
  {
   "cell_type": "markdown",
   "id": "aa9e2744",
   "metadata": {},
   "source": [
    "Dois supermercados disputam a preferência dos consumidores de uma cidade. O supermercado A realiza então uma campanha com distribuição de prêmios para aumentar o número de fregueses. 100 consumidores foram acompanhados antes e depois da campanha, onde perguntou-se a cada um deles sobre a sua preferência. Os resultados seguem abaixo. Utilize α=0,05.\n",
    "\n",
    "|       |  A |  B | Total |\n",
    "|:-----:|:--:|:--:|:-----:|\n",
    "|   A   | 37 |  3 |   40  |\n",
    "|   B   | 13 | 47 |   60  |\n",
    "| Total | 50 | 50 |  100  |"
   ]
  },
  {
   "cell_type": "code",
   "execution_count": 9,
   "id": "5b6df913",
   "metadata": {},
   "outputs": [
    {
     "name": "stdout",
     "output_type": "stream",
     "text": [
      "Rejeitamos a hipótese nula.\n",
      "Valor p: 0.011\n"
     ]
    },
    {
     "name": "stderr",
     "output_type": "stream",
     "text": [
      "/var/folders/y9/p4kzsp2s2m97hj45x03kq3g00000gn/T/ipykernel_3363/1801530233.py:7: DeprecationWarning: 'binom_test' is deprecated in favour of 'binomtest' from version 1.7.0 and will be removed in Scipy 1.12.0.\n",
      "  p_valor  = binom_test(x=x, n=n, p=p0, alternative='less')\n"
     ]
    }
   ],
   "source": [
    "alpha = 0.05\n",
    "\n",
    "n = 16\n",
    "x = 3\n",
    "p0 = 0.5\n",
    "\n",
    "p_valor  = binom_test(x=x, n=n, p=p0, alternative='less')\n",
    "\n",
    "if p_valor < alpha:\n",
    "    print(\"Rejeitamos a hipótese nula.\")\n",
    "else:\n",
    "    print(\"Não rejeitamos a hipótese nula.\")\n",
    "    \n",
    "print(\"Valor p:\", p_valor.round(3))"
   ]
  },
  {
   "cell_type": "markdown",
   "id": "3c967383",
   "metadata": {},
   "source": [
    "Uma empresa lançou recentemente no mercado uma dieta de emagrecimento. E pretende-se averiguar se a proporção de consumidores com idades superiores a 60 anos é maior que 0.2. \n",
    "\n",
    "Para tal procedeu na escolha aleatória de 20 indivíduos entre os adeptos da nova dieta, e apurou que\n",
    "apenas 5 tinham idade superior a 60 anos. Utilize α=0,05."
   ]
  },
  {
   "cell_type": "code",
   "execution_count": 10,
   "id": "2264d21f",
   "metadata": {},
   "outputs": [
    {
     "name": "stdout",
     "output_type": "stream",
     "text": [
      "Não rejeitamos a hipótese nula.\n",
      "Valor p: 0.37\n"
     ]
    },
    {
     "name": "stderr",
     "output_type": "stream",
     "text": [
      "/var/folders/y9/p4kzsp2s2m97hj45x03kq3g00000gn/T/ipykernel_3363/2070244784.py:7: DeprecationWarning: 'binom_test' is deprecated in favour of 'binomtest' from version 1.7.0 and will be removed in Scipy 1.12.0.\n",
      "  p_valor  = binom_test(x=x, n=n, p=p0, alternative='greater')\n"
     ]
    }
   ],
   "source": [
    "alpha = 0.05\n",
    "\n",
    "n = 20\n",
    "x = 5\n",
    "p0 = 0.2\n",
    "\n",
    "p_valor  = binom_test(x=x, n=n, p=p0, alternative='greater')\n",
    "\n",
    "if p_valor < alpha:\n",
    "    print(\"Rejeitamos a hipótese nula.\")\n",
    "else:\n",
    "    print(\"Não rejeitamos a hipótese nula.\")\n",
    "    \n",
    "print(\"Valor p:\", p_valor.round(3))"
   ]
  },
  {
   "cell_type": "markdown",
   "id": "6cf26941",
   "metadata": {},
   "source": [
    "## 5) Teste da Mediana \n",
    "\n",
    "**Teste para diferença de medianas de duas populações independentes** \n",
    "\n",
    "Se (n1+n2) > 20 --> Teste $\\chi^2$ + correção de Yates \n",
    "\n",
    "Se (n1+n2) $\\le$ 20 --> Teste exato de Fisher "
   ]
  },
  {
   "cell_type": "markdown",
   "id": "8cc35bc8",
   "metadata": {},
   "source": [
    "Os dados apresentam a quantidade de salários mínimos dos funcionários de uma empresa de dois setores: Recursos Humanos e Controle de Qualidade.  Verifique se os salários do RH provém de populações com mediana maior do que da população de CQ. \n",
    "\n",
    "| RH | CQ |\n",
    "|----|----|\n",
    "| 4  | 11 |\n",
    "| 3  | 10 |\n",
    "| 8  | 7  |\n",
    "| 3  | 6  |\n",
    "| 5  | 5  |\n",
    "| 7  | 8  |\n",
    "| 2  | 9  |\n",
    "|    | 10 |\n",
    "\n",
    "$$ H_0: md_{rh} = md_{cq} \\\\H_1: md_{rh} > md_{cq} $$"
   ]
  },
  {
   "cell_type": "code",
   "execution_count": 11,
   "id": "65cfb580",
   "metadata": {},
   "outputs": [
    {
     "name": "stdout",
     "output_type": "stream",
     "text": [
      "Não rejeitamos a hipótese nula\n",
      "Valor p: 0.994\n"
     ]
    }
   ],
   "source": [
    "alpha = 0.05\n",
    "\n",
    "contingency_table = [[1, 5], [6, 3]]\n",
    "\n",
    "estat_obs, p_valor = fisher_exact(contingency_table, alternative='greater')\n",
    "\n",
    "if p_valor < alpha:\n",
    "    print(\"Rejeitamos a hipótese nula\")\n",
    "else:\n",
    "    print(\"Não rejeitamos a hipótese nula\")\n",
    "    \n",
    "print(\"Valor p:\", p_valor.round(3))"
   ]
  },
  {
   "cell_type": "markdown",
   "id": "1f5e68e3",
   "metadata": {},
   "source": [
    "Nos mesmos dois setores da empresa citada anteriormente, registrou-se os escores de um teste de inteligência emocional. Verifique a hipótese de que as amostras provêm de populações com a mesma mediana. \n",
    "\n",
    "| RH | CQ |\n",
    "|----|----|\n",
    "| 15 | 8  |\n",
    "| 12 | 7  |\n",
    "| 13 | 14 |\n",
    "| 9  | 10 |\n",
    "| 18 | 8  |\n",
    "| 11 | 6  |\n",
    "| 12 | 7  |\n",
    "| 13 | 6  |\n",
    "| 14 | 8  |\n",
    "| 14 | 4  |\n",
    "| 12 |    |\n",
    "| 12 |    |\n",
    "| 10 |    |\n",
    "| 11 |    |"
   ]
  },
  {
   "cell_type": "code",
   "execution_count": 12,
   "id": "a00c2f62",
   "metadata": {},
   "outputs": [
    {
     "name": "stdout",
     "output_type": "stream",
     "text": [
      "Rejeitamos a hipótese nula.\n",
      "Valor-p: 0.0104\n"
     ]
    }
   ],
   "source": [
    "alpha = 0.05\n",
    "\n",
    "contingency_table = [[10, 1], [4, 9]]\n",
    "\n",
    "chi2_obs, p, gl, Exp = chi2_contingency(contingency_table)\n",
    "\n",
    "chi_critic = st.chi2.ppf(1 - alpha, gl)\n",
    "\n",
    "if(abs(chi2_obs) > chi_critic):\n",
    "    print(f\"Rejeitamos a hipótese nula.\")\n",
    "else:\n",
    "    print(f\"Não temos evidências para rejeitar a hipótese nula.\")\n",
    "\n",
    "print(f\"Valor-p: {p:.4f}\")"
   ]
  },
  {
   "cell_type": "markdown",
   "id": "0b13f6ea",
   "metadata": {},
   "source": [
    "## 6) Teste de Postos com Sinais de Wilcoxon\n",
    "\n",
    "**Teste para diferença de medianas de duas populações dependentes**"
   ]
  },
  {
   "cell_type": "markdown",
   "id": "5d3a1097",
   "metadata": {},
   "source": [
    "Os dados a seguir são das colheitas de espigas de milho (em libras por acre) de dois diferentes tipos de sementes (normais e secas no forno) que foram usados em lotes adjacentes. Usando o teste dos wilcoxom, verifique se há diferença entre as colheitas de milho de semente normal e semente secada no forno. \n",
    "Utilizar α=0,05.\n",
    "\n",
    "| Normal | Seca |\n",
    "|:------:|:------:|\n",
    "|  1903  |  2009  |\n",
    "|  1935  |  1915  |\n",
    "|  1910  |  2011  |\n",
    "| 2496   | 2463   |\n",
    "| 2108   | 2180   |\n",
    "| 1961   | 1925   |\n",
    "| 2060   | 2122   |\n",
    "| 1444   | 1482   |\n",
    "| 1612   | 1542   |\n",
    "| 1316   | 1443   |\n",
    "| 1511   | 1535   |"
   ]
  },
  {
   "cell_type": "code",
   "execution_count": 13,
   "id": "b9f16af5",
   "metadata": {},
   "outputs": [],
   "source": [
    "normal = [1903, 1935, 1910, 2496, 2108, 1961, 2060, 1444, 1612, 1316, 1511]\n",
    "seca = [2009, 1915, 2011, 2463, 2180, 1925, 2122, 1482, 1542, 1443, 1535]"
   ]
  },
  {
   "cell_type": "code",
   "execution_count": 14,
   "id": "0c121703",
   "metadata": {},
   "outputs": [
    {
     "name": "stdout",
     "output_type": "stream",
     "text": [
      "Não rejeitamos a hipótese nula\n",
      "Valor-p: 0.1230\n"
     ]
    }
   ],
   "source": [
    "alpha = 0.05\n",
    "\n",
    "estat_obs, p_valor = wilcoxon(normal, seca, zero_method='wilcox', \n",
    "                         correction=False, alternative='two-sided', method = 'auto')\n",
    "\n",
    "if p_valor < alpha:\n",
    "    print(\"Rejeitamos a hipótese nula\")\n",
    "else:\n",
    "    print(\"Não rejeitamos a hipótese nula\")\n",
    "\n",
    "print(f\"Valor-p: {p_valor:.4f}\")"
   ]
  },
  {
   "cell_type": "markdown",
   "id": "e200bcac",
   "metadata": {},
   "source": [
    "#### No caso de uma amostra "
   ]
  },
  {
   "cell_type": "code",
   "execution_count": 15,
   "id": "b57e7178",
   "metadata": {},
   "outputs": [
    {
     "name": "stdout",
     "output_type": "stream",
     "text": [
      "Não rejeitamos a hipótese nula\n",
      "Valor-p: 0.8424\n"
     ]
    }
   ],
   "source": [
    "alpha = 0.05\n",
    "\n",
    "amostra = [10.5, 7.5, 18.5, 14, 9, 0, 15.5, 17, 20, 1.5, 1.5, 3, 13, 0, 23, 18.5, 5, 22, 5, 12, 10.5, 7.5, 21, 5, 15.5, 24]\n",
    "\n",
    "# Valor de referência (hipótese nula: mediana igual a este valor)\n",
    "valor_referencia = 10\n",
    "\n",
    "diferencas = [x - valor_referencia for x in amostra]\n",
    "\n",
    "estat_obs, p_valor = wilcoxon(diferencas, zero_method='wilcox', \n",
    "                         correction=False, alternative='less', method = 'auto')\n",
    "\n",
    "if p_valor < alpha:\n",
    "    print(\"Rejeitamos a hipótese nula\")\n",
    "else:\n",
    "    print(\"Não rejeitamos a hipótese nula\")\n",
    "\n",
    "print(f\"Valor-p: {p_valor:.4f}\")"
   ]
  },
  {
   "cell_type": "markdown",
   "id": "c9339fb7",
   "metadata": {},
   "source": [
    "## 7) Teste Wilcoxon-Mann-Whitney (Mann-Whitney U)\n",
    "\n",
    "**Teste para diferença de medianas de duas populações independentes**"
   ]
  },
  {
   "cell_type": "markdown",
   "id": "fb15b3b6",
   "metadata": {},
   "source": [
    "Solomon e Coles, estudaram Ratos para saber se eles generalizam a aprendizagem por meio de imitação quando colocado sobre o novo desafio em uma nova situação.  Cinco ratos foram treinados para imitar ratos líderes em um labirinto. Eles foram treinados a seguir os líderes quando estivessem com fome a fim de obter alimento como recompensa. Depois, os cinco ratos foram transferidos para uma nova situação na qual a imitação dos Ratos líderes os tornaria capazes de evitar choques elétricos.  Seus comportamentos na situação de evitar choques foram comparados com 4 ratos de controle que não tiveram prévio treinamento para seguir líderes. \n",
    "\n",
    "A hipótese foi de que os cinco ratos que já tinham recebido o treinamento para imitar transfeririam este treinamento para a nova situação e, assim, atingiriam os critérios de aprendizagem na situação de evitar choques mais cedo do que os ratos controle. \n",
    "\n",
    "A comparação é feita em termos de quantos ensaios cada rato executou para chegar ao critério de 10 respostas corretas em 10 ensaios.\n",
    "| Grupo experimental | Grupo controle |\n",
    "|:------------------:|:--------------:|\n",
    "|         110        |       78       |\n",
    "|         70         |       64       |\n",
    "|         53         |       75       |\n",
    "|         51         |       45       |\n",
    "|                    |       82       |"
   ]
  },
  {
   "cell_type": "code",
   "execution_count": 16,
   "id": "20192a17",
   "metadata": {},
   "outputs": [],
   "source": [
    "grupo_experimental = [110,70,53,51]\n",
    "grupo_controle = [78,64,75,45,82]"
   ]
  },
  {
   "cell_type": "code",
   "execution_count": 17,
   "id": "2648b8ee",
   "metadata": {},
   "outputs": [
    {
     "name": "stdout",
     "output_type": "stream",
     "text": [
      "Não rejeitamos a hipótese nula\n",
      "Valor p: 0.635\n"
     ]
    }
   ],
   "source": [
    "alpha = 0.05\n",
    "\n",
    "U, p_valor = mannwhitneyu(grupo_experimental, grupo_controle, \n",
    "                          use_continuity=True, alternative='greater', method='exact')\n",
    "if p_valor < alpha:\n",
    "    print(\"Rejeitamos a hipótese nula\")\n",
    "else:\n",
    "    print(\"Não rejeitamos a hipótese nula\")\n",
    "print(\"Valor p:\", p_valor.round(3))"
   ]
  },
  {
   "cell_type": "markdown",
   "id": "a923f296",
   "metadata": {},
   "source": [
    "#### Segundo exemplo: \n",
    "\n",
    "Vamos comparar as notas de física dos alunos de rede pública e privada. Nosso objetivo é entender se as escolas públicas e privadas possuem a mesma mediana de notas para a disciplina de Física. "
   ]
  },
  {
   "cell_type": "code",
   "execution_count": 18,
   "id": "82ad91c6",
   "metadata": {},
   "outputs": [
    {
     "data": {
      "text/html": [
       "<div>\n",
       "<style scoped>\n",
       "    .dataframe tbody tr th:only-of-type {\n",
       "        vertical-align: middle;\n",
       "    }\n",
       "\n",
       "    .dataframe tbody tr th {\n",
       "        vertical-align: top;\n",
       "    }\n",
       "\n",
       "    .dataframe thead th {\n",
       "        text-align: right;\n",
       "    }\n",
       "</style>\n",
       "<table border=\"1\" class=\"dataframe\">\n",
       "  <thead>\n",
       "    <tr style=\"text-align: right;\">\n",
       "      <th></th>\n",
       "      <th>Sujeito</th>\n",
       "      <th>Genero</th>\n",
       "      <th>Escola</th>\n",
       "      <th>Posicao_Sala</th>\n",
       "      <th>Nota_Biol</th>\n",
       "      <th>Nota_Fis</th>\n",
       "      <th>Nota_Hist</th>\n",
       "    </tr>\n",
       "  </thead>\n",
       "  <tbody>\n",
       "    <tr>\n",
       "      <th>0</th>\n",
       "      <td>1</td>\n",
       "      <td>M</td>\n",
       "      <td>Privada</td>\n",
       "      <td>Fundos</td>\n",
       "      <td>8.1</td>\n",
       "      <td>4.6</td>\n",
       "      <td>2.9</td>\n",
       "    </tr>\n",
       "    <tr>\n",
       "      <th>1</th>\n",
       "      <td>2</td>\n",
       "      <td>F</td>\n",
       "      <td>Privada</td>\n",
       "      <td>Fundos</td>\n",
       "      <td>5.3</td>\n",
       "      <td>4.9</td>\n",
       "      <td>6.4</td>\n",
       "    </tr>\n",
       "    <tr>\n",
       "      <th>2</th>\n",
       "      <td>3</td>\n",
       "      <td>M</td>\n",
       "      <td>Publica</td>\n",
       "      <td>Fundos</td>\n",
       "      <td>2.9</td>\n",
       "      <td>3.7</td>\n",
       "      <td>3.1</td>\n",
       "    </tr>\n",
       "    <tr>\n",
       "      <th>3</th>\n",
       "      <td>4</td>\n",
       "      <td>M</td>\n",
       "      <td>Publica</td>\n",
       "      <td>Fundos</td>\n",
       "      <td>3.7</td>\n",
       "      <td>3.8</td>\n",
       "      <td>4.9</td>\n",
       "    </tr>\n",
       "    <tr>\n",
       "      <th>4</th>\n",
       "      <td>5</td>\n",
       "      <td>F</td>\n",
       "      <td>Publica</td>\n",
       "      <td>Fundos</td>\n",
       "      <td>4.4</td>\n",
       "      <td>4.2</td>\n",
       "      <td>4.9</td>\n",
       "    </tr>\n",
       "  </tbody>\n",
       "</table>\n",
       "</div>"
      ],
      "text/plain": [
       "   Sujeito Genero   Escola Posicao_Sala  Nota_Biol  Nota_Fis  Nota_Hist\n",
       "0        1      M  Privada       Fundos        8.1       4.6        2.9\n",
       "1        2      F  Privada       Fundos        5.3       4.9        6.4\n",
       "2        3      M  Publica       Fundos        2.9       3.7        3.1\n",
       "3        4      M  Publica       Fundos        3.7       3.8        4.9\n",
       "4        5      F  Publica       Fundos        4.4       4.2        4.9"
      ]
     },
     "execution_count": 18,
     "metadata": {},
     "output_type": "execute_result"
    }
   ],
   "source": [
    "dados_alunos = pd.read_csv('Alunos_publica_privada.csv', sep= ';', decimal= ',')\n",
    "dados_alunos.head()"
   ]
  },
  {
   "cell_type": "code",
   "execution_count": 19,
   "id": "cd5d2142",
   "metadata": {},
   "outputs": [
    {
     "name": "stdout",
     "output_type": "stream",
     "text": [
      "Rejeitamos a hipótese nula\n",
      "Valor p: 0.016\n"
     ]
    }
   ],
   "source": [
    "alpha = 0.05\n",
    "\n",
    "privada = dados_alunos[dados_alunos.Escola == 'Privada']['Nota_Fis']\n",
    "publica = dados_alunos[dados_alunos.Escola == 'Publica']['Nota_Fis']\n",
    "\n",
    "U, p_valor = mannwhitneyu(privada, publica, use_continuity=True, \n",
    "                          alternative='two-sided', method='auto')\n",
    "\n",
    "if p_valor < alpha:\n",
    "    print(\"Rejeitamos a hipótese nula\")\n",
    "else:\n",
    "    print(\"Não rejeitamos a hipótese nula\")\n",
    "print(\"Valor p:\", p_valor.round(3))"
   ]
  },
  {
   "cell_type": "markdown",
   "id": "f38bbd60",
   "metadata": {},
   "source": [
    "## 8) Teste Kruskall Wallis\n",
    "\n",
    "**Teste para diferença de medianas de K populações independentes**"
   ]
  },
  {
   "cell_type": "markdown",
   "id": "3d6cdf41",
   "metadata": {},
   "source": [
    "Adorno e colegas. Os escores estão apresentados abaixo. \n",
    "Verifique se há diferença na mediana dos grupos.\n",
    "\n",
    "H0: Não há diferença na mediana do grau de autoritarismo dos 3 grupos.\n",
    "\n",
    "H1: Pelo menos uma das medianas é diferentes. \n",
    "\n",
    "\n",
    "\n",
    "\n",
    "| Professores E.F. | Outros Professores | Administradores |\n",
    "|:----------------:|:-----------:|:---------------:|\n",
    "|        96        |      82     |       115       |\n",
    "|        128       |     124     |       149       |\n",
    "|        83        |     132     |       166       |\n",
    "|        61        |     135     |       147       |\n",
    "|        101       |     109     |       165          |"
   ]
  },
  {
   "cell_type": "code",
   "execution_count": 20,
   "id": "3d2f0885",
   "metadata": {},
   "outputs": [
    {
     "name": "stdout",
     "output_type": "stream",
     "text": [
      "Rejeitamos a hipótese nula\n",
      "Valor p: 0.021\n"
     ]
    }
   ],
   "source": [
    "alpha = 0.05\n",
    "\n",
    "prof_ef = [96,128,83,61,101]\n",
    "prof_outros = [82,124,132,135,109]\n",
    "admin = [115,149,166,147,165]\n",
    "\n",
    "estat_obs, p_valor = kruskal(prof_ef, prof_outros, admin)\n",
    "\n",
    "if p_valor < alpha:\n",
    "    print(\"Rejeitamos a hipótese nula\")\n",
    "else:\n",
    "    print(\"Não rejeitamos a hipótese nula\")\n",
    "    \n",
    "print(\"Valor p:\", p_valor.round(3))"
   ]
  },
  {
   "cell_type": "markdown",
   "id": "fbe1f1b2",
   "metadata": {},
   "source": [
    "#### Utilizando o pacote pingouin"
   ]
  },
  {
   "cell_type": "code",
   "execution_count": 21,
   "id": "3aad4515",
   "metadata": {},
   "outputs": [
    {
     "data": {
      "text/html": [
       "<div>\n",
       "<style scoped>\n",
       "    .dataframe tbody tr th:only-of-type {\n",
       "        vertical-align: middle;\n",
       "    }\n",
       "\n",
       "    .dataframe tbody tr th {\n",
       "        vertical-align: top;\n",
       "    }\n",
       "\n",
       "    .dataframe thead th {\n",
       "        text-align: right;\n",
       "    }\n",
       "</style>\n",
       "<table border=\"1\" class=\"dataframe\">\n",
       "  <thead>\n",
       "    <tr style=\"text-align: right;\">\n",
       "      <th></th>\n",
       "      <th>Grupo</th>\n",
       "      <th>Grau</th>\n",
       "    </tr>\n",
       "  </thead>\n",
       "  <tbody>\n",
       "    <tr>\n",
       "      <th>0</th>\n",
       "      <td>prof_ef</td>\n",
       "      <td>96</td>\n",
       "    </tr>\n",
       "    <tr>\n",
       "      <th>1</th>\n",
       "      <td>prof_ef</td>\n",
       "      <td>128</td>\n",
       "    </tr>\n",
       "    <tr>\n",
       "      <th>2</th>\n",
       "      <td>prof_ef</td>\n",
       "      <td>83</td>\n",
       "    </tr>\n",
       "    <tr>\n",
       "      <th>3</th>\n",
       "      <td>prof_ef</td>\n",
       "      <td>61</td>\n",
       "    </tr>\n",
       "    <tr>\n",
       "      <th>4</th>\n",
       "      <td>prof_ef</td>\n",
       "      <td>101</td>\n",
       "    </tr>\n",
       "    <tr>\n",
       "      <th>5</th>\n",
       "      <td>prof_outros</td>\n",
       "      <td>82</td>\n",
       "    </tr>\n",
       "    <tr>\n",
       "      <th>6</th>\n",
       "      <td>prof_outros</td>\n",
       "      <td>124</td>\n",
       "    </tr>\n",
       "    <tr>\n",
       "      <th>7</th>\n",
       "      <td>prof_outros</td>\n",
       "      <td>132</td>\n",
       "    </tr>\n",
       "    <tr>\n",
       "      <th>8</th>\n",
       "      <td>prof_outros</td>\n",
       "      <td>135</td>\n",
       "    </tr>\n",
       "    <tr>\n",
       "      <th>9</th>\n",
       "      <td>prof_outros</td>\n",
       "      <td>109</td>\n",
       "    </tr>\n",
       "    <tr>\n",
       "      <th>10</th>\n",
       "      <td>admin</td>\n",
       "      <td>115</td>\n",
       "    </tr>\n",
       "    <tr>\n",
       "      <th>11</th>\n",
       "      <td>admin</td>\n",
       "      <td>149</td>\n",
       "    </tr>\n",
       "    <tr>\n",
       "      <th>12</th>\n",
       "      <td>admin</td>\n",
       "      <td>166</td>\n",
       "    </tr>\n",
       "    <tr>\n",
       "      <th>13</th>\n",
       "      <td>admin</td>\n",
       "      <td>147</td>\n",
       "    </tr>\n",
       "    <tr>\n",
       "      <th>14</th>\n",
       "      <td>admin</td>\n",
       "      <td>165</td>\n",
       "    </tr>\n",
       "  </tbody>\n",
       "</table>\n",
       "</div>"
      ],
      "text/plain": [
       "          Grupo  Grau\n",
       "0       prof_ef    96\n",
       "1       prof_ef   128\n",
       "2       prof_ef    83\n",
       "3       prof_ef    61\n",
       "4       prof_ef   101\n",
       "5   prof_outros    82\n",
       "6   prof_outros   124\n",
       "7   prof_outros   132\n",
       "8   prof_outros   135\n",
       "9   prof_outros   109\n",
       "10        admin   115\n",
       "11        admin   149\n",
       "12        admin   166\n",
       "13        admin   147\n",
       "14        admin   165"
      ]
     },
     "execution_count": 21,
     "metadata": {},
     "output_type": "execute_result"
    }
   ],
   "source": [
    "dados = pd.DataFrame({'prof_ef': prof_ef, 'prof_outros': prof_outros, 'admin': admin})\n",
    "\n",
    "dados_pivotados = pd.melt(dados, var_name='Grupo', value_name='Grau')\n",
    "dados_pivotados"
   ]
  },
  {
   "cell_type": "code",
   "execution_count": 22,
   "id": "cd0b825b",
   "metadata": {},
   "outputs": [
    {
     "data": {
      "text/html": [
       "<div>\n",
       "<style scoped>\n",
       "    .dataframe tbody tr th:only-of-type {\n",
       "        vertical-align: middle;\n",
       "    }\n",
       "\n",
       "    .dataframe tbody tr th {\n",
       "        vertical-align: top;\n",
       "    }\n",
       "\n",
       "    .dataframe thead th {\n",
       "        text-align: right;\n",
       "    }\n",
       "</style>\n",
       "<table border=\"1\" class=\"dataframe\">\n",
       "  <thead>\n",
       "    <tr style=\"text-align: right;\">\n",
       "      <th></th>\n",
       "      <th>Source</th>\n",
       "      <th>ddof1</th>\n",
       "      <th>H</th>\n",
       "      <th>p-unc</th>\n",
       "    </tr>\n",
       "  </thead>\n",
       "  <tbody>\n",
       "    <tr>\n",
       "      <th>Kruskal</th>\n",
       "      <td>Grupo</td>\n",
       "      <td>2</td>\n",
       "      <td>7.74</td>\n",
       "      <td>0.020858</td>\n",
       "    </tr>\n",
       "  </tbody>\n",
       "</table>\n",
       "</div>"
      ],
      "text/plain": [
       "        Source  ddof1     H     p-unc\n",
       "Kruskal  Grupo      2  7.74  0.020858"
      ]
     },
     "execution_count": 22,
     "metadata": {},
     "output_type": "execute_result"
    }
   ],
   "source": [
    "Kruskall = pg.kruskal(data = dados_pivotados, dv='Grau', between='Grupo')\n",
    "Kruskall"
   ]
  },
  {
   "cell_type": "code",
   "execution_count": 23,
   "id": "03094cba",
   "metadata": {},
   "outputs": [
    {
     "data": {
      "text/html": [
       "<div>\n",
       "<style scoped>\n",
       "    .dataframe tbody tr th:only-of-type {\n",
       "        vertical-align: middle;\n",
       "    }\n",
       "\n",
       "    .dataframe tbody tr th {\n",
       "        vertical-align: top;\n",
       "    }\n",
       "\n",
       "    .dataframe thead th {\n",
       "        text-align: right;\n",
       "    }\n",
       "</style>\n",
       "<table border=\"1\" class=\"dataframe\">\n",
       "  <thead>\n",
       "    <tr style=\"text-align: right;\">\n",
       "      <th></th>\n",
       "      <th>admin</th>\n",
       "      <th>prof_ef</th>\n",
       "      <th>prof_outros</th>\n",
       "    </tr>\n",
       "  </thead>\n",
       "  <tbody>\n",
       "    <tr>\n",
       "      <th>admin</th>\n",
       "      <td>1.000000</td>\n",
       "      <td>0.017462</td>\n",
       "      <td>0.269058</td>\n",
       "    </tr>\n",
       "    <tr>\n",
       "      <th>prof_ef</th>\n",
       "      <td>0.017462</td>\n",
       "      <td>1.000000</td>\n",
       "      <td>0.866533</td>\n",
       "    </tr>\n",
       "    <tr>\n",
       "      <th>prof_outros</th>\n",
       "      <td>0.269058</td>\n",
       "      <td>0.866533</td>\n",
       "      <td>1.000000</td>\n",
       "    </tr>\n",
       "  </tbody>\n",
       "</table>\n",
       "</div>"
      ],
      "text/plain": [
       "                admin   prof_ef  prof_outros\n",
       "admin        1.000000  0.017462     0.269058\n",
       "prof_ef      0.017462  1.000000     0.866533\n",
       "prof_outros  0.269058  0.866533     1.000000"
      ]
     },
     "execution_count": 23,
     "metadata": {},
     "output_type": "execute_result"
    }
   ],
   "source": [
    "posthoc_dunn( dados_pivotados, val_col='Grau', group_col='Grupo', p_adjust = 'bonferroni')"
   ]
  },
  {
   "cell_type": "markdown",
   "id": "b4c2d189",
   "metadata": {},
   "source": [
    "## 9) Teste Q-Cochran\n",
    "\n",
    "**Teste de diferença de proporções para K populações dependentes.** (Generalização do teste McNemar)"
   ]
  },
  {
   "cell_type": "markdown",
   "id": "297774b9",
   "metadata": {},
   "source": [
    "Deseja-se analisar a influência da atitude de um entrevistador sobre as respostas a uma pesquisa sobre opinião pública, dadas por donas de casa. Os entrevistadores são treinados de acordo com os seguintes métodos:\n",
    "\n",
    "I – Demonstrando interesse, cordialidade, entusiasmo\n",
    "\n",
    "II – Demonstrando formalismo, reserva e cortesia\n",
    "\n",
    "III – Demonstrando modo abrupto, formalismo áspero. \n",
    "\n",
    "\n",
    "Cada entrevistador visita 18 casas (uma casa em cada bairro) e aplica um dos métodos de abordagem. \n",
    "\n",
    "Os resultados estão demonstrados na tabela ao lado. \n",
    "Obs: 0: não ; 1: sim"
   ]
  },
  {
   "cell_type": "code",
   "execution_count": 24,
   "id": "a4b44fe6",
   "metadata": {},
   "outputs": [
    {
     "data": {
      "text/html": [
       "<div>\n",
       "<style scoped>\n",
       "    .dataframe tbody tr th:only-of-type {\n",
       "        vertical-align: middle;\n",
       "    }\n",
       "\n",
       "    .dataframe tbody tr th {\n",
       "        vertical-align: top;\n",
       "    }\n",
       "\n",
       "    .dataframe thead th {\n",
       "        text-align: right;\n",
       "    }\n",
       "</style>\n",
       "<table border=\"1\" class=\"dataframe\">\n",
       "  <thead>\n",
       "    <tr style=\"text-align: right;\">\n",
       "      <th></th>\n",
       "      <th>Bairro</th>\n",
       "      <th>Grupos</th>\n",
       "      <th>Resposta</th>\n",
       "    </tr>\n",
       "  </thead>\n",
       "  <tbody>\n",
       "    <tr>\n",
       "      <th>0</th>\n",
       "      <td>1</td>\n",
       "      <td>Ent.1</td>\n",
       "      <td>0</td>\n",
       "    </tr>\n",
       "    <tr>\n",
       "      <th>1</th>\n",
       "      <td>2</td>\n",
       "      <td>Ent.1</td>\n",
       "      <td>1</td>\n",
       "    </tr>\n",
       "    <tr>\n",
       "      <th>2</th>\n",
       "      <td>3</td>\n",
       "      <td>Ent.1</td>\n",
       "      <td>0</td>\n",
       "    </tr>\n",
       "    <tr>\n",
       "      <th>3</th>\n",
       "      <td>4</td>\n",
       "      <td>Ent.1</td>\n",
       "      <td>0</td>\n",
       "    </tr>\n",
       "    <tr>\n",
       "      <th>4</th>\n",
       "      <td>5</td>\n",
       "      <td>Ent.1</td>\n",
       "      <td>1</td>\n",
       "    </tr>\n",
       "  </tbody>\n",
       "</table>\n",
       "</div>"
      ],
      "text/plain": [
       "   Bairro Grupos  Resposta\n",
       "0       1  Ent.1         0\n",
       "1       2  Ent.1         1\n",
       "2       3  Ent.1         0\n",
       "3       4  Ent.1         0\n",
       "4       5  Ent.1         1"
      ]
     },
     "execution_count": 24,
     "metadata": {},
     "output_type": "execute_result"
    }
   ],
   "source": [
    "data = {\n",
    "    'Bairro': [1, 2, 3, 4, 5, 6, 7, 8, 9, 10, 11, 12, 13, 14, 15, 16, 17, 18],\n",
    "    'Ent.1': [0, 1, 0, 0, 1, 1, 1, 0, 1, 0, 1, 1, 1, 1, 1, 1, 1, 1],\n",
    "    'Ent.2': [0, 1, 1, 0, 0, 1, 1, 1, 0, 0, 1, 1, 1, 1, 1, 1, 1, 1],\n",
    "    'Ent.3': [0, 0, 0, 0, 0, 0, 0, 0, 0, 0, 1, 1, 0, 0, 0, 1, 0, 0]\n",
    "        }\n",
    "\n",
    "df = pd.DataFrame(data)\n",
    "\n",
    "dados_pivotados = pd.melt(df, id_vars='Bairro', var_name='Grupos', value_name='Resposta')\n",
    "dados_pivotados.head()"
   ]
  },
  {
   "cell_type": "code",
   "execution_count": 25,
   "id": "358194a0",
   "metadata": {},
   "outputs": [
    {
     "data": {
      "text/html": [
       "<div>\n",
       "<style scoped>\n",
       "    .dataframe tbody tr th:only-of-type {\n",
       "        vertical-align: middle;\n",
       "    }\n",
       "\n",
       "    .dataframe tbody tr th {\n",
       "        vertical-align: top;\n",
       "    }\n",
       "\n",
       "    .dataframe thead th {\n",
       "        text-align: right;\n",
       "    }\n",
       "</style>\n",
       "<table border=\"1\" class=\"dataframe\">\n",
       "  <thead>\n",
       "    <tr style=\"text-align: right;\">\n",
       "      <th></th>\n",
       "      <th>Source</th>\n",
       "      <th>dof</th>\n",
       "      <th>Q</th>\n",
       "      <th>p-unc</th>\n",
       "    </tr>\n",
       "  </thead>\n",
       "  <tbody>\n",
       "    <tr>\n",
       "      <th>cochran</th>\n",
       "      <td>Grupos</td>\n",
       "      <td>2</td>\n",
       "      <td>16.666667</td>\n",
       "      <td>0.00024</td>\n",
       "    </tr>\n",
       "  </tbody>\n",
       "</table>\n",
       "</div>"
      ],
      "text/plain": [
       "         Source  dof          Q    p-unc\n",
       "cochran  Grupos    2  16.666667  0.00024"
      ]
     },
     "execution_count": 25,
     "metadata": {},
     "output_type": "execute_result"
    }
   ],
   "source": [
    "pg.cochran(data=dados_pivotados, subject='Bairro', dv='Resposta', within='Grupos')"
   ]
  },
  {
   "cell_type": "code",
   "execution_count": 26,
   "id": "d79d8b86",
   "metadata": {},
   "outputs": [
    {
     "data": {
      "text/html": [
       "<div>\n",
       "<style scoped>\n",
       "    .dataframe tbody tr th:only-of-type {\n",
       "        vertical-align: middle;\n",
       "    }\n",
       "\n",
       "    .dataframe tbody tr th {\n",
       "        vertical-align: top;\n",
       "    }\n",
       "\n",
       "    .dataframe thead th {\n",
       "        text-align: right;\n",
       "    }\n",
       "</style>\n",
       "<table border=\"1\" class=\"dataframe\">\n",
       "  <thead>\n",
       "    <tr style=\"text-align: right;\">\n",
       "      <th></th>\n",
       "      <th>Ent.1</th>\n",
       "      <th>Ent.2</th>\n",
       "      <th>Ent.3</th>\n",
       "    </tr>\n",
       "  </thead>\n",
       "  <tbody>\n",
       "    <tr>\n",
       "      <th>Ent.1</th>\n",
       "      <td>1.000000</td>\n",
       "      <td>1.000000</td>\n",
       "      <td>0.002785</td>\n",
       "    </tr>\n",
       "    <tr>\n",
       "      <th>Ent.2</th>\n",
       "      <td>1.000000</td>\n",
       "      <td>1.000000</td>\n",
       "      <td>0.002785</td>\n",
       "    </tr>\n",
       "    <tr>\n",
       "      <th>Ent.3</th>\n",
       "      <td>0.002785</td>\n",
       "      <td>0.002785</td>\n",
       "      <td>1.000000</td>\n",
       "    </tr>\n",
       "  </tbody>\n",
       "</table>\n",
       "</div>"
      ],
      "text/plain": [
       "          Ent.1     Ent.2     Ent.3\n",
       "Ent.1  1.000000  1.000000  0.002785\n",
       "Ent.2  1.000000  1.000000  0.002785\n",
       "Ent.3  0.002785  0.002785  1.000000"
      ]
     },
     "execution_count": 26,
     "metadata": {},
     "output_type": "execute_result"
    }
   ],
   "source": [
    "posthoc_dunn(dados_pivotados, val_col='Resposta', group_col='Grupos', p_adjust = 'bonferroni')"
   ]
  },
  {
   "cell_type": "markdown",
   "id": "a32a7a1c",
   "metadata": {},
   "source": [
    "## 9) Teste W-Friedman \n",
    "\n",
    "**ANOVA de dois fatores de Friedman por postos**\n",
    "\n",
    "**Teste de diferença de medianas para K amostras dependentes**"
   ]
  },
  {
   "cell_type": "markdown",
   "id": "17d9005c",
   "metadata": {},
   "source": [
    "Uma pesquisa foi delineada para avaliar a eficácia de um programa para a redução do estresse baseado em meditação, para pacientes com problemas de ansiedade. \n",
    "\n",
    "Foi medido o escore de Ansiedade da Escala Hamilton em quatro momentos diferentes: recrutamento (IR), pré-tratamento (Pré), pós-tratamento (Pós) e três meses após o pós-tratamento (3-M). \n",
    "\n",
    "O tratamento aparenta ter surtido efeito?"
   ]
  },
  {
   "cell_type": "code",
   "execution_count": 27,
   "id": "24d42a59",
   "metadata": {},
   "outputs": [
    {
     "data": {
      "text/html": [
       "<div>\n",
       "<style scoped>\n",
       "    .dataframe tbody tr th:only-of-type {\n",
       "        vertical-align: middle;\n",
       "    }\n",
       "\n",
       "    .dataframe tbody tr th {\n",
       "        vertical-align: top;\n",
       "    }\n",
       "\n",
       "    .dataframe thead th {\n",
       "        text-align: right;\n",
       "    }\n",
       "</style>\n",
       "<table border=\"1\" class=\"dataframe\">\n",
       "  <thead>\n",
       "    <tr style=\"text-align: right;\">\n",
       "      <th></th>\n",
       "      <th>Sujeito</th>\n",
       "      <th>Grupos</th>\n",
       "      <th>Escore</th>\n",
       "    </tr>\n",
       "  </thead>\n",
       "  <tbody>\n",
       "    <tr>\n",
       "      <th>0</th>\n",
       "      <td>1</td>\n",
       "      <td>IR</td>\n",
       "      <td>21</td>\n",
       "    </tr>\n",
       "    <tr>\n",
       "      <th>1</th>\n",
       "      <td>2</td>\n",
       "      <td>IR</td>\n",
       "      <td>30</td>\n",
       "    </tr>\n",
       "    <tr>\n",
       "      <th>2</th>\n",
       "      <td>3</td>\n",
       "      <td>IR</td>\n",
       "      <td>38</td>\n",
       "    </tr>\n",
       "    <tr>\n",
       "      <th>3</th>\n",
       "      <td>4</td>\n",
       "      <td>IR</td>\n",
       "      <td>43</td>\n",
       "    </tr>\n",
       "    <tr>\n",
       "      <th>4</th>\n",
       "      <td>5</td>\n",
       "      <td>IR</td>\n",
       "      <td>35</td>\n",
       "    </tr>\n",
       "  </tbody>\n",
       "</table>\n",
       "</div>"
      ],
      "text/plain": [
       "   Sujeito Grupos  Escore\n",
       "0        1     IR      21\n",
       "1        2     IR      30\n",
       "2        3     IR      38\n",
       "3        4     IR      43\n",
       "4        5     IR      35"
      ]
     },
     "execution_count": 27,
     "metadata": {},
     "output_type": "execute_result"
    }
   ],
   "source": [
    "data = {\n",
    "    'Sujeito': [1, 2, 3, 4, 5, 6, 7, 8, 9, 10, 11, 12, 13, 14],\n",
    "    'IR': [21, 30, 38, 43, 35, 40, 27, 18, 31, 21, 18, 28, 40, 35],\n",
    "    'Pre': [21, 38, 19, 33, 34, 40, 15, 11, 42, 23, 24, 8, 37, 32],\n",
    "    'Pos': [16, 10, 15, 30, 25, 31, 11, 4, 23, 21, 16, 5, 31, 12],\n",
    "    '3M': [19, 21, 6, 24, 10, 30, 6, 7, 27, 17, 13, 2, 19, 21]\n",
    "}\n",
    "\n",
    "df = pd.DataFrame(data)\n",
    "\n",
    "dados_pivotados = pd.melt(df, id_vars='Sujeito', var_name='Grupos', value_name='Escore')\n",
    "dados_pivotados.head()"
   ]
  },
  {
   "cell_type": "code",
   "execution_count": 28,
   "id": "01d9788c",
   "metadata": {
    "scrolled": true
   },
   "outputs": [
    {
     "data": {
      "text/html": [
       "<div>\n",
       "<style scoped>\n",
       "    .dataframe tbody tr th:only-of-type {\n",
       "        vertical-align: middle;\n",
       "    }\n",
       "\n",
       "    .dataframe tbody tr th {\n",
       "        vertical-align: top;\n",
       "    }\n",
       "\n",
       "    .dataframe thead th {\n",
       "        text-align: right;\n",
       "    }\n",
       "</style>\n",
       "<table border=\"1\" class=\"dataframe\">\n",
       "  <thead>\n",
       "    <tr style=\"text-align: right;\">\n",
       "      <th></th>\n",
       "      <th>Source</th>\n",
       "      <th>W</th>\n",
       "      <th>ddof1</th>\n",
       "      <th>Q</th>\n",
       "      <th>p-unc</th>\n",
       "    </tr>\n",
       "  </thead>\n",
       "  <tbody>\n",
       "    <tr>\n",
       "      <th>Friedman</th>\n",
       "      <td>Grupos</td>\n",
       "      <td>0.8055</td>\n",
       "      <td>3</td>\n",
       "      <td>33.8321</td>\n",
       "      <td>0.0000</td>\n",
       "    </tr>\n",
       "  </tbody>\n",
       "</table>\n",
       "</div>"
      ],
      "text/plain": [
       "          Source      W  ddof1       Q  p-unc\n",
       "Friedman  Grupos 0.8055      3 33.8321 0.0000"
      ]
     },
     "execution_count": 28,
     "metadata": {},
     "output_type": "execute_result"
    }
   ],
   "source": [
    "pd.options.display.float_format = '{:.4f}'.format\n",
    "pg.friedman(data=dados_pivotados, subject='Sujeito', dv='Escore', within='Grupos')"
   ]
  },
  {
   "cell_type": "markdown",
   "id": "22837b78",
   "metadata": {},
   "source": [
    "#### Testes post-hoc"
   ]
  },
  {
   "cell_type": "code",
   "execution_count": 29,
   "id": "3f5afd67",
   "metadata": {},
   "outputs": [
    {
     "name": "stderr",
     "output_type": "stream",
     "text": [
      "/opt/anaconda3/lib/python3.11/site-packages/scipy/stats/_morestats.py:4088: UserWarning: Exact p-value calculation does not work if there are zeros. Switching to normal approximation.\n",
      "  warnings.warn(\"Exact p-value calculation does not work if there are \"\n"
     ]
    },
    {
     "data": {
      "text/html": [
       "<div>\n",
       "<style scoped>\n",
       "    .dataframe tbody tr th:only-of-type {\n",
       "        vertical-align: middle;\n",
       "    }\n",
       "\n",
       "    .dataframe tbody tr th {\n",
       "        vertical-align: top;\n",
       "    }\n",
       "\n",
       "    .dataframe thead th {\n",
       "        text-align: right;\n",
       "    }\n",
       "</style>\n",
       "<table border=\"1\" class=\"dataframe\">\n",
       "  <thead>\n",
       "    <tr style=\"text-align: right;\">\n",
       "      <th></th>\n",
       "      <th>Contrast</th>\n",
       "      <th>A</th>\n",
       "      <th>B</th>\n",
       "      <th>Paired</th>\n",
       "      <th>Parametric</th>\n",
       "      <th>W-val</th>\n",
       "      <th>alternative</th>\n",
       "      <th>p-unc</th>\n",
       "      <th>p-corr</th>\n",
       "      <th>p-adjust</th>\n",
       "      <th>hedges</th>\n",
       "    </tr>\n",
       "  </thead>\n",
       "  <tbody>\n",
       "    <tr>\n",
       "      <th>0</th>\n",
       "      <td>Grupos</td>\n",
       "      <td>3M</td>\n",
       "      <td>IR</td>\n",
       "      <td>True</td>\n",
       "      <td>False</td>\n",
       "      <td>0.0000</td>\n",
       "      <td>two-sided</td>\n",
       "      <td>0.0001</td>\n",
       "      <td>0.0007</td>\n",
       "      <td>bonf</td>\n",
       "      <td>-1.6395</td>\n",
       "    </tr>\n",
       "    <tr>\n",
       "      <th>1</th>\n",
       "      <td>Grupos</td>\n",
       "      <td>3M</td>\n",
       "      <td>Pos</td>\n",
       "      <td>True</td>\n",
       "      <td>False</td>\n",
       "      <td>36.0000</td>\n",
       "      <td>two-sided</td>\n",
       "      <td>0.3258</td>\n",
       "      <td>1.0000</td>\n",
       "      <td>bonf</td>\n",
       "      <td>-0.2178</td>\n",
       "    </tr>\n",
       "    <tr>\n",
       "      <th>2</th>\n",
       "      <td>Grupos</td>\n",
       "      <td>3M</td>\n",
       "      <td>Pre</td>\n",
       "      <td>True</td>\n",
       "      <td>False</td>\n",
       "      <td>0.0000</td>\n",
       "      <td>two-sided</td>\n",
       "      <td>0.0001</td>\n",
       "      <td>0.0007</td>\n",
       "      <td>bonf</td>\n",
       "      <td>-1.0785</td>\n",
       "    </tr>\n",
       "    <tr>\n",
       "      <th>3</th>\n",
       "      <td>Grupos</td>\n",
       "      <td>IR</td>\n",
       "      <td>Pos</td>\n",
       "      <td>True</td>\n",
       "      <td>False</td>\n",
       "      <td>0.0000</td>\n",
       "      <td>two-sided</td>\n",
       "      <td>0.0016</td>\n",
       "      <td>0.0098</td>\n",
       "      <td>bonf</td>\n",
       "      <td>1.3698</td>\n",
       "    </tr>\n",
       "    <tr>\n",
       "      <th>4</th>\n",
       "      <td>Grupos</td>\n",
       "      <td>IR</td>\n",
       "      <td>Pre</td>\n",
       "      <td>True</td>\n",
       "      <td>False</td>\n",
       "      <td>23.0000</td>\n",
       "      <td>two-sided</td>\n",
       "      <td>0.2238</td>\n",
       "      <td>1.0000</td>\n",
       "      <td>bonf</td>\n",
       "      <td>0.3357</td>\n",
       "    </tr>\n",
       "    <tr>\n",
       "      <th>5</th>\n",
       "      <td>Grupos</td>\n",
       "      <td>Pos</td>\n",
       "      <td>Pre</td>\n",
       "      <td>True</td>\n",
       "      <td>False</td>\n",
       "      <td>0.0000</td>\n",
       "      <td>two-sided</td>\n",
       "      <td>0.0001</td>\n",
       "      <td>0.0007</td>\n",
       "      <td>bonf</td>\n",
       "      <td>-0.8632</td>\n",
       "    </tr>\n",
       "  </tbody>\n",
       "</table>\n",
       "</div>"
      ],
      "text/plain": [
       "  Contrast    A    B  Paired  Parametric   W-val alternative  p-unc  p-corr  \\\n",
       "0   Grupos   3M   IR    True       False  0.0000   two-sided 0.0001  0.0007   \n",
       "1   Grupos   3M  Pos    True       False 36.0000   two-sided 0.3258  1.0000   \n",
       "2   Grupos   3M  Pre    True       False  0.0000   two-sided 0.0001  0.0007   \n",
       "3   Grupos   IR  Pos    True       False  0.0000   two-sided 0.0016  0.0098   \n",
       "4   Grupos   IR  Pre    True       False 23.0000   two-sided 0.2238  1.0000   \n",
       "5   Grupos  Pos  Pre    True       False  0.0000   two-sided 0.0001  0.0007   \n",
       "\n",
       "  p-adjust  hedges  \n",
       "0     bonf -1.6395  \n",
       "1     bonf -0.2178  \n",
       "2     bonf -1.0785  \n",
       "3     bonf  1.3698  \n",
       "4     bonf  0.3357  \n",
       "5     bonf -0.8632  "
      ]
     },
     "execution_count": 29,
     "metadata": {},
     "output_type": "execute_result"
    }
   ],
   "source": [
    "# pingouin post-hoc \n",
    "\n",
    "pg.pairwise_tests(dv='Escore', within='Grupos', subject='Sujeito',data=dados_pivotados,\n",
    "                  parametric= False, padjust='bonf', alpha = 0.05)"
   ]
  },
  {
   "cell_type": "code",
   "execution_count": 30,
   "id": "c2821382",
   "metadata": {},
   "outputs": [
    {
     "data": {
      "text/html": [
       "<div>\n",
       "<style scoped>\n",
       "    .dataframe tbody tr th:only-of-type {\n",
       "        vertical-align: middle;\n",
       "    }\n",
       "\n",
       "    .dataframe tbody tr th {\n",
       "        vertical-align: top;\n",
       "    }\n",
       "\n",
       "    .dataframe thead th {\n",
       "        text-align: right;\n",
       "    }\n",
       "</style>\n",
       "<table border=\"1\" class=\"dataframe\">\n",
       "  <thead>\n",
       "    <tr style=\"text-align: right;\">\n",
       "      <th></th>\n",
       "      <th>3M</th>\n",
       "      <th>IR</th>\n",
       "      <th>Pos</th>\n",
       "      <th>Pre</th>\n",
       "    </tr>\n",
       "  </thead>\n",
       "  <tbody>\n",
       "    <tr>\n",
       "      <th>3M</th>\n",
       "      <td>1.0000</td>\n",
       "      <td>0.0040</td>\n",
       "      <td>1.0000</td>\n",
       "      <td>0.0516</td>\n",
       "    </tr>\n",
       "    <tr>\n",
       "      <th>IR</th>\n",
       "      <td>0.0040</td>\n",
       "      <td>1.0000</td>\n",
       "      <td>0.0182</td>\n",
       "      <td>1.0000</td>\n",
       "    </tr>\n",
       "    <tr>\n",
       "      <th>Pos</th>\n",
       "      <td>1.0000</td>\n",
       "      <td>0.0182</td>\n",
       "      <td>1.0000</td>\n",
       "      <td>0.1727</td>\n",
       "    </tr>\n",
       "    <tr>\n",
       "      <th>Pre</th>\n",
       "      <td>0.0516</td>\n",
       "      <td>1.0000</td>\n",
       "      <td>0.1727</td>\n",
       "      <td>1.0000</td>\n",
       "    </tr>\n",
       "  </tbody>\n",
       "</table>\n",
       "</div>"
      ],
      "text/plain": [
       "        3M     IR    Pos    Pre\n",
       "3M  1.0000 0.0040 1.0000 0.0516\n",
       "IR  0.0040 1.0000 0.0182 1.0000\n",
       "Pos 1.0000 0.0182 1.0000 0.1727\n",
       "Pre 0.0516 1.0000 0.1727 1.0000"
      ]
     },
     "execution_count": 30,
     "metadata": {},
     "output_type": "execute_result"
    }
   ],
   "source": [
    "# dunn post-hoc\n",
    "\n",
    "posthoc_dunn(dados_pivotados, val_col='Escore', group_col='Grupos', p_adjust = 'bonferroni')"
   ]
  },
  {
   "cell_type": "code",
   "execution_count": 31,
   "id": "54f14167",
   "metadata": {},
   "outputs": [
    {
     "name": "stderr",
     "output_type": "stream",
     "text": [
      "/opt/anaconda3/lib/python3.11/site-packages/scipy/stats/_morestats.py:4088: UserWarning: Exact p-value calculation does not work if there are zeros. Switching to normal approximation.\n",
      "  warnings.warn(\"Exact p-value calculation does not work if there are \"\n"
     ]
    },
    {
     "data": {
      "text/html": [
       "<div>\n",
       "<style scoped>\n",
       "    .dataframe tbody tr th:only-of-type {\n",
       "        vertical-align: middle;\n",
       "    }\n",
       "\n",
       "    .dataframe tbody tr th {\n",
       "        vertical-align: top;\n",
       "    }\n",
       "\n",
       "    .dataframe thead th {\n",
       "        text-align: right;\n",
       "    }\n",
       "</style>\n",
       "<table border=\"1\" class=\"dataframe\">\n",
       "  <thead>\n",
       "    <tr style=\"text-align: right;\">\n",
       "      <th></th>\n",
       "      <th>IR</th>\n",
       "      <th>Pre</th>\n",
       "      <th>Pos</th>\n",
       "      <th>3M</th>\n",
       "    </tr>\n",
       "  </thead>\n",
       "  <tbody>\n",
       "    <tr>\n",
       "      <th>IR</th>\n",
       "      <td>1.0000</td>\n",
       "      <td>1.0000</td>\n",
       "      <td>0.0098</td>\n",
       "      <td>0.0007</td>\n",
       "    </tr>\n",
       "    <tr>\n",
       "      <th>Pre</th>\n",
       "      <td>1.0000</td>\n",
       "      <td>1.0000</td>\n",
       "      <td>0.0007</td>\n",
       "      <td>0.0007</td>\n",
       "    </tr>\n",
       "    <tr>\n",
       "      <th>Pos</th>\n",
       "      <td>0.0098</td>\n",
       "      <td>0.0007</td>\n",
       "      <td>1.0000</td>\n",
       "      <td>1.0000</td>\n",
       "    </tr>\n",
       "    <tr>\n",
       "      <th>3M</th>\n",
       "      <td>0.0007</td>\n",
       "      <td>0.0007</td>\n",
       "      <td>1.0000</td>\n",
       "      <td>1.0000</td>\n",
       "    </tr>\n",
       "  </tbody>\n",
       "</table>\n",
       "</div>"
      ],
      "text/plain": [
       "        IR    Pre    Pos     3M\n",
       "IR  1.0000 1.0000 0.0098 0.0007\n",
       "Pre 1.0000 1.0000 0.0007 0.0007\n",
       "Pos 0.0098 0.0007 1.0000 1.0000\n",
       "3M  0.0007 0.0007 1.0000 1.0000"
      ]
     },
     "execution_count": 31,
     "metadata": {},
     "output_type": "execute_result"
    }
   ],
   "source": [
    "# scipy post-hoc\n",
    "\n",
    "scipost. posthoc_wilcoxon(dados_pivotados, group_col='Grupos', \n",
    "                          val_col='Escore', p_adjust='bonferroni', \n",
    "                          zero_method = 'wilcox', correction= True)"
   ]
  }
 ],
 "metadata": {
  "kernelspec": {
   "display_name": "Python 3 (ipykernel)",
   "language": "python",
   "name": "python3"
  },
  "language_info": {
   "codemirror_mode": {
    "name": "ipython",
    "version": 3
   },
   "file_extension": ".py",
   "mimetype": "text/x-python",
   "name": "python",
   "nbconvert_exporter": "python",
   "pygments_lexer": "ipython3",
   "version": "3.11.7"
  }
 },
 "nbformat": 4,
 "nbformat_minor": 5
}
